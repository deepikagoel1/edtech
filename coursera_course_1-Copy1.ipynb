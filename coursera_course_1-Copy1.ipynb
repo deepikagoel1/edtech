{
 "cells": [
  {
   "cell_type": "markdown",
   "id": "e7eef06b",
   "metadata": {
    "papermill": {
     "duration": 0.049216,
     "end_time": "2022-01-26T14:19:43.233990",
     "exception": false,
     "start_time": "2022-01-26T14:19:43.184774",
     "status": "completed"
    },
    "tags": []
   },
   "source": [
    "# Importing Dependencies"
   ]
  },
  {
   "cell_type": "code",
   "execution_count": 1,
   "id": "b46414c5",
   "metadata": {
    "execution": {
     "iopub.execute_input": "2022-01-26T14:19:43.344315Z",
     "iopub.status.busy": "2022-01-26T14:19:43.343625Z",
     "iopub.status.idle": "2022-01-26T14:19:44.396797Z",
     "shell.execute_reply": "2022-01-26T14:19:44.396055Z",
     "shell.execute_reply.started": "2022-01-26T12:46:03.692767Z"
    },
    "papermill": {
     "duration": 1.112674,
     "end_time": "2022-01-26T14:19:44.396964",
     "exception": false,
     "start_time": "2022-01-26T14:19:43.284290",
     "status": "completed"
    },
    "tags": []
   },
   "outputs": [
    {
     "name": "stdout",
     "output_type": "stream",
     "text": [
      "Dependencies Imported\n"
     ]
    }
   ],
   "source": [
    "import os\n",
    "import numpy as np\n",
    "import pandas as pd\n",
    "import matplotlib.pyplot as plt\n",
    "import seaborn as sns\n",
    "print('Dependencies Imported')"
   ]
  },
  {
   "cell_type": "code",
   "execution_count": 2,
   "id": "45a067e6",
   "metadata": {
    "execution": {
     "iopub.execute_input": "2022-01-26T14:19:44.502712Z",
     "iopub.status.busy": "2022-01-26T14:19:44.501653Z",
     "iopub.status.idle": "2022-01-26T14:19:44.700849Z",
     "shell.execute_reply": "2022-01-26T14:19:44.701361Z",
     "shell.execute_reply.started": "2022-01-26T12:46:47.573105Z"
    },
    "papermill": {
     "duration": 0.253163,
     "end_time": "2022-01-26T14:19:44.701566",
     "exception": false,
     "start_time": "2022-01-26T14:19:44.448403",
     "status": "completed"
    },
    "tags": []
   },
   "outputs": [
    {
     "data": {
      "text/html": [
       "<div>\n",
       "<style scoped>\n",
       "    .dataframe tbody tr th:only-of-type {\n",
       "        vertical-align: middle;\n",
       "    }\n",
       "\n",
       "    .dataframe tbody tr th {\n",
       "        vertical-align: top;\n",
       "    }\n",
       "\n",
       "    .dataframe thead th {\n",
       "        text-align: right;\n",
       "    }\n",
       "</style>\n",
       "<table border=\"1\" class=\"dataframe\">\n",
       "  <thead>\n",
       "    <tr style=\"text-align: right;\">\n",
       "      <th></th>\n",
       "      <th>course_id</th>\n",
       "      <th>Course_Name</th>\n",
       "      <th>Tenant</th>\n",
       "      <th>Difficulty_Level</th>\n",
       "      <th>Course Rating</th>\n",
       "      <th>Course_URL</th>\n",
       "      <th>Course_Description</th>\n",
       "      <th>Skills</th>\n",
       "      <th>members</th>\n",
       "      <th>user_profile</th>\n",
       "      <th>Marks</th>\n",
       "    </tr>\n",
       "  </thead>\n",
       "  <tbody>\n",
       "    <tr>\n",
       "      <th>0</th>\n",
       "      <td>32281</td>\n",
       "      <td>Write A Feature Length Screenplay For Film Or ...</td>\n",
       "      <td>Michigan State University</td>\n",
       "      <td>Beginner</td>\n",
       "      <td>4.8</td>\n",
       "      <td>https://www.coursera.org/learn/write-a-feature...</td>\n",
       "      <td>Write a Full Length Feature Film Script  In th...</td>\n",
       "      <td>Drama  Comedy  peering  screenwriting  film  D...</td>\n",
       "      <td>200630</td>\n",
       "      <td>Student</td>\n",
       "      <td>89</td>\n",
       "    </tr>\n",
       "    <tr>\n",
       "      <th>1</th>\n",
       "      <td>5114</td>\n",
       "      <td>Business Strategy: Business Model Canvas Analy...</td>\n",
       "      <td>Coursera Project Network</td>\n",
       "      <td>Beginner</td>\n",
       "      <td>4.8</td>\n",
       "      <td>https://www.coursera.org/learn/canvas-analysis...</td>\n",
       "      <td>By the end of this guided project, you will be...</td>\n",
       "      <td>Finance  business plan  persona (user experien...</td>\n",
       "      <td>793665</td>\n",
       "      <td>Student</td>\n",
       "      <td>92</td>\n",
       "    </tr>\n",
       "    <tr>\n",
       "      <th>2</th>\n",
       "      <td>28977</td>\n",
       "      <td>Silicon Thin Film Solar Cells</td>\n",
       "      <td>�cole Polytechnique</td>\n",
       "      <td>Advanced</td>\n",
       "      <td>4.1</td>\n",
       "      <td>https://www.coursera.org/learn/silicon-thin-fi...</td>\n",
       "      <td>This course consists of a general presentation...</td>\n",
       "      <td>chemistry  physics  Solar Energy  film  lambda...</td>\n",
       "      <td>114262</td>\n",
       "      <td>Student</td>\n",
       "      <td>84</td>\n",
       "    </tr>\n",
       "    <tr>\n",
       "      <th>3</th>\n",
       "      <td>9253</td>\n",
       "      <td>Finance for Managers</td>\n",
       "      <td>IESE Business School</td>\n",
       "      <td>Intermediate</td>\n",
       "      <td>4.8</td>\n",
       "      <td>https://www.coursera.org/learn/operational-fin...</td>\n",
       "      <td>When it comes to numbers, there is always more...</td>\n",
       "      <td>accounts receivable  dupont analysis  analysis...</td>\n",
       "      <td>673572</td>\n",
       "      <td>Professional</td>\n",
       "      <td>86</td>\n",
       "    </tr>\n",
       "    <tr>\n",
       "      <th>4</th>\n",
       "      <td>9969</td>\n",
       "      <td>Retrieve Data using Single-Table SQL Queries</td>\n",
       "      <td>Coursera Project Network</td>\n",
       "      <td>Beginner</td>\n",
       "      <td>4.6</td>\n",
       "      <td>https://www.coursera.org/learn/single-table-sq...</td>\n",
       "      <td>In this course you�ll learn how to effectively...</td>\n",
       "      <td>Data Analysis  select (sql)  database manageme...</td>\n",
       "      <td>151266</td>\n",
       "      <td>Professional</td>\n",
       "      <td>88</td>\n",
       "    </tr>\n",
       "  </tbody>\n",
       "</table>\n",
       "</div>"
      ],
      "text/plain": [
       "   course_id                                        Course_Name  \\\n",
       "0      32281  Write A Feature Length Screenplay For Film Or ...   \n",
       "1       5114  Business Strategy: Business Model Canvas Analy...   \n",
       "2      28977                      Silicon Thin Film Solar Cells   \n",
       "3       9253                               Finance for Managers   \n",
       "4       9969       Retrieve Data using Single-Table SQL Queries   \n",
       "\n",
       "                      Tenant Difficulty_Level  Course Rating  \\\n",
       "0  Michigan State University         Beginner            4.8   \n",
       "1   Coursera Project Network         Beginner            4.8   \n",
       "2        �cole Polytechnique         Advanced            4.1   \n",
       "3       IESE Business School     Intermediate            4.8   \n",
       "4   Coursera Project Network         Beginner            4.6   \n",
       "\n",
       "                                          Course_URL  \\\n",
       "0  https://www.coursera.org/learn/write-a-feature...   \n",
       "1  https://www.coursera.org/learn/canvas-analysis...   \n",
       "2  https://www.coursera.org/learn/silicon-thin-fi...   \n",
       "3  https://www.coursera.org/learn/operational-fin...   \n",
       "4  https://www.coursera.org/learn/single-table-sq...   \n",
       "\n",
       "                                  Course_Description  \\\n",
       "0  Write a Full Length Feature Film Script  In th...   \n",
       "1  By the end of this guided project, you will be...   \n",
       "2  This course consists of a general presentation...   \n",
       "3  When it comes to numbers, there is always more...   \n",
       "4  In this course you�ll learn how to effectively...   \n",
       "\n",
       "                                              Skills  members  user_profile  \\\n",
       "0  Drama  Comedy  peering  screenwriting  film  D...   200630       Student   \n",
       "1  Finance  business plan  persona (user experien...   793665       Student   \n",
       "2  chemistry  physics  Solar Energy  film  lambda...   114262       Student   \n",
       "3  accounts receivable  dupont analysis  analysis...   673572  Professional   \n",
       "4  Data Analysis  select (sql)  database manageme...   151266  Professional   \n",
       "\n",
       "   Marks  \n",
       "0     89  \n",
       "1     92  \n",
       "2     84  \n",
       "3     86  \n",
       "4     88  "
      ]
     },
     "execution_count": 2,
     "metadata": {},
     "output_type": "execute_result"
    }
   ],
   "source": [
    "data = pd.read_csv(\"Coursera.csv\")\n",
    "data.head(5)"
   ]
  },
  {
   "cell_type": "markdown",
   "id": "5b0c6ba7",
   "metadata": {
    "papermill": {
     "duration": 0.050258,
     "end_time": "2022-01-26T14:19:44.802615",
     "exception": false,
     "start_time": "2022-01-26T14:19:44.752357",
     "status": "completed"
    },
    "tags": []
   },
   "source": [
    "# Basic Data Analysis"
   ]
  },
  {
   "cell_type": "code",
   "execution_count": 3,
   "id": "a6857c4b",
   "metadata": {
    "execution": {
     "iopub.execute_input": "2022-01-26T14:19:44.907504Z",
     "iopub.status.busy": "2022-01-26T14:19:44.906513Z",
     "iopub.status.idle": "2022-01-26T14:19:44.912134Z",
     "shell.execute_reply": "2022-01-26T14:19:44.912600Z",
     "shell.execute_reply.started": "2022-01-26T12:46:50.159391Z"
    },
    "papermill": {
     "duration": 0.059633,
     "end_time": "2022-01-26T14:19:44.912776",
     "exception": false,
     "start_time": "2022-01-26T14:19:44.853143",
     "status": "completed"
    },
    "tags": []
   },
   "outputs": [
    {
     "data": {
      "text/plain": [
       "(3522, 11)"
      ]
     },
     "execution_count": 3,
     "metadata": {},
     "output_type": "execute_result"
    }
   ],
   "source": [
    "data.shape #3522 courses and 7 columns with different attributes"
   ]
  },
  {
   "cell_type": "code",
   "execution_count": 4,
   "id": "b1acb93f",
   "metadata": {
    "execution": {
     "iopub.execute_input": "2022-01-26T14:19:45.041493Z",
     "iopub.status.busy": "2022-01-26T14:19:45.040248Z",
     "iopub.status.idle": "2022-01-26T14:19:45.060303Z",
     "shell.execute_reply": "2022-01-26T14:19:45.061266Z",
     "shell.execute_reply.started": "2022-01-26T12:46:50.515284Z"
    },
    "papermill": {
     "duration": 0.097295,
     "end_time": "2022-01-26T14:19:45.061496",
     "exception": false,
     "start_time": "2022-01-26T14:19:44.964201",
     "status": "completed"
    },
    "tags": []
   },
   "outputs": [
    {
     "name": "stdout",
     "output_type": "stream",
     "text": [
      "<class 'pandas.core.frame.DataFrame'>\n",
      "RangeIndex: 3522 entries, 0 to 3521\n",
      "Data columns (total 11 columns):\n",
      " #   Column              Non-Null Count  Dtype  \n",
      "---  ------              --------------  -----  \n",
      " 0   course_id           3522 non-null   int64  \n",
      " 1   Course_Name         3522 non-null   object \n",
      " 2   Tenant              3522 non-null   object \n",
      " 3   Difficulty_Level    3522 non-null   object \n",
      " 4   Course Rating       3522 non-null   float64\n",
      " 5   Course_URL          3522 non-null   object \n",
      " 6   Course_Description  3522 non-null   object \n",
      " 7   Skills              3522 non-null   object \n",
      " 8   members             3522 non-null   int64  \n",
      " 9   user_profile        3522 non-null   object \n",
      " 10  Marks               3522 non-null   int64  \n",
      "dtypes: float64(1), int64(3), object(7)\n",
      "memory usage: 302.8+ KB\n"
     ]
    }
   ],
   "source": [
    "data.info()"
   ]
  },
  {
   "cell_type": "code",
   "execution_count": 5,
   "id": "cbe748ff",
   "metadata": {
    "execution": {
     "iopub.execute_input": "2022-01-26T14:19:45.179184Z",
     "iopub.status.busy": "2022-01-26T14:19:45.178159Z",
     "iopub.status.idle": "2022-01-26T14:19:45.189975Z",
     "shell.execute_reply": "2022-01-26T14:19:45.190569Z",
     "shell.execute_reply.started": "2022-01-26T12:46:50.913696Z"
    },
    "papermill": {
     "duration": 0.068015,
     "end_time": "2022-01-26T14:19:45.190768",
     "exception": false,
     "start_time": "2022-01-26T14:19:45.122753",
     "status": "completed"
    },
    "tags": []
   },
   "outputs": [
    {
     "data": {
      "text/plain": [
       "course_id             0\n",
       "Course_Name           0\n",
       "Tenant                0\n",
       "Difficulty_Level      0\n",
       "Course Rating         0\n",
       "Course_URL            0\n",
       "Course_Description    0\n",
       "Skills                0\n",
       "members               0\n",
       "user_profile          0\n",
       "Marks                 0\n",
       "dtype: int64"
      ]
     },
     "execution_count": 5,
     "metadata": {},
     "output_type": "execute_result"
    }
   ],
   "source": [
    "data.isnull().sum() #no value is missing"
   ]
  },
  {
   "cell_type": "code",
   "execution_count": 6,
   "id": "6dc3b1c4",
   "metadata": {
    "execution": {
     "iopub.execute_input": "2022-01-26T14:19:45.299135Z",
     "iopub.status.busy": "2022-01-26T14:19:45.298106Z",
     "iopub.status.idle": "2022-01-26T14:19:45.306170Z",
     "shell.execute_reply": "2022-01-26T14:19:45.306688Z",
     "shell.execute_reply.started": "2022-01-26T12:46:53.446023Z"
    },
    "papermill": {
     "duration": 0.064492,
     "end_time": "2022-01-26T14:19:45.306882",
     "exception": false,
     "start_time": "2022-01-26T14:19:45.242390",
     "status": "completed"
    },
    "tags": []
   },
   "outputs": [
    {
     "data": {
      "text/plain": [
       "Beginner          1444\n",
       "Advanced          1005\n",
       "Intermediate       837\n",
       "Conversant         186\n",
       "Not Calibrated      50\n",
       "Name: Difficulty_Level, dtype: int64"
      ]
     },
     "execution_count": 6,
     "metadata": {},
     "output_type": "execute_result"
    }
   ],
   "source": [
    "data['Difficulty_Level'].value_counts()"
   ]
  },
  {
   "cell_type": "code",
   "execution_count": 7,
   "id": "eaad5cf4",
   "metadata": {
    "execution": {
     "iopub.execute_input": "2022-01-26T14:19:45.415285Z",
     "iopub.status.busy": "2022-01-26T14:19:45.414312Z",
     "iopub.status.idle": "2022-01-26T14:19:45.422096Z",
     "shell.execute_reply": "2022-01-26T14:19:45.422711Z",
     "shell.execute_reply.started": "2022-01-26T12:46:53.943586Z"
    },
    "papermill": {
     "duration": 0.064131,
     "end_time": "2022-01-26T14:19:45.422886",
     "exception": false,
     "start_time": "2022-01-26T14:19:45.358755",
     "status": "completed"
    },
    "tags": []
   },
   "outputs": [
    {
     "data": {
      "text/plain": [
       "Student         1848\n",
       "Professional    1674\n",
       "Name: user_profile, dtype: int64"
      ]
     },
     "execution_count": 7,
     "metadata": {},
     "output_type": "execute_result"
    }
   ],
   "source": [
    "data['user_profile'].value_counts()"
   ]
  },
  {
   "cell_type": "code",
   "execution_count": 8,
   "id": "f1654888",
   "metadata": {},
   "outputs": [],
   "source": [
    "# data[data['Course Rating'] == 'Not Calibrated'] = 0"
   ]
  },
  {
   "cell_type": "code",
   "execution_count": 9,
   "id": "a673a18d",
   "metadata": {
    "execution": {
     "iopub.execute_input": "2022-01-26T14:19:45.531483Z",
     "iopub.status.busy": "2022-01-26T14:19:45.530498Z",
     "iopub.status.idle": "2022-01-26T14:19:45.539391Z",
     "shell.execute_reply": "2022-01-26T14:19:45.539891Z",
     "shell.execute_reply.started": "2022-01-26T12:46:54.61919Z"
    },
    "papermill": {
     "duration": 0.064827,
     "end_time": "2022-01-26T14:19:45.540088",
     "exception": false,
     "start_time": "2022-01-26T14:19:45.475261",
     "status": "completed"
    },
    "tags": []
   },
   "outputs": [
    {
     "data": {
      "text/plain": [
       "1     81\n",
       "27    77\n",
       "84    77\n",
       "4     77\n",
       "13    74\n",
       "      ..\n",
       "47     3\n",
       "43     3\n",
       "41     2\n",
       "42     1\n",
       "35     1\n",
       "Name: Marks, Length: 91, dtype: int64"
      ]
     },
     "execution_count": 9,
     "metadata": {},
     "output_type": "execute_result"
    }
   ],
   "source": [
    "data['Marks'].value_counts()"
   ]
  },
  {
   "cell_type": "code",
   "execution_count": 10,
   "id": "eb7b9d64",
   "metadata": {
    "execution": {
     "iopub.execute_input": "2022-01-26T14:19:45.653057Z",
     "iopub.status.busy": "2022-01-26T14:19:45.651968Z",
     "iopub.status.idle": "2022-01-26T14:19:45.657690Z",
     "shell.execute_reply": "2022-01-26T14:19:45.658305Z",
     "shell.execute_reply.started": "2022-01-26T12:46:56.396485Z"
    },
    "papermill": {
     "duration": 0.064954,
     "end_time": "2022-01-26T14:19:45.658504",
     "exception": false,
     "start_time": "2022-01-26T14:19:45.593550",
     "status": "completed"
    },
    "tags": []
   },
   "outputs": [
    {
     "data": {
      "text/plain": [
       "0       Write A Feature Length Screenplay For Film Or ...\n",
       "1       Business Strategy: Business Model Canvas Analy...\n",
       "2                           Silicon Thin Film Solar Cells\n",
       "3                                    Finance for Managers\n",
       "4            Retrieve Data using Single-Table SQL Queries\n",
       "                              ...                        \n",
       "3517    Capstone: Retrieving, Processing, and Visualiz...\n",
       "3518                     Patrick Henry: Forgotten Founder\n",
       "3519    Business intelligence and data analytics: Gene...\n",
       "3520                                  Rigid Body Dynamics\n",
       "3521    Architecting with Google Kubernetes Engine: Pr...\n",
       "Name: Course_Name, Length: 3522, dtype: object"
      ]
     },
     "execution_count": 10,
     "metadata": {},
     "output_type": "execute_result"
    }
   ],
   "source": [
    "data['Course_Name']"
   ]
  },
  {
   "cell_type": "markdown",
   "id": "087fb55d",
   "metadata": {
    "papermill": {
     "duration": 0.053402,
     "end_time": "2022-01-26T14:19:45.765943",
     "exception": false,
     "start_time": "2022-01-26T14:19:45.712541",
     "status": "completed"
    },
    "tags": []
   },
   "source": [
    "# Required Columns for System"
   ]
  },
  {
   "cell_type": "markdown",
   "id": "3e68045a",
   "metadata": {
    "papermill": {
     "duration": 0.053564,
     "end_time": "2022-01-26T14:19:45.872798",
     "exception": false,
     "start_time": "2022-01-26T14:19:45.819234",
     "status": "completed"
    },
    "tags": []
   },
   "source": [
    "#### Important columns to be used in recommendation system : \n",
    "\n",
    "- Course Name : Names of the courses\n",
    "- Course Description : Similar courses may have similar course description\n",
    "- Skills : Users may want to see courses based on same skills\n",
    "- Difficulty Level : Similar courses as per difficulty level \n",
    "\n",
    "#### Columns not used for the recommendation system :\n",
    "\n",
    "- Course Ratings : Numerical Column; Ratings can sometimes become a biased factor and distribution is not even\n",
    "- University : Same university might offer multiple courses in different domains which the user might not want to see\n",
    "- Course URL : No significance in the recommendation system"
   ]
  },
  {
   "cell_type": "code",
   "execution_count": 11,
   "id": "f09fdb60",
   "metadata": {
    "execution": {
     "iopub.execute_input": "2022-01-26T14:19:45.985862Z",
     "iopub.status.busy": "2022-01-26T14:19:45.984756Z",
     "iopub.status.idle": "2022-01-26T14:19:45.990667Z",
     "shell.execute_reply": "2022-01-26T14:19:45.991205Z",
     "shell.execute_reply.started": "2022-01-26T12:49:25.396394Z"
    },
    "papermill": {
     "duration": 0.064324,
     "end_time": "2022-01-26T14:19:45.991385",
     "exception": false,
     "start_time": "2022-01-26T14:19:45.927061",
     "status": "completed"
    },
    "tags": []
   },
   "outputs": [],
   "source": [
    "data = data[['Course_Name','Difficulty_Level','Skills', 'Course Rating', 'user_profile', 'Marks']]"
   ]
  },
  {
   "cell_type": "code",
   "execution_count": 12,
   "id": "e704815b",
   "metadata": {
    "execution": {
     "iopub.execute_input": "2022-01-26T14:19:46.104150Z",
     "iopub.status.busy": "2022-01-26T14:19:46.103123Z",
     "iopub.status.idle": "2022-01-26T14:19:46.113861Z",
     "shell.execute_reply": "2022-01-26T14:19:46.114401Z",
     "shell.execute_reply.started": "2022-01-26T12:49:30.127057Z"
    },
    "papermill": {
     "duration": 0.067641,
     "end_time": "2022-01-26T14:19:46.114589",
     "exception": false,
     "start_time": "2022-01-26T14:19:46.046948",
     "status": "completed"
    },
    "tags": []
   },
   "outputs": [
    {
     "data": {
      "text/html": [
       "<div>\n",
       "<style scoped>\n",
       "    .dataframe tbody tr th:only-of-type {\n",
       "        vertical-align: middle;\n",
       "    }\n",
       "\n",
       "    .dataframe tbody tr th {\n",
       "        vertical-align: top;\n",
       "    }\n",
       "\n",
       "    .dataframe thead th {\n",
       "        text-align: right;\n",
       "    }\n",
       "</style>\n",
       "<table border=\"1\" class=\"dataframe\">\n",
       "  <thead>\n",
       "    <tr style=\"text-align: right;\">\n",
       "      <th></th>\n",
       "      <th>Course_Name</th>\n",
       "      <th>Difficulty_Level</th>\n",
       "      <th>Skills</th>\n",
       "      <th>Course Rating</th>\n",
       "      <th>user_profile</th>\n",
       "      <th>Marks</th>\n",
       "    </tr>\n",
       "  </thead>\n",
       "  <tbody>\n",
       "    <tr>\n",
       "      <th>0</th>\n",
       "      <td>Write A Feature Length Screenplay For Film Or ...</td>\n",
       "      <td>Beginner</td>\n",
       "      <td>Drama  Comedy  peering  screenwriting  film  D...</td>\n",
       "      <td>4.8</td>\n",
       "      <td>Student</td>\n",
       "      <td>89</td>\n",
       "    </tr>\n",
       "    <tr>\n",
       "      <th>1</th>\n",
       "      <td>Business Strategy: Business Model Canvas Analy...</td>\n",
       "      <td>Beginner</td>\n",
       "      <td>Finance  business plan  persona (user experien...</td>\n",
       "      <td>4.8</td>\n",
       "      <td>Student</td>\n",
       "      <td>92</td>\n",
       "    </tr>\n",
       "    <tr>\n",
       "      <th>2</th>\n",
       "      <td>Silicon Thin Film Solar Cells</td>\n",
       "      <td>Advanced</td>\n",
       "      <td>chemistry  physics  Solar Energy  film  lambda...</td>\n",
       "      <td>4.1</td>\n",
       "      <td>Student</td>\n",
       "      <td>84</td>\n",
       "    </tr>\n",
       "    <tr>\n",
       "      <th>3</th>\n",
       "      <td>Finance for Managers</td>\n",
       "      <td>Intermediate</td>\n",
       "      <td>accounts receivable  dupont analysis  analysis...</td>\n",
       "      <td>4.8</td>\n",
       "      <td>Professional</td>\n",
       "      <td>86</td>\n",
       "    </tr>\n",
       "    <tr>\n",
       "      <th>4</th>\n",
       "      <td>Retrieve Data using Single-Table SQL Queries</td>\n",
       "      <td>Beginner</td>\n",
       "      <td>Data Analysis  select (sql)  database manageme...</td>\n",
       "      <td>4.6</td>\n",
       "      <td>Professional</td>\n",
       "      <td>88</td>\n",
       "    </tr>\n",
       "  </tbody>\n",
       "</table>\n",
       "</div>"
      ],
      "text/plain": [
       "                                         Course_Name Difficulty_Level  \\\n",
       "0  Write A Feature Length Screenplay For Film Or ...         Beginner   \n",
       "1  Business Strategy: Business Model Canvas Analy...         Beginner   \n",
       "2                      Silicon Thin Film Solar Cells         Advanced   \n",
       "3                               Finance for Managers     Intermediate   \n",
       "4       Retrieve Data using Single-Table SQL Queries         Beginner   \n",
       "\n",
       "                                              Skills  Course Rating  \\\n",
       "0  Drama  Comedy  peering  screenwriting  film  D...            4.8   \n",
       "1  Finance  business plan  persona (user experien...            4.8   \n",
       "2  chemistry  physics  Solar Energy  film  lambda...            4.1   \n",
       "3  accounts receivable  dupont analysis  analysis...            4.8   \n",
       "4  Data Analysis  select (sql)  database manageme...            4.6   \n",
       "\n",
       "   user_profile  Marks  \n",
       "0       Student     89  \n",
       "1       Student     92  \n",
       "2       Student     84  \n",
       "3  Professional     86  \n",
       "4  Professional     88  "
      ]
     },
     "execution_count": 12,
     "metadata": {},
     "output_type": "execute_result"
    }
   ],
   "source": [
    "data.head(5)"
   ]
  },
  {
   "cell_type": "markdown",
   "id": "02742154",
   "metadata": {
    "papermill": {
     "duration": 0.052809,
     "end_time": "2022-01-26T14:19:46.221289",
     "exception": false,
     "start_time": "2022-01-26T14:19:46.168480",
     "status": "completed"
    },
    "tags": []
   },
   "source": [
    "# Data Pre-Processing\n",
    "\n",
    "An important part of the process is to pre-process the data into usable format for the recommendation system"
   ]
  },
  {
   "cell_type": "code",
   "execution_count": 13,
   "id": "2ab78832",
   "metadata": {
    "execution": {
     "iopub.execute_input": "2022-01-26T14:19:46.339162Z",
     "iopub.status.busy": "2022-01-26T14:19:46.338482Z",
     "iopub.status.idle": "2022-01-26T14:19:46.453299Z",
     "shell.execute_reply": "2022-01-26T14:19:46.453797Z",
     "shell.execute_reply.started": "2022-01-26T12:53:40.943775Z"
    },
    "papermill": {
     "duration": 0.177814,
     "end_time": "2022-01-26T14:19:46.453980",
     "exception": false,
     "start_time": "2022-01-26T14:19:46.276166",
     "status": "completed"
    },
    "tags": []
   },
   "outputs": [],
   "source": [
    "# Removing spaces between the words (Lambda funtions can be used as well)\n",
    "\n",
    "data['Course_Name'] = data['Course_Name'].str.replace(' ',',')\n",
    "data['Course_Name'] = data['Course_Name'].str.replace(',,',',')\n",
    "data['Course_Name'] = data['Course_Name'].str.replace(':','')\n",
    "# data['Course_Description'] = data['Course_Description'].str.replace(' ',',')\n",
    "# data['Course_Description'] = data['Course_Description'].str.replace(',,',',')\n",
    "# data['Course_Description'] = data['Course_Description'].str.replace('_','')\n",
    "# data['Course_Description'] = data['Course_Description'].str.replace(':','')\n",
    "# data['Course_Description'] = data['Course_Description'].str.replace('(','')\n",
    "# data['Course_Description'] = data['Course_Description'].str.replace(')','')\n",
    "\n",
    "#removing paranthesis from skills columns \n",
    "data['Skills'] = data['Skills'].str.replace('(','')\n",
    "data['Skills'] = data['Skills'].str.replace(')','')"
   ]
  },
  {
   "cell_type": "code",
   "execution_count": 14,
   "id": "fe4c15e8",
   "metadata": {
    "execution": {
     "iopub.execute_input": "2022-01-26T14:19:46.566735Z",
     "iopub.status.busy": "2022-01-26T14:19:46.565969Z",
     "iopub.status.idle": "2022-01-26T14:19:46.576143Z",
     "shell.execute_reply": "2022-01-26T14:19:46.576719Z",
     "shell.execute_reply.started": "2022-01-26T12:53:53.653156Z"
    },
    "papermill": {
     "duration": 0.068556,
     "end_time": "2022-01-26T14:19:46.576919",
     "exception": false,
     "start_time": "2022-01-26T14:19:46.508363",
     "status": "completed"
    },
    "tags": []
   },
   "outputs": [
    {
     "data": {
      "text/html": [
       "<div>\n",
       "<style scoped>\n",
       "    .dataframe tbody tr th:only-of-type {\n",
       "        vertical-align: middle;\n",
       "    }\n",
       "\n",
       "    .dataframe tbody tr th {\n",
       "        vertical-align: top;\n",
       "    }\n",
       "\n",
       "    .dataframe thead th {\n",
       "        text-align: right;\n",
       "    }\n",
       "</style>\n",
       "<table border=\"1\" class=\"dataframe\">\n",
       "  <thead>\n",
       "    <tr style=\"text-align: right;\">\n",
       "      <th></th>\n",
       "      <th>Course_Name</th>\n",
       "      <th>Difficulty_Level</th>\n",
       "      <th>Skills</th>\n",
       "      <th>Course Rating</th>\n",
       "      <th>user_profile</th>\n",
       "      <th>Marks</th>\n",
       "    </tr>\n",
       "  </thead>\n",
       "  <tbody>\n",
       "    <tr>\n",
       "      <th>0</th>\n",
       "      <td>Write,A,Feature,Length,Screenplay,For,Film,Or,...</td>\n",
       "      <td>Beginner</td>\n",
       "      <td>Drama  Comedy  peering  screenwriting  film  D...</td>\n",
       "      <td>4.8</td>\n",
       "      <td>Student</td>\n",
       "      <td>89</td>\n",
       "    </tr>\n",
       "    <tr>\n",
       "      <th>1</th>\n",
       "      <td>Business,Strategy,Business,Model,Canvas,Analys...</td>\n",
       "      <td>Beginner</td>\n",
       "      <td>Finance  business plan  persona user experienc...</td>\n",
       "      <td>4.8</td>\n",
       "      <td>Student</td>\n",
       "      <td>92</td>\n",
       "    </tr>\n",
       "    <tr>\n",
       "      <th>2</th>\n",
       "      <td>Silicon,Thin,Film,Solar,Cells</td>\n",
       "      <td>Advanced</td>\n",
       "      <td>chemistry  physics  Solar Energy  film  lambda...</td>\n",
       "      <td>4.1</td>\n",
       "      <td>Student</td>\n",
       "      <td>84</td>\n",
       "    </tr>\n",
       "    <tr>\n",
       "      <th>3</th>\n",
       "      <td>Finance,for,Managers</td>\n",
       "      <td>Intermediate</td>\n",
       "      <td>accounts receivable  dupont analysis  analysis...</td>\n",
       "      <td>4.8</td>\n",
       "      <td>Professional</td>\n",
       "      <td>86</td>\n",
       "    </tr>\n",
       "    <tr>\n",
       "      <th>4</th>\n",
       "      <td>Retrieve,Data,using,Single-Table,SQL,Queries</td>\n",
       "      <td>Beginner</td>\n",
       "      <td>Data Analysis  select sql  database management...</td>\n",
       "      <td>4.6</td>\n",
       "      <td>Professional</td>\n",
       "      <td>88</td>\n",
       "    </tr>\n",
       "  </tbody>\n",
       "</table>\n",
       "</div>"
      ],
      "text/plain": [
       "                                         Course_Name Difficulty_Level  \\\n",
       "0  Write,A,Feature,Length,Screenplay,For,Film,Or,...         Beginner   \n",
       "1  Business,Strategy,Business,Model,Canvas,Analys...         Beginner   \n",
       "2                      Silicon,Thin,Film,Solar,Cells         Advanced   \n",
       "3                               Finance,for,Managers     Intermediate   \n",
       "4       Retrieve,Data,using,Single-Table,SQL,Queries         Beginner   \n",
       "\n",
       "                                              Skills  Course Rating  \\\n",
       "0  Drama  Comedy  peering  screenwriting  film  D...            4.8   \n",
       "1  Finance  business plan  persona user experienc...            4.8   \n",
       "2  chemistry  physics  Solar Energy  film  lambda...            4.1   \n",
       "3  accounts receivable  dupont analysis  analysis...            4.8   \n",
       "4  Data Analysis  select sql  database management...            4.6   \n",
       "\n",
       "   user_profile  Marks  \n",
       "0       Student     89  \n",
       "1       Student     92  \n",
       "2       Student     84  \n",
       "3  Professional     86  \n",
       "4  Professional     88  "
      ]
     },
     "execution_count": 14,
     "metadata": {},
     "output_type": "execute_result"
    }
   ],
   "source": [
    "data.head(5)"
   ]
  },
  {
   "cell_type": "markdown",
   "id": "0359619a",
   "metadata": {
    "papermill": {
     "duration": 0.054478,
     "end_time": "2022-01-26T14:19:46.687351",
     "exception": false,
     "start_time": "2022-01-26T14:19:46.632873",
     "status": "completed"
    },
    "tags": []
   },
   "source": [
    "# Tags Column\n",
    "\n",
    "The tags column is the combination of the following columns : **Course Name** + **Difficulty Level** + **Course Description** + **Skills**"
   ]
  },
  {
   "cell_type": "code",
   "execution_count": 15,
   "id": "533ffc08",
   "metadata": {
    "execution": {
     "iopub.execute_input": "2022-01-26T14:19:46.805542Z",
     "iopub.status.busy": "2022-01-26T14:19:46.804854Z",
     "iopub.status.idle": "2022-01-26T14:19:46.823188Z",
     "shell.execute_reply": "2022-01-26T14:19:46.822651Z",
     "shell.execute_reply.started": "2022-01-26T12:55:58.319873Z"
    },
    "papermill": {
     "duration": 0.076499,
     "end_time": "2022-01-26T14:19:46.823340",
     "exception": false,
     "start_time": "2022-01-26T14:19:46.746841",
     "status": "completed"
    },
    "tags": []
   },
   "outputs": [],
   "source": [
    "data['tags'] = data['Course_Name'] + data['Difficulty_Level'] + data['user_profile'] + data['Skills'] + data['Course Rating'].astype('str') + data['Marks'].astype('str')"
   ]
  },
  {
   "cell_type": "code",
   "execution_count": 16,
   "id": "fe0a8cf1",
   "metadata": {
    "execution": {
     "iopub.execute_input": "2022-01-26T14:19:46.937064Z",
     "iopub.status.busy": "2022-01-26T14:19:46.936365Z",
     "iopub.status.idle": "2022-01-26T14:19:46.948262Z",
     "shell.execute_reply": "2022-01-26T14:19:46.948878Z",
     "shell.execute_reply.started": "2022-01-26T12:56:03.509244Z"
    },
    "papermill": {
     "duration": 0.070316,
     "end_time": "2022-01-26T14:19:46.949049",
     "exception": false,
     "start_time": "2022-01-26T14:19:46.878733",
     "status": "completed"
    },
    "tags": []
   },
   "outputs": [
    {
     "data": {
      "text/html": [
       "<div>\n",
       "<style scoped>\n",
       "    .dataframe tbody tr th:only-of-type {\n",
       "        vertical-align: middle;\n",
       "    }\n",
       "\n",
       "    .dataframe tbody tr th {\n",
       "        vertical-align: top;\n",
       "    }\n",
       "\n",
       "    .dataframe thead th {\n",
       "        text-align: right;\n",
       "    }\n",
       "</style>\n",
       "<table border=\"1\" class=\"dataframe\">\n",
       "  <thead>\n",
       "    <tr style=\"text-align: right;\">\n",
       "      <th></th>\n",
       "      <th>Course_Name</th>\n",
       "      <th>Difficulty_Level</th>\n",
       "      <th>Skills</th>\n",
       "      <th>Course Rating</th>\n",
       "      <th>user_profile</th>\n",
       "      <th>Marks</th>\n",
       "      <th>tags</th>\n",
       "    </tr>\n",
       "  </thead>\n",
       "  <tbody>\n",
       "    <tr>\n",
       "      <th>0</th>\n",
       "      <td>Write,A,Feature,Length,Screenplay,For,Film,Or,...</td>\n",
       "      <td>Beginner</td>\n",
       "      <td>Drama  Comedy  peering  screenwriting  film  D...</td>\n",
       "      <td>4.8</td>\n",
       "      <td>Student</td>\n",
       "      <td>89</td>\n",
       "      <td>Write,A,Feature,Length,Screenplay,For,Film,Or,...</td>\n",
       "    </tr>\n",
       "    <tr>\n",
       "      <th>1</th>\n",
       "      <td>Business,Strategy,Business,Model,Canvas,Analys...</td>\n",
       "      <td>Beginner</td>\n",
       "      <td>Finance  business plan  persona user experienc...</td>\n",
       "      <td>4.8</td>\n",
       "      <td>Student</td>\n",
       "      <td>92</td>\n",
       "      <td>Business,Strategy,Business,Model,Canvas,Analys...</td>\n",
       "    </tr>\n",
       "    <tr>\n",
       "      <th>2</th>\n",
       "      <td>Silicon,Thin,Film,Solar,Cells</td>\n",
       "      <td>Advanced</td>\n",
       "      <td>chemistry  physics  Solar Energy  film  lambda...</td>\n",
       "      <td>4.1</td>\n",
       "      <td>Student</td>\n",
       "      <td>84</td>\n",
       "      <td>Silicon,Thin,Film,Solar,CellsAdvancedStudentch...</td>\n",
       "    </tr>\n",
       "    <tr>\n",
       "      <th>3</th>\n",
       "      <td>Finance,for,Managers</td>\n",
       "      <td>Intermediate</td>\n",
       "      <td>accounts receivable  dupont analysis  analysis...</td>\n",
       "      <td>4.8</td>\n",
       "      <td>Professional</td>\n",
       "      <td>86</td>\n",
       "      <td>Finance,for,ManagersIntermediateProfessionalac...</td>\n",
       "    </tr>\n",
       "    <tr>\n",
       "      <th>4</th>\n",
       "      <td>Retrieve,Data,using,Single-Table,SQL,Queries</td>\n",
       "      <td>Beginner</td>\n",
       "      <td>Data Analysis  select sql  database management...</td>\n",
       "      <td>4.6</td>\n",
       "      <td>Professional</td>\n",
       "      <td>88</td>\n",
       "      <td>Retrieve,Data,using,Single-Table,SQL,QueriesBe...</td>\n",
       "    </tr>\n",
       "  </tbody>\n",
       "</table>\n",
       "</div>"
      ],
      "text/plain": [
       "                                         Course_Name Difficulty_Level  \\\n",
       "0  Write,A,Feature,Length,Screenplay,For,Film,Or,...         Beginner   \n",
       "1  Business,Strategy,Business,Model,Canvas,Analys...         Beginner   \n",
       "2                      Silicon,Thin,Film,Solar,Cells         Advanced   \n",
       "3                               Finance,for,Managers     Intermediate   \n",
       "4       Retrieve,Data,using,Single-Table,SQL,Queries         Beginner   \n",
       "\n",
       "                                              Skills  Course Rating  \\\n",
       "0  Drama  Comedy  peering  screenwriting  film  D...            4.8   \n",
       "1  Finance  business plan  persona user experienc...            4.8   \n",
       "2  chemistry  physics  Solar Energy  film  lambda...            4.1   \n",
       "3  accounts receivable  dupont analysis  analysis...            4.8   \n",
       "4  Data Analysis  select sql  database management...            4.6   \n",
       "\n",
       "   user_profile  Marks                                               tags  \n",
       "0       Student     89  Write,A,Feature,Length,Screenplay,For,Film,Or,...  \n",
       "1       Student     92  Business,Strategy,Business,Model,Canvas,Analys...  \n",
       "2       Student     84  Silicon,Thin,Film,Solar,CellsAdvancedStudentch...  \n",
       "3  Professional     86  Finance,for,ManagersIntermediateProfessionalac...  \n",
       "4  Professional     88  Retrieve,Data,using,Single-Table,SQL,QueriesBe...  "
      ]
     },
     "execution_count": 16,
     "metadata": {},
     "output_type": "execute_result"
    }
   ],
   "source": [
    "data.head(5)"
   ]
  },
  {
   "cell_type": "code",
   "execution_count": 17,
   "id": "128d0b5a",
   "metadata": {
    "execution": {
     "iopub.execute_input": "2022-01-26T14:19:47.064568Z",
     "iopub.status.busy": "2022-01-26T14:19:47.063864Z",
     "iopub.status.idle": "2022-01-26T14:19:47.068955Z",
     "shell.execute_reply": "2022-01-26T14:19:47.069577Z",
     "shell.execute_reply.started": "2022-01-26T12:56:19.913202Z"
    },
    "papermill": {
     "duration": 0.064563,
     "end_time": "2022-01-26T14:19:47.069883",
     "exception": false,
     "start_time": "2022-01-26T14:19:47.005320",
     "status": "completed"
    },
    "tags": []
   },
   "outputs": [
    {
     "data": {
      "text/plain": [
       "'Business,Strategy,Business,Model,Canvas,Analysis,with,MiroBeginnerStudentFinance  business plan  persona user experience  business model canvas  Planning  Business  project  Product Development  presentation  Strategy business business-strategy4.892'"
      ]
     },
     "execution_count": 17,
     "metadata": {},
     "output_type": "execute_result"
    }
   ],
   "source": [
    "data['tags'].iloc[1]"
   ]
  },
  {
   "cell_type": "markdown",
   "id": "fb2ae16b",
   "metadata": {
    "papermill": {
     "duration": 0.055116,
     "end_time": "2022-01-26T14:19:47.180933",
     "exception": false,
     "start_time": "2022-01-26T14:19:47.125817",
     "status": "completed"
    },
    "tags": []
   },
   "source": [
    "# Dataframe to be used"
   ]
  },
  {
   "cell_type": "code",
   "execution_count": 18,
   "id": "9cdf7c52",
   "metadata": {
    "execution": {
     "iopub.execute_input": "2022-01-26T14:19:47.295634Z",
     "iopub.status.busy": "2022-01-26T14:19:47.294976Z",
     "iopub.status.idle": "2022-01-26T14:19:47.300427Z",
     "shell.execute_reply": "2022-01-26T14:19:47.300988Z",
     "shell.execute_reply.started": "2022-01-26T12:56:47.650782Z"
    },
    "papermill": {
     "duration": 0.064683,
     "end_time": "2022-01-26T14:19:47.301174",
     "exception": false,
     "start_time": "2022-01-26T14:19:47.236491",
     "status": "completed"
    },
    "tags": []
   },
   "outputs": [],
   "source": [
    "new_df = data[['Course_Name','tags', 'Course Rating', 'Difficulty_Level', 'user_profile', 'Marks']]"
   ]
  },
  {
   "cell_type": "code",
   "execution_count": 19,
   "id": "933b3ebb",
   "metadata": {
    "execution": {
     "iopub.execute_input": "2022-01-26T14:19:47.423897Z",
     "iopub.status.busy": "2022-01-26T14:19:47.423181Z",
     "iopub.status.idle": "2022-01-26T14:19:47.425800Z",
     "shell.execute_reply": "2022-01-26T14:19:47.426278Z",
     "shell.execute_reply.started": "2022-01-26T12:56:53.601235Z"
    },
    "papermill": {
     "duration": 0.069032,
     "end_time": "2022-01-26T14:19:47.426446",
     "exception": false,
     "start_time": "2022-01-26T14:19:47.357414",
     "status": "completed"
    },
    "tags": []
   },
   "outputs": [
    {
     "data": {
      "text/html": [
       "<div>\n",
       "<style scoped>\n",
       "    .dataframe tbody tr th:only-of-type {\n",
       "        vertical-align: middle;\n",
       "    }\n",
       "\n",
       "    .dataframe tbody tr th {\n",
       "        vertical-align: top;\n",
       "    }\n",
       "\n",
       "    .dataframe thead th {\n",
       "        text-align: right;\n",
       "    }\n",
       "</style>\n",
       "<table border=\"1\" class=\"dataframe\">\n",
       "  <thead>\n",
       "    <tr style=\"text-align: right;\">\n",
       "      <th></th>\n",
       "      <th>Course_Name</th>\n",
       "      <th>tags</th>\n",
       "      <th>Course Rating</th>\n",
       "      <th>Difficulty_Level</th>\n",
       "      <th>user_profile</th>\n",
       "      <th>Marks</th>\n",
       "    </tr>\n",
       "  </thead>\n",
       "  <tbody>\n",
       "    <tr>\n",
       "      <th>0</th>\n",
       "      <td>Write,A,Feature,Length,Screenplay,For,Film,Or,...</td>\n",
       "      <td>Write,A,Feature,Length,Screenplay,For,Film,Or,...</td>\n",
       "      <td>4.8</td>\n",
       "      <td>Beginner</td>\n",
       "      <td>Student</td>\n",
       "      <td>89</td>\n",
       "    </tr>\n",
       "    <tr>\n",
       "      <th>1</th>\n",
       "      <td>Business,Strategy,Business,Model,Canvas,Analys...</td>\n",
       "      <td>Business,Strategy,Business,Model,Canvas,Analys...</td>\n",
       "      <td>4.8</td>\n",
       "      <td>Beginner</td>\n",
       "      <td>Student</td>\n",
       "      <td>92</td>\n",
       "    </tr>\n",
       "    <tr>\n",
       "      <th>2</th>\n",
       "      <td>Silicon,Thin,Film,Solar,Cells</td>\n",
       "      <td>Silicon,Thin,Film,Solar,CellsAdvancedStudentch...</td>\n",
       "      <td>4.1</td>\n",
       "      <td>Advanced</td>\n",
       "      <td>Student</td>\n",
       "      <td>84</td>\n",
       "    </tr>\n",
       "    <tr>\n",
       "      <th>3</th>\n",
       "      <td>Finance,for,Managers</td>\n",
       "      <td>Finance,for,ManagersIntermediateProfessionalac...</td>\n",
       "      <td>4.8</td>\n",
       "      <td>Intermediate</td>\n",
       "      <td>Professional</td>\n",
       "      <td>86</td>\n",
       "    </tr>\n",
       "    <tr>\n",
       "      <th>4</th>\n",
       "      <td>Retrieve,Data,using,Single-Table,SQL,Queries</td>\n",
       "      <td>Retrieve,Data,using,Single-Table,SQL,QueriesBe...</td>\n",
       "      <td>4.6</td>\n",
       "      <td>Beginner</td>\n",
       "      <td>Professional</td>\n",
       "      <td>88</td>\n",
       "    </tr>\n",
       "  </tbody>\n",
       "</table>\n",
       "</div>"
      ],
      "text/plain": [
       "                                         Course_Name  \\\n",
       "0  Write,A,Feature,Length,Screenplay,For,Film,Or,...   \n",
       "1  Business,Strategy,Business,Model,Canvas,Analys...   \n",
       "2                      Silicon,Thin,Film,Solar,Cells   \n",
       "3                               Finance,for,Managers   \n",
       "4       Retrieve,Data,using,Single-Table,SQL,Queries   \n",
       "\n",
       "                                                tags  Course Rating  \\\n",
       "0  Write,A,Feature,Length,Screenplay,For,Film,Or,...            4.8   \n",
       "1  Business,Strategy,Business,Model,Canvas,Analys...            4.8   \n",
       "2  Silicon,Thin,Film,Solar,CellsAdvancedStudentch...            4.1   \n",
       "3  Finance,for,ManagersIntermediateProfessionalac...            4.8   \n",
       "4  Retrieve,Data,using,Single-Table,SQL,QueriesBe...            4.6   \n",
       "\n",
       "  Difficulty_Level  user_profile  Marks  \n",
       "0         Beginner       Student     89  \n",
       "1         Beginner       Student     92  \n",
       "2         Advanced       Student     84  \n",
       "3     Intermediate  Professional     86  \n",
       "4         Beginner  Professional     88  "
      ]
     },
     "execution_count": 19,
     "metadata": {},
     "output_type": "execute_result"
    }
   ],
   "source": [
    "new_df.head(5)"
   ]
  },
  {
   "cell_type": "code",
   "execution_count": 20,
   "id": "522af407",
   "metadata": {
    "execution": {
     "iopub.execute_input": "2022-01-26T14:19:47.543759Z",
     "iopub.status.busy": "2022-01-26T14:19:47.543010Z",
     "iopub.status.idle": "2022-01-26T14:19:47.568840Z",
     "shell.execute_reply": "2022-01-26T14:19:47.569353Z",
     "shell.execute_reply.started": "2022-01-26T12:57:29.758901Z"
    },
    "papermill": {
     "duration": 0.08545,
     "end_time": "2022-01-26T14:19:47.569554",
     "exception": false,
     "start_time": "2022-01-26T14:19:47.484104",
     "status": "completed"
    },
    "tags": []
   },
   "outputs": [
    {
     "name": "stderr",
     "output_type": "stream",
     "text": [
      "C:\\Users\\Deepika\\anaconda3\\envs\\cows\\lib\\site-packages\\ipykernel_launcher.py:1: SettingWithCopyWarning: \n",
      "A value is trying to be set on a copy of a slice from a DataFrame.\n",
      "Try using .loc[row_indexer,col_indexer] = value instead\n",
      "\n",
      "See the caveats in the documentation: https://pandas.pydata.org/pandas-docs/stable/user_guide/indexing.html#returning-a-view-versus-a-copy\n",
      "  \"\"\"Entry point for launching an IPython kernel.\n"
     ]
    }
   ],
   "source": [
    "new_df['tags'] = data['tags'].str.replace(',',' ')"
   ]
  },
  {
   "cell_type": "code",
   "execution_count": 21,
   "id": "1dc599f6",
   "metadata": {
    "execution": {
     "iopub.execute_input": "2022-01-26T14:19:47.688611Z",
     "iopub.status.busy": "2022-01-26T14:19:47.687894Z",
     "iopub.status.idle": "2022-01-26T14:19:47.695125Z",
     "shell.execute_reply": "2022-01-26T14:19:47.695760Z",
     "shell.execute_reply.started": "2022-01-26T12:58:08.296915Z"
    },
    "papermill": {
     "duration": 0.069347,
     "end_time": "2022-01-26T14:19:47.695936",
     "exception": false,
     "start_time": "2022-01-26T14:19:47.626589",
     "status": "completed"
    },
    "tags": []
   },
   "outputs": [
    {
     "name": "stderr",
     "output_type": "stream",
     "text": [
      "C:\\Users\\Deepika\\anaconda3\\envs\\cows\\lib\\site-packages\\ipykernel_launcher.py:1: SettingWithCopyWarning: \n",
      "A value is trying to be set on a copy of a slice from a DataFrame.\n",
      "Try using .loc[row_indexer,col_indexer] = value instead\n",
      "\n",
      "See the caveats in the documentation: https://pandas.pydata.org/pandas-docs/stable/user_guide/indexing.html#returning-a-view-versus-a-copy\n",
      "  \"\"\"Entry point for launching an IPython kernel.\n"
     ]
    }
   ],
   "source": [
    "new_df['Course_Name'] = data['Course_Name'].str.replace(',',' ')"
   ]
  },
  {
   "cell_type": "code",
   "execution_count": 22,
   "id": "9e541635",
   "metadata": {
    "execution": {
     "iopub.execute_input": "2022-01-26T14:19:47.817556Z",
     "iopub.status.busy": "2022-01-26T14:19:47.816533Z",
     "iopub.status.idle": "2022-01-26T14:19:47.827197Z",
     "shell.execute_reply": "2022-01-26T14:19:47.827814Z",
     "shell.execute_reply.started": "2022-01-26T12:58:11.491014Z"
    },
    "papermill": {
     "duration": 0.073413,
     "end_time": "2022-01-26T14:19:47.828002",
     "exception": false,
     "start_time": "2022-01-26T14:19:47.754589",
     "status": "completed"
    },
    "tags": []
   },
   "outputs": [
    {
     "name": "stderr",
     "output_type": "stream",
     "text": [
      "C:\\Users\\Deepika\\anaconda3\\envs\\cows\\lib\\site-packages\\pandas\\core\\frame.py:4308: SettingWithCopyWarning: \n",
      "A value is trying to be set on a copy of a slice from a DataFrame\n",
      "\n",
      "See the caveats in the documentation: https://pandas.pydata.org/pandas-docs/stable/user_guide/indexing.html#returning-a-view-versus-a-copy\n",
      "  errors=errors,\n"
     ]
    }
   ],
   "source": [
    "new_df.rename(columns = {'Course_Name':'course_name'}, inplace = True)"
   ]
  },
  {
   "cell_type": "code",
   "execution_count": 23,
   "id": "0e505ba4",
   "metadata": {
    "execution": {
     "iopub.execute_input": "2022-01-26T14:19:47.949931Z",
     "iopub.status.busy": "2022-01-26T14:19:47.948954Z",
     "iopub.status.idle": "2022-01-26T14:19:47.977325Z",
     "shell.execute_reply": "2022-01-26T14:19:47.977969Z",
     "shell.execute_reply.started": "2022-01-26T12:58:52.731609Z"
    },
    "papermill": {
     "duration": 0.090638,
     "end_time": "2022-01-26T14:19:47.978152",
     "exception": false,
     "start_time": "2022-01-26T14:19:47.887514",
     "status": "completed"
    },
    "tags": []
   },
   "outputs": [
    {
     "name": "stderr",
     "output_type": "stream",
     "text": [
      "C:\\Users\\Deepika\\anaconda3\\envs\\cows\\lib\\site-packages\\ipykernel_launcher.py:1: SettingWithCopyWarning: \n",
      "A value is trying to be set on a copy of a slice from a DataFrame.\n",
      "Try using .loc[row_indexer,col_indexer] = value instead\n",
      "\n",
      "See the caveats in the documentation: https://pandas.pydata.org/pandas-docs/stable/user_guide/indexing.html#returning-a-view-versus-a-copy\n",
      "  \"\"\"Entry point for launching an IPython kernel.\n"
     ]
    }
   ],
   "source": [
    "new_df['tags'] = new_df['tags'].apply(lambda x:x.lower()) #lower casing the tags column"
   ]
  },
  {
   "cell_type": "code",
   "execution_count": 24,
   "id": "e6261489",
   "metadata": {
    "execution": {
     "iopub.execute_input": "2022-01-26T14:19:48.112723Z",
     "iopub.status.busy": "2022-01-26T14:19:48.112045Z",
     "iopub.status.idle": "2022-01-26T14:19:48.121076Z",
     "shell.execute_reply": "2022-01-26T14:19:48.121592Z",
     "shell.execute_reply.started": "2022-01-26T12:58:55.635891Z"
    },
    "papermill": {
     "duration": 0.069732,
     "end_time": "2022-01-26T14:19:48.121783",
     "exception": false,
     "start_time": "2022-01-26T14:19:48.052051",
     "status": "completed"
    },
    "tags": []
   },
   "outputs": [
    {
     "data": {
      "text/html": [
       "<div>\n",
       "<style scoped>\n",
       "    .dataframe tbody tr th:only-of-type {\n",
       "        vertical-align: middle;\n",
       "    }\n",
       "\n",
       "    .dataframe tbody tr th {\n",
       "        vertical-align: top;\n",
       "    }\n",
       "\n",
       "    .dataframe thead th {\n",
       "        text-align: right;\n",
       "    }\n",
       "</style>\n",
       "<table border=\"1\" class=\"dataframe\">\n",
       "  <thead>\n",
       "    <tr style=\"text-align: right;\">\n",
       "      <th></th>\n",
       "      <th>course_name</th>\n",
       "      <th>tags</th>\n",
       "      <th>Course Rating</th>\n",
       "      <th>Difficulty_Level</th>\n",
       "      <th>user_profile</th>\n",
       "      <th>Marks</th>\n",
       "    </tr>\n",
       "  </thead>\n",
       "  <tbody>\n",
       "    <tr>\n",
       "      <th>0</th>\n",
       "      <td>Write A Feature Length Screenplay For Film Or ...</td>\n",
       "      <td>write a feature length screenplay for film or ...</td>\n",
       "      <td>4.8</td>\n",
       "      <td>Beginner</td>\n",
       "      <td>Student</td>\n",
       "      <td>89</td>\n",
       "    </tr>\n",
       "    <tr>\n",
       "      <th>1</th>\n",
       "      <td>Business Strategy Business Model Canvas Analys...</td>\n",
       "      <td>business strategy business model canvas analys...</td>\n",
       "      <td>4.8</td>\n",
       "      <td>Beginner</td>\n",
       "      <td>Student</td>\n",
       "      <td>92</td>\n",
       "    </tr>\n",
       "    <tr>\n",
       "      <th>2</th>\n",
       "      <td>Silicon Thin Film Solar Cells</td>\n",
       "      <td>silicon thin film solar cellsadvancedstudentch...</td>\n",
       "      <td>4.1</td>\n",
       "      <td>Advanced</td>\n",
       "      <td>Student</td>\n",
       "      <td>84</td>\n",
       "    </tr>\n",
       "    <tr>\n",
       "      <th>3</th>\n",
       "      <td>Finance for Managers</td>\n",
       "      <td>finance for managersintermediateprofessionalac...</td>\n",
       "      <td>4.8</td>\n",
       "      <td>Intermediate</td>\n",
       "      <td>Professional</td>\n",
       "      <td>86</td>\n",
       "    </tr>\n",
       "    <tr>\n",
       "      <th>4</th>\n",
       "      <td>Retrieve Data using Single-Table SQL Queries</td>\n",
       "      <td>retrieve data using single-table sql queriesbe...</td>\n",
       "      <td>4.6</td>\n",
       "      <td>Beginner</td>\n",
       "      <td>Professional</td>\n",
       "      <td>88</td>\n",
       "    </tr>\n",
       "  </tbody>\n",
       "</table>\n",
       "</div>"
      ],
      "text/plain": [
       "                                         course_name  \\\n",
       "0  Write A Feature Length Screenplay For Film Or ...   \n",
       "1  Business Strategy Business Model Canvas Analys...   \n",
       "2                      Silicon Thin Film Solar Cells   \n",
       "3                               Finance for Managers   \n",
       "4       Retrieve Data using Single-Table SQL Queries   \n",
       "\n",
       "                                                tags  Course Rating  \\\n",
       "0  write a feature length screenplay for film or ...            4.8   \n",
       "1  business strategy business model canvas analys...            4.8   \n",
       "2  silicon thin film solar cellsadvancedstudentch...            4.1   \n",
       "3  finance for managersintermediateprofessionalac...            4.8   \n",
       "4  retrieve data using single-table sql queriesbe...            4.6   \n",
       "\n",
       "  Difficulty_Level  user_profile  Marks  \n",
       "0         Beginner       Student     89  \n",
       "1         Beginner       Student     92  \n",
       "2         Advanced       Student     84  \n",
       "3     Intermediate  Professional     86  \n",
       "4         Beginner  Professional     88  "
      ]
     },
     "execution_count": 24,
     "metadata": {},
     "output_type": "execute_result"
    }
   ],
   "source": [
    "new_df.head(5)"
   ]
  },
  {
   "cell_type": "code",
   "execution_count": 25,
   "id": "cd53f691",
   "metadata": {
    "execution": {
     "iopub.execute_input": "2022-01-26T14:19:48.240478Z",
     "iopub.status.busy": "2022-01-26T14:19:48.239827Z",
     "iopub.status.idle": "2022-01-26T14:19:48.244379Z",
     "shell.execute_reply": "2022-01-26T14:19:48.244875Z",
     "shell.execute_reply.started": "2022-01-26T12:59:36.995288Z"
    },
    "papermill": {
     "duration": 0.065828,
     "end_time": "2022-01-26T14:19:48.245060",
     "exception": false,
     "start_time": "2022-01-26T14:19:48.179232",
     "status": "completed"
    },
    "tags": []
   },
   "outputs": [
    {
     "data": {
      "text/plain": [
       "(3522, 6)"
      ]
     },
     "execution_count": 25,
     "metadata": {},
     "output_type": "execute_result"
    }
   ],
   "source": [
    "new_df.shape #3522 courses with tags and 2 columns (course_name and tags)"
   ]
  },
  {
   "cell_type": "markdown",
   "id": "5fc92372",
   "metadata": {
    "papermill": {
     "duration": 0.060035,
     "end_time": "2022-01-26T14:19:48.362969",
     "exception": false,
     "start_time": "2022-01-26T14:19:48.302934",
     "status": "completed"
    },
    "tags": []
   },
   "source": [
    "# Text Vectorization"
   ]
  },
  {
   "cell_type": "code",
   "execution_count": 26,
   "id": "31838af1",
   "metadata": {
    "execution": {
     "iopub.execute_input": "2022-01-26T14:19:48.484188Z",
     "iopub.status.busy": "2022-01-26T14:19:48.483520Z",
     "iopub.status.idle": "2022-01-26T14:19:48.622802Z",
     "shell.execute_reply": "2022-01-26T14:19:48.622207Z",
     "shell.execute_reply.started": "2022-01-26T13:00:20.637145Z"
    },
    "papermill": {
     "duration": 0.201577,
     "end_time": "2022-01-26T14:19:48.622967",
     "exception": false,
     "start_time": "2022-01-26T14:19:48.421390",
     "status": "completed"
    },
    "tags": []
   },
   "outputs": [],
   "source": [
    "from sklearn.feature_extraction.text import CountVectorizer"
   ]
  },
  {
   "cell_type": "code",
   "execution_count": 27,
   "id": "fd4914e9",
   "metadata": {
    "execution": {
     "iopub.execute_input": "2022-01-26T14:19:48.746790Z",
     "iopub.status.busy": "2022-01-26T14:19:48.746084Z",
     "iopub.status.idle": "2022-01-26T14:19:48.748607Z",
     "shell.execute_reply": "2022-01-26T14:19:48.748074Z",
     "shell.execute_reply.started": "2022-01-26T13:00:25.765271Z"
    },
    "papermill": {
     "duration": 0.06615,
     "end_time": "2022-01-26T14:19:48.748745",
     "exception": false,
     "start_time": "2022-01-26T14:19:48.682595",
     "status": "completed"
    },
    "tags": []
   },
   "outputs": [],
   "source": [
    "cv = CountVectorizer(max_features=5000,stop_words='english')"
   ]
  },
  {
   "cell_type": "code",
   "execution_count": 28,
   "id": "27387243",
   "metadata": {
    "execution": {
     "iopub.execute_input": "2022-01-26T14:19:48.868706Z",
     "iopub.status.busy": "2022-01-26T14:19:48.868015Z",
     "iopub.status.idle": "2022-01-26T14:19:49.836960Z",
     "shell.execute_reply": "2022-01-26T14:19:49.837458Z",
     "shell.execute_reply.started": "2022-01-26T13:00:30.470945Z"
    },
    "papermill": {
     "duration": 1.030812,
     "end_time": "2022-01-26T14:19:49.837694",
     "exception": false,
     "start_time": "2022-01-26T14:19:48.806882",
     "status": "completed"
    },
    "tags": []
   },
   "outputs": [],
   "source": [
    "vectors = cv.fit_transform(new_df['tags']).toarray()"
   ]
  },
  {
   "cell_type": "markdown",
   "id": "38ab7235",
   "metadata": {
    "papermill": {
     "duration": 0.059295,
     "end_time": "2022-01-26T14:19:49.956538",
     "exception": false,
     "start_time": "2022-01-26T14:19:49.897243",
     "status": "completed"
    },
    "tags": []
   },
   "source": [
    "# Stemming Process"
   ]
  },
  {
   "cell_type": "code",
   "execution_count": 29,
   "id": "1948789d",
   "metadata": {
    "execution": {
     "iopub.execute_input": "2022-01-26T14:19:50.079154Z",
     "iopub.status.busy": "2022-01-26T14:19:50.078376Z",
     "iopub.status.idle": "2022-01-26T14:19:50.720939Z",
     "shell.execute_reply": "2022-01-26T14:19:50.720340Z",
     "shell.execute_reply.started": "2022-01-26T13:00:50.236008Z"
    },
    "papermill": {
     "duration": 0.70524,
     "end_time": "2022-01-26T14:19:50.721119",
     "exception": false,
     "start_time": "2022-01-26T14:19:50.015879",
     "status": "completed"
    },
    "tags": []
   },
   "outputs": [],
   "source": [
    "import nltk #for stemming process"
   ]
  },
  {
   "cell_type": "code",
   "execution_count": 30,
   "id": "89fc83f9",
   "metadata": {
    "execution": {
     "iopub.execute_input": "2022-01-26T14:19:50.844107Z",
     "iopub.status.busy": "2022-01-26T14:19:50.843400Z",
     "iopub.status.idle": "2022-01-26T14:19:50.847403Z",
     "shell.execute_reply": "2022-01-26T14:19:50.847932Z",
     "shell.execute_reply.started": "2022-01-26T13:00:55.372687Z"
    },
    "papermill": {
     "duration": 0.066187,
     "end_time": "2022-01-26T14:19:50.848117",
     "exception": false,
     "start_time": "2022-01-26T14:19:50.781930",
     "status": "completed"
    },
    "tags": []
   },
   "outputs": [],
   "source": [
    "from nltk.stem.porter import PorterStemmer\n",
    "ps = PorterStemmer()"
   ]
  },
  {
   "cell_type": "code",
   "execution_count": 31,
   "id": "78a4b977",
   "metadata": {
    "execution": {
     "iopub.execute_input": "2022-01-26T14:19:50.970441Z",
     "iopub.status.busy": "2022-01-26T14:19:50.969372Z",
     "iopub.status.idle": "2022-01-26T14:19:50.974055Z",
     "shell.execute_reply": "2022-01-26T14:19:50.974518Z",
     "shell.execute_reply.started": "2022-01-26T13:01:26.727138Z"
    },
    "papermill": {
     "duration": 0.067833,
     "end_time": "2022-01-26T14:19:50.974701",
     "exception": false,
     "start_time": "2022-01-26T14:19:50.906868",
     "status": "completed"
    },
    "tags": []
   },
   "outputs": [],
   "source": [
    "#defining the stemming function\n",
    "def stem(text):\n",
    "    y=[]\n",
    "    \n",
    "    for i in text.split():\n",
    "        y.append(ps.stem(i))\n",
    "    \n",
    "    return \" \".join(y)"
   ]
  },
  {
   "cell_type": "code",
   "execution_count": 32,
   "id": "20ba7749",
   "metadata": {
    "execution": {
     "iopub.execute_input": "2022-01-26T14:19:51.096458Z",
     "iopub.status.busy": "2022-01-26T14:19:51.095435Z",
     "iopub.status.idle": "2022-01-26T14:20:09.833321Z",
     "shell.execute_reply": "2022-01-26T14:20:09.834233Z",
     "shell.execute_reply.started": "2022-01-26T13:02:02.700396Z"
    },
    "papermill": {
     "duration": 18.800875,
     "end_time": "2022-01-26T14:20:09.834414",
     "exception": false,
     "start_time": "2022-01-26T14:19:51.033539",
     "status": "completed"
    },
    "tags": []
   },
   "outputs": [
    {
     "name": "stderr",
     "output_type": "stream",
     "text": [
      "C:\\Users\\Deepika\\anaconda3\\envs\\cows\\lib\\site-packages\\ipykernel_launcher.py:1: SettingWithCopyWarning: \n",
      "A value is trying to be set on a copy of a slice from a DataFrame.\n",
      "Try using .loc[row_indexer,col_indexer] = value instead\n",
      "\n",
      "See the caveats in the documentation: https://pandas.pydata.org/pandas-docs/stable/user_guide/indexing.html#returning-a-view-versus-a-copy\n",
      "  \"\"\"Entry point for launching an IPython kernel.\n"
     ]
    }
   ],
   "source": [
    "new_df['tags'] = new_df['tags'].apply(stem) #applying stemming on the tags column"
   ]
  },
  {
   "cell_type": "markdown",
   "id": "f0a0e70f",
   "metadata": {
    "papermill": {
     "duration": 0.059879,
     "end_time": "2022-01-26T14:20:09.952432",
     "exception": false,
     "start_time": "2022-01-26T14:20:09.892553",
     "status": "completed"
    },
    "tags": []
   },
   "source": [
    "# Similarity Measure "
   ]
  },
  {
   "cell_type": "code",
   "execution_count": 33,
   "id": "fe6ee857",
   "metadata": {
    "execution": {
     "iopub.execute_input": "2022-01-26T14:20:10.075324Z",
     "iopub.status.busy": "2022-01-26T14:20:10.074250Z",
     "iopub.status.idle": "2022-01-26T14:20:10.078349Z",
     "shell.execute_reply": "2022-01-26T14:20:10.078920Z",
     "shell.execute_reply.started": "2022-01-26T13:02:27.946429Z"
    },
    "papermill": {
     "duration": 0.067769,
     "end_time": "2022-01-26T14:20:10.079103",
     "exception": false,
     "start_time": "2022-01-26T14:20:10.011334",
     "status": "completed"
    },
    "tags": []
   },
   "outputs": [],
   "source": [
    "from sklearn.metrics.pairwise import cosine_similarity"
   ]
  },
  {
   "cell_type": "code",
   "execution_count": 34,
   "id": "e35f44be",
   "metadata": {
    "execution": {
     "iopub.execute_input": "2022-01-26T14:20:10.201244Z",
     "iopub.status.busy": "2022-01-26T14:20:10.200570Z",
     "iopub.status.idle": "2022-01-26T14:20:11.472233Z",
     "shell.execute_reply": "2022-01-26T14:20:11.473186Z",
     "shell.execute_reply.started": "2022-01-26T13:02:34.205466Z"
    },
    "papermill": {
     "duration": 1.335405,
     "end_time": "2022-01-26T14:20:11.473497",
     "exception": false,
     "start_time": "2022-01-26T14:20:10.138092",
     "status": "completed"
    },
    "tags": []
   },
   "outputs": [],
   "source": [
    "similarity = cosine_similarity(vectors)"
   ]
  },
  {
   "cell_type": "markdown",
   "id": "874d7de0",
   "metadata": {
    "papermill": {
     "duration": 0.059252,
     "end_time": "2022-01-26T14:20:11.619088",
     "exception": false,
     "start_time": "2022-01-26T14:20:11.559836",
     "status": "completed"
    },
    "tags": []
   },
   "source": [
    "# Recommendation Function"
   ]
  },
  {
   "cell_type": "code",
   "execution_count": 35,
   "id": "f2d42c64",
   "metadata": {},
   "outputs": [],
   "source": [
    "l1 = list()"
   ]
  },
  {
   "cell_type": "code",
   "execution_count": 36,
   "id": "d06b9051",
   "metadata": {},
   "outputs": [
    {
     "data": {
      "text/html": [
       "<div>\n",
       "<style scoped>\n",
       "    .dataframe tbody tr th:only-of-type {\n",
       "        vertical-align: middle;\n",
       "    }\n",
       "\n",
       "    .dataframe tbody tr th {\n",
       "        vertical-align: top;\n",
       "    }\n",
       "\n",
       "    .dataframe thead th {\n",
       "        text-align: right;\n",
       "    }\n",
       "</style>\n",
       "<table border=\"1\" class=\"dataframe\">\n",
       "  <thead>\n",
       "    <tr style=\"text-align: right;\">\n",
       "      <th></th>\n",
       "      <th>course_name</th>\n",
       "      <th>tags</th>\n",
       "      <th>Course Rating</th>\n",
       "      <th>Difficulty_Level</th>\n",
       "      <th>user_profile</th>\n",
       "      <th>Marks</th>\n",
       "    </tr>\n",
       "  </thead>\n",
       "  <tbody>\n",
       "    <tr>\n",
       "      <th>0</th>\n",
       "      <td>Write A Feature Length Screenplay For Film Or ...</td>\n",
       "      <td>write a featur length screenplay for film or t...</td>\n",
       "      <td>4.8</td>\n",
       "      <td>Beginner</td>\n",
       "      <td>Student</td>\n",
       "      <td>89</td>\n",
       "    </tr>\n",
       "    <tr>\n",
       "      <th>1</th>\n",
       "      <td>Business Strategy Business Model Canvas Analys...</td>\n",
       "      <td>busi strategi busi model canva analysi with mi...</td>\n",
       "      <td>4.8</td>\n",
       "      <td>Beginner</td>\n",
       "      <td>Student</td>\n",
       "      <td>92</td>\n",
       "    </tr>\n",
       "    <tr>\n",
       "      <th>2</th>\n",
       "      <td>Silicon Thin Film Solar Cells</td>\n",
       "      <td>silicon thin film solar cellsadvancedstudentch...</td>\n",
       "      <td>4.1</td>\n",
       "      <td>Advanced</td>\n",
       "      <td>Student</td>\n",
       "      <td>84</td>\n",
       "    </tr>\n",
       "    <tr>\n",
       "      <th>3</th>\n",
       "      <td>Finance for Managers</td>\n",
       "      <td>financ for managersintermediateprofessionalacc...</td>\n",
       "      <td>4.8</td>\n",
       "      <td>Intermediate</td>\n",
       "      <td>Professional</td>\n",
       "      <td>86</td>\n",
       "    </tr>\n",
       "    <tr>\n",
       "      <th>4</th>\n",
       "      <td>Retrieve Data using Single-Table SQL Queries</td>\n",
       "      <td>retriev data use single-t sql queriesbeginnerp...</td>\n",
       "      <td>4.6</td>\n",
       "      <td>Beginner</td>\n",
       "      <td>Professional</td>\n",
       "      <td>88</td>\n",
       "    </tr>\n",
       "    <tr>\n",
       "      <th>...</th>\n",
       "      <td>...</td>\n",
       "      <td>...</td>\n",
       "      <td>...</td>\n",
       "      <td>...</td>\n",
       "      <td>...</td>\n",
       "      <td>...</td>\n",
       "    </tr>\n",
       "    <tr>\n",
       "      <th>3517</th>\n",
       "      <td>Capstone Retrieving Processing and Visualizing...</td>\n",
       "      <td>capston retriev process and visual data with p...</td>\n",
       "      <td>4.6</td>\n",
       "      <td>Beginner</td>\n",
       "      <td>Professional</td>\n",
       "      <td>28</td>\n",
       "    </tr>\n",
       "    <tr>\n",
       "      <th>3518</th>\n",
       "      <td>Patrick Henry Forgotten Founder</td>\n",
       "      <td>patrick henri forgotten founderintermediatestu...</td>\n",
       "      <td>4.9</td>\n",
       "      <td>Intermediate</td>\n",
       "      <td>Student</td>\n",
       "      <td>2</td>\n",
       "    </tr>\n",
       "    <tr>\n",
       "      <th>3519</th>\n",
       "      <td>Business intelligence and data analytics Gener...</td>\n",
       "      <td>busi intellig and data analyt gener insightsad...</td>\n",
       "      <td>4.6</td>\n",
       "      <td>Advanced</td>\n",
       "      <td>Student</td>\n",
       "      <td>30</td>\n",
       "    </tr>\n",
       "    <tr>\n",
       "      <th>3520</th>\n",
       "      <td>Rigid Body Dynamics</td>\n",
       "      <td>rigid bodi dynamicsbeginnerstudentangular mech...</td>\n",
       "      <td>4.6</td>\n",
       "      <td>Beginner</td>\n",
       "      <td>Student</td>\n",
       "      <td>15</td>\n",
       "    </tr>\n",
       "    <tr>\n",
       "      <th>3521</th>\n",
       "      <td>Architecting with Google Kubernetes Engine Pro...</td>\n",
       "      <td>architect with googl kubernet engin production...</td>\n",
       "      <td>4.7</td>\n",
       "      <td>Intermediate</td>\n",
       "      <td>Professional</td>\n",
       "      <td>12</td>\n",
       "    </tr>\n",
       "  </tbody>\n",
       "</table>\n",
       "<p>3522 rows × 6 columns</p>\n",
       "</div>"
      ],
      "text/plain": [
       "                                            course_name  \\\n",
       "0     Write A Feature Length Screenplay For Film Or ...   \n",
       "1     Business Strategy Business Model Canvas Analys...   \n",
       "2                         Silicon Thin Film Solar Cells   \n",
       "3                                  Finance for Managers   \n",
       "4          Retrieve Data using Single-Table SQL Queries   \n",
       "...                                                 ...   \n",
       "3517  Capstone Retrieving Processing and Visualizing...   \n",
       "3518                    Patrick Henry Forgotten Founder   \n",
       "3519  Business intelligence and data analytics Gener...   \n",
       "3520                                Rigid Body Dynamics   \n",
       "3521  Architecting with Google Kubernetes Engine Pro...   \n",
       "\n",
       "                                                   tags  Course Rating  \\\n",
       "0     write a featur length screenplay for film or t...            4.8   \n",
       "1     busi strategi busi model canva analysi with mi...            4.8   \n",
       "2     silicon thin film solar cellsadvancedstudentch...            4.1   \n",
       "3     financ for managersintermediateprofessionalacc...            4.8   \n",
       "4     retriev data use single-t sql queriesbeginnerp...            4.6   \n",
       "...                                                 ...            ...   \n",
       "3517  capston retriev process and visual data with p...            4.6   \n",
       "3518  patrick henri forgotten founderintermediatestu...            4.9   \n",
       "3519  busi intellig and data analyt gener insightsad...            4.6   \n",
       "3520  rigid bodi dynamicsbeginnerstudentangular mech...            4.6   \n",
       "3521  architect with googl kubernet engin production...            4.7   \n",
       "\n",
       "     Difficulty_Level  user_profile  Marks  \n",
       "0            Beginner       Student     89  \n",
       "1            Beginner       Student     92  \n",
       "2            Advanced       Student     84  \n",
       "3        Intermediate  Professional     86  \n",
       "4            Beginner  Professional     88  \n",
       "...               ...           ...    ...  \n",
       "3517         Beginner  Professional     28  \n",
       "3518     Intermediate       Student      2  \n",
       "3519         Advanced       Student     30  \n",
       "3520         Beginner       Student     15  \n",
       "3521     Intermediate  Professional     12  \n",
       "\n",
       "[3522 rows x 6 columns]"
      ]
     },
     "execution_count": 36,
     "metadata": {},
     "output_type": "execute_result"
    }
   ],
   "source": [
    "new_df"
   ]
  },
  {
   "cell_type": "code",
   "execution_count": 41,
   "id": "e6470363",
   "metadata": {
    "execution": {
     "iopub.execute_input": "2022-01-26T14:20:11.745691Z",
     "iopub.status.busy": "2022-01-26T14:20:11.744935Z",
     "iopub.status.idle": "2022-01-26T14:20:11.746394Z",
     "shell.execute_reply": "2022-01-26T14:20:11.746994Z",
     "shell.execute_reply.started": "2022-01-26T13:03:26.756125Z"
    },
    "papermill": {
     "duration": 0.068387,
     "end_time": "2022-01-26T14:20:11.747173",
     "exception": false,
     "start_time": "2022-01-26T14:20:11.678786",
     "status": "completed"
    },
    "tags": []
   },
   "outputs": [],
   "source": [
    "def recommend(course, row_number):\n",
    "#     print(new_df.columns.values[0])\n",
    "    course_index = new_df[new_df['course_name'] == course].index[0]\n",
    "    distances = similarity[course_index]\n",
    "    course_list = sorted(list(enumerate(distances)),reverse=True, key=lambda x:x[1])[1:7]\n",
    "    l3 = []\n",
    "    for i in course_list:\n",
    "        l3.append(new_df.iloc[i[0]].course_name)\n",
    "    new_df['Recommendation'][row_number] = \",\".join(l3)\n",
    "#             new_df.iloc[i[0]].course_name\n",
    "#         l1.append(new_df.iloc[i[0]].course_name)\n",
    "        \n",
    "       \n",
    "#     return l1"
   ]
  },
  {
   "cell_type": "code",
   "execution_count": 40,
   "id": "376cf09e",
   "metadata": {},
   "outputs": [],
   "source": [
    "recommend('Business Strategy Business Model Canvas Analysis with Miro') "
   ]
  },
  {
   "cell_type": "code",
   "execution_count": 42,
   "id": "7d66b3b7",
   "metadata": {
    "execution": {
     "iopub.execute_input": "2022-01-26T14:20:11.872210Z",
     "iopub.status.busy": "2022-01-26T14:20:11.871269Z",
     "iopub.status.idle": "2022-01-26T14:20:11.884642Z",
     "shell.execute_reply": "2022-01-26T14:20:11.885341Z",
     "shell.execute_reply.started": "2022-01-26T13:03:28.042547Z"
    },
    "papermill": {
     "duration": 0.076619,
     "end_time": "2022-01-26T14:20:11.885608",
     "exception": false,
     "start_time": "2022-01-26T14:20:11.808989",
     "status": "completed"
    },
    "tags": []
   },
   "outputs": [
    {
     "name": "stderr",
     "output_type": "stream",
     "text": [
      "C:\\Users\\Deepika\\anaconda3\\envs\\cows\\lib\\site-packages\\ipykernel_launcher.py:9: SettingWithCopyWarning: \n",
      "A value is trying to be set on a copy of a slice from a DataFrame\n",
      "\n",
      "See the caveats in the documentation: https://pandas.pydata.org/pandas-docs/stable/user_guide/indexing.html#returning-a-view-versus-a-copy\n",
      "  if __name__ == '__main__':\n"
     ]
    }
   ],
   "source": [
    "for i in range(new_df.shape[0]):\n",
    "    recommend(new_df['course_name'][i], i) "
   ]
  },
  {
   "cell_type": "code",
   "execution_count": 43,
   "id": "d5a57a9f",
   "metadata": {},
   "outputs": [],
   "source": [
    "new_df = new_df.sort_values(['Course Rating','Marks'], ascending = False)"
   ]
  },
  {
   "cell_type": "code",
   "execution_count": 44,
   "id": "abab9a2d",
   "metadata": {},
   "outputs": [],
   "source": [
    "new_df.to_csv('record1.csv')"
   ]
  },
  {
   "cell_type": "code",
   "execution_count": 45,
   "id": "88a1e132",
   "metadata": {},
   "outputs": [],
   "source": [
    "import pickle\n"
   ]
  },
  {
   "cell_type": "code",
   "execution_count": 46,
   "id": "3a38e60f",
   "metadata": {},
   "outputs": [],
   "source": [
    "pickle.dump(similarity,open('similarity1.pkl','wb'))\n",
    "pickle.dump(new_df.to_dict(),open('course_list1.pkl','wb')) #contains the dataframe in dict \n",
    "pickle.dump(new_df,open('courses1.pkl','wb'))"
   ]
  },
  {
   "cell_type": "code",
   "execution_count": 47,
   "id": "be1694ea",
   "metadata": {},
   "outputs": [],
   "source": [
    "new_df.drop(columns = 'tags', inplace = True)"
   ]
  },
  {
   "cell_type": "code",
   "execution_count": 48,
   "id": "cbc5faaa",
   "metadata": {},
   "outputs": [
    {
     "data": {
      "text/html": [
       "<div>\n",
       "<style scoped>\n",
       "    .dataframe tbody tr th:only-of-type {\n",
       "        vertical-align: middle;\n",
       "    }\n",
       "\n",
       "    .dataframe tbody tr th {\n",
       "        vertical-align: top;\n",
       "    }\n",
       "\n",
       "    .dataframe thead th {\n",
       "        text-align: right;\n",
       "    }\n",
       "</style>\n",
       "<table border=\"1\" class=\"dataframe\">\n",
       "  <thead>\n",
       "    <tr style=\"text-align: right;\">\n",
       "      <th></th>\n",
       "      <th>course_name</th>\n",
       "      <th>Course Rating</th>\n",
       "      <th>Difficulty_Level</th>\n",
       "      <th>user_profile</th>\n",
       "      <th>Marks</th>\n",
       "      <th>Recommendation</th>\n",
       "    </tr>\n",
       "  </thead>\n",
       "  <tbody>\n",
       "    <tr>\n",
       "      <th>196</th>\n",
       "      <td>AWS Elastic BeanstalkDeploy a Python(Flask) We...</td>\n",
       "      <td>5.0</td>\n",
       "      <td>Beginner</td>\n",
       "      <td>Professional</td>\n",
       "      <td>95</td>\n",
       "      <td>AWS Elastic Beanstalk Build &amp; Deploy a Node.js...</td>\n",
       "    </tr>\n",
       "    <tr>\n",
       "      <th>69</th>\n",
       "      <td>Create an FPS Weapon in Unity (Part 1 - Revolver)</td>\n",
       "      <td>5.0</td>\n",
       "      <td>Advanced</td>\n",
       "      <td>Professional</td>\n",
       "      <td>93</td>\n",
       "      <td>Create an FPS Weapon in Unity (Part 3 -Damage ...</td>\n",
       "    </tr>\n",
       "    <tr>\n",
       "      <th>27</th>\n",
       "      <td>AWS Elastic Beanstalk Build &amp; Deploy a Node.js...</td>\n",
       "      <td>5.0</td>\n",
       "      <td>Advanced</td>\n",
       "      <td>Student</td>\n",
       "      <td>92</td>\n",
       "      <td>AWS Fundamentals Migrating to the Cloud,RESTfu...</td>\n",
       "    </tr>\n",
       "    <tr>\n",
       "      <th>60</th>\n",
       "      <td>Change Leadership Developing Force Field Analy...</td>\n",
       "      <td>5.0</td>\n",
       "      <td>Advanced</td>\n",
       "      <td>Professional</td>\n",
       "      <td>92</td>\n",
       "      <td>Change Leadership Strategic Route Analysis wit...</td>\n",
       "    </tr>\n",
       "    <tr>\n",
       "      <th>1471</th>\n",
       "      <td>Design Computing 3D Modeling in Rhinoceros wit...</td>\n",
       "      <td>5.0</td>\n",
       "      <td>Advanced</td>\n",
       "      <td>Student</td>\n",
       "      <td>91</td>\n",
       "      <td>3D Model Creation with Autodesk Fusion 360,Mod...</td>\n",
       "    </tr>\n",
       "  </tbody>\n",
       "</table>\n",
       "</div>"
      ],
      "text/plain": [
       "                                            course_name  Course Rating  \\\n",
       "196   AWS Elastic BeanstalkDeploy a Python(Flask) We...            5.0   \n",
       "69    Create an FPS Weapon in Unity (Part 1 - Revolver)            5.0   \n",
       "27    AWS Elastic Beanstalk Build & Deploy a Node.js...            5.0   \n",
       "60    Change Leadership Developing Force Field Analy...            5.0   \n",
       "1471  Design Computing 3D Modeling in Rhinoceros wit...            5.0   \n",
       "\n",
       "     Difficulty_Level  user_profile  Marks  \\\n",
       "196          Beginner  Professional     95   \n",
       "69           Advanced  Professional     93   \n",
       "27           Advanced       Student     92   \n",
       "60           Advanced  Professional     92   \n",
       "1471         Advanced       Student     91   \n",
       "\n",
       "                                         Recommendation  \n",
       "196   AWS Elastic Beanstalk Build & Deploy a Node.js...  \n",
       "69    Create an FPS Weapon in Unity (Part 3 -Damage ...  \n",
       "27    AWS Fundamentals Migrating to the Cloud,RESTfu...  \n",
       "60    Change Leadership Strategic Route Analysis wit...  \n",
       "1471  3D Model Creation with Autodesk Fusion 360,Mod...  "
      ]
     },
     "execution_count": 48,
     "metadata": {},
     "output_type": "execute_result"
    }
   ],
   "source": [
    "new_df.head()"
   ]
  },
  {
   "cell_type": "code",
   "execution_count": 49,
   "id": "560ee7f8",
   "metadata": {},
   "outputs": [],
   "source": [
    "#pycaret setup\n",
    "from pycaret.nlp import *\n",
    "# clf = setup(data, target = 'Course_Name', session_id=562, silent = True)"
   ]
  },
  {
   "cell_type": "code",
   "execution_count": 50,
   "id": "18e714a2",
   "metadata": {},
   "outputs": [],
   "source": [
    "from nltk.corpus import stopwords\n"
   ]
  },
  {
   "cell_type": "code",
   "execution_count": 51,
   "id": "b3a16571",
   "metadata": {},
   "outputs": [],
   "source": [
    "stop_words = stopwords.words('english')\n"
   ]
  },
  {
   "cell_type": "code",
   "execution_count": 52,
   "id": "2703aa06",
   "metadata": {},
   "outputs": [
    {
     "data": {
      "text/html": [
       "<style  type=\"text/css\" >\n",
       "</style><table id=\"T_d62ffb6c_9b0b_11ec_966a_5c3a45ab6a5c\" ><thead>    <tr>        <th class=\"col_heading level0 col0\" >Description</th>        <th class=\"col_heading level0 col1\" >Value</th>    </tr></thead><tbody>\n",
       "                <tr>\n",
       "                                <td id=\"T_d62ffb6c_9b0b_11ec_966a_5c3a45ab6a5crow0_col0\" class=\"data row0 col0\" >session_id</td>\n",
       "                        <td id=\"T_d62ffb6c_9b0b_11ec_966a_5c3a45ab6a5crow0_col1\" class=\"data row0 col1\" >21</td>\n",
       "            </tr>\n",
       "            <tr>\n",
       "                                <td id=\"T_d62ffb6c_9b0b_11ec_966a_5c3a45ab6a5crow1_col0\" class=\"data row1 col0\" >Documents</td>\n",
       "                        <td id=\"T_d62ffb6c_9b0b_11ec_966a_5c3a45ab6a5crow1_col1\" class=\"data row1 col1\" >3522</td>\n",
       "            </tr>\n",
       "            <tr>\n",
       "                                <td id=\"T_d62ffb6c_9b0b_11ec_966a_5c3a45ab6a5crow2_col0\" class=\"data row2 col0\" >Vocab Size</td>\n",
       "                        <td id=\"T_d62ffb6c_9b0b_11ec_966a_5c3a45ab6a5crow2_col1\" class=\"data row2 col1\" >4134</td>\n",
       "            </tr>\n",
       "            <tr>\n",
       "                                <td id=\"T_d62ffb6c_9b0b_11ec_966a_5c3a45ab6a5crow3_col0\" class=\"data row3 col0\" >Custom Stopwords</td>\n",
       "                        <td id=\"T_d62ffb6c_9b0b_11ec_966a_5c3a45ab6a5crow3_col1\" class=\"data row3 col1\" >True</td>\n",
       "            </tr>\n",
       "    </tbody></table>"
      ],
      "text/plain": [
       "<pandas.io.formats.style.Styler at 0x22570f365f8>"
      ]
     },
     "metadata": {},
     "output_type": "display_data"
    },
    {
     "name": "stdout",
     "output_type": "stream",
     "text": [
      "Wall time: 13.4 s\n"
     ]
    }
   ],
   "source": [
    "%time su_1 = setup(data = data, target = 'tags', session_id=21, custom_stopwords = stop_words)"
   ]
  },
  {
   "cell_type": "code",
   "execution_count": 53,
   "id": "102c4011",
   "metadata": {},
   "outputs": [
    {
     "name": "stdout",
     "output_type": "stream",
     "text": [
      "Wall time: 5.33 s\n"
     ]
    }
   ],
   "source": [
    "%time m1 = create_model(model='lda', multi_core=True)\n"
   ]
  },
  {
   "cell_type": "code",
   "execution_count": 54,
   "id": "3854a8c5",
   "metadata": {},
   "outputs": [
    {
     "data": {
      "application/vnd.jupyter.widget-view+json": {
       "model_id": "278abc8688ee4c81aa014a7f5812d0ba",
       "version_major": 2,
       "version_minor": 0
      },
      "text/plain": [
       "IntProgress(value=0, description='Processing: ', max=3527)"
      ]
     },
     "metadata": {},
     "output_type": "display_data"
    },
    {
     "data": {
      "text/html": [
       "<div>\n",
       "<style scoped>\n",
       "    .dataframe tbody tr th:only-of-type {\n",
       "        vertical-align: middle;\n",
       "    }\n",
       "\n",
       "    .dataframe tbody tr th {\n",
       "        vertical-align: top;\n",
       "    }\n",
       "\n",
       "    .dataframe thead th {\n",
       "        text-align: right;\n",
       "    }\n",
       "</style>\n",
       "<table border=\"1\" class=\"dataframe\">\n",
       "  <thead>\n",
       "    <tr style=\"text-align: right;\">\n",
       "      <th></th>\n",
       "      <th></th>\n",
       "      <th></th>\n",
       "    </tr>\n",
       "    <tr>\n",
       "      <th></th>\n",
       "      <th></th>\n",
       "      <th></th>\n",
       "    </tr>\n",
       "  </thead>\n",
       "  <tbody>\n",
       "    <tr>\n",
       "      <th>Initiated</th>\n",
       "      <td>. . . . . . . . . . . . . . . . . .</td>\n",
       "      <td>21:36:23</td>\n",
       "    </tr>\n",
       "    <tr>\n",
       "      <th>Status</th>\n",
       "      <td>. . . . . . . . . . . . . . . . . .</td>\n",
       "      <td>Extracting Topics from Model</td>\n",
       "    </tr>\n",
       "  </tbody>\n",
       "</table>\n",
       "</div>"
      ],
      "text/plain": [
       "                                                                            \n",
       "                                                                            \n",
       "Initiated  . . . . . . . . . . . . . . . . . .                      21:36:23\n",
       "Status     . . . . . . . . . . . . . . . . . .  Extracting Topics from Model"
      ]
     },
     "metadata": {},
     "output_type": "display_data"
    },
    {
     "name": "stderr",
     "output_type": "stream",
     "text": [
      "IOPub message rate exceeded.\n",
      "The notebook server will temporarily stop sending output\n",
      "to the client in order to avoid crashing it.\n",
      "To change this limit, set the config variable\n",
      "`--NotebookApp.iopub_msg_rate_limit`.\n",
      "\n",
      "Current values:\n",
      "NotebookApp.iopub_msg_rate_limit=1000.0 (msgs/sec)\n",
      "NotebookApp.rate_limit_window=3.0 (secs)\n",
      "\n"
     ]
    }
   ],
   "source": [
    "%time lda_data = assign_model(m1)\n"
   ]
  },
  {
   "cell_type": "code",
   "execution_count": 55,
   "id": "2e7e8b23",
   "metadata": {},
   "outputs": [
    {
     "data": {
      "text/html": [
       "<div>\n",
       "<style scoped>\n",
       "    .dataframe tbody tr th:only-of-type {\n",
       "        vertical-align: middle;\n",
       "    }\n",
       "\n",
       "    .dataframe tbody tr th {\n",
       "        vertical-align: top;\n",
       "    }\n",
       "\n",
       "    .dataframe thead th {\n",
       "        text-align: right;\n",
       "    }\n",
       "</style>\n",
       "<table border=\"1\" class=\"dataframe\">\n",
       "  <thead>\n",
       "    <tr style=\"text-align: right;\">\n",
       "      <th></th>\n",
       "      <th>Course_Name</th>\n",
       "      <th>Difficulty_Level</th>\n",
       "      <th>Skills</th>\n",
       "      <th>Course Rating</th>\n",
       "      <th>user_profile</th>\n",
       "      <th>Marks</th>\n",
       "      <th>tags</th>\n",
       "      <th>Topic_0</th>\n",
       "      <th>Topic_1</th>\n",
       "      <th>Topic_2</th>\n",
       "      <th>Topic_3</th>\n",
       "      <th>Dominant_Topic</th>\n",
       "      <th>Perc_Dominant_Topic</th>\n",
       "    </tr>\n",
       "  </thead>\n",
       "  <tbody>\n",
       "    <tr>\n",
       "      <th>0</th>\n",
       "      <td>Write,A,Feature,Length,Screenplay,For,Film,Or,...</td>\n",
       "      <td>Beginner</td>\n",
       "      <td>Drama  Comedy  peering  screenwriting  film  D...</td>\n",
       "      <td>4.8</td>\n",
       "      <td>Student</td>\n",
       "      <td>89</td>\n",
       "      <td>write feature length screenplay film comedy pe...</td>\n",
       "      <td>0.018761</td>\n",
       "      <td>0.018452</td>\n",
       "      <td>0.944073</td>\n",
       "      <td>0.018714</td>\n",
       "      <td>Topic 2</td>\n",
       "      <td>0.94</td>\n",
       "    </tr>\n",
       "    <tr>\n",
       "      <th>1</th>\n",
       "      <td>Business,Strategy,Business,Model,Canvas,Analys...</td>\n",
       "      <td>Beginner</td>\n",
       "      <td>Finance  business plan  persona user experienc...</td>\n",
       "      <td>4.8</td>\n",
       "      <td>Student</td>\n",
       "      <td>92</td>\n",
       "      <td>business strategy analysis business plan perso...</td>\n",
       "      <td>0.014103</td>\n",
       "      <td>0.957848</td>\n",
       "      <td>0.013904</td>\n",
       "      <td>0.014145</td>\n",
       "      <td>Topic 1</td>\n",
       "      <td>0.96</td>\n",
       "    </tr>\n",
       "    <tr>\n",
       "      <th>2</th>\n",
       "      <td>Silicon,Thin,Film,Solar,Cells</td>\n",
       "      <td>Advanced</td>\n",
       "      <td>chemistry  physics  Solar Energy  film  lambda...</td>\n",
       "      <td>4.1</td>\n",
       "      <td>Student</td>\n",
       "      <td>84</td>\n",
       "      <td>film physics energy film electrical engineerin...</td>\n",
       "      <td>0.015683</td>\n",
       "      <td>0.015629</td>\n",
       "      <td>0.162049</td>\n",
       "      <td>0.806639</td>\n",
       "      <td>Topic 3</td>\n",
       "      <td>0.81</td>\n",
       "    </tr>\n",
       "    <tr>\n",
       "      <th>3</th>\n",
       "      <td>Finance,for,Managers</td>\n",
       "      <td>Intermediate</td>\n",
       "      <td>accounts receivable  dupont analysis  analysis...</td>\n",
       "      <td>4.8</td>\n",
       "      <td>Professional</td>\n",
       "      <td>86</td>\n",
       "      <td>finance analysis accounting finance operation ...</td>\n",
       "      <td>0.019976</td>\n",
       "      <td>0.941383</td>\n",
       "      <td>0.019279</td>\n",
       "      <td>0.019362</td>\n",
       "      <td>Topic 1</td>\n",
       "      <td>0.94</td>\n",
       "    </tr>\n",
       "    <tr>\n",
       "      <th>4</th>\n",
       "      <td>Retrieve,Data,using,Single-Table,SQL,Queries</td>\n",
       "      <td>Beginner</td>\n",
       "      <td>Data Analysis  select sql  database management...</td>\n",
       "      <td>4.6</td>\n",
       "      <td>Professional</td>\n",
       "      <td>88</td>\n",
       "      <td>retrieve datum use single table management sys...</td>\n",
       "      <td>0.555822</td>\n",
       "      <td>0.101168</td>\n",
       "      <td>0.014798</td>\n",
       "      <td>0.328211</td>\n",
       "      <td>Topic 0</td>\n",
       "      <td>0.56</td>\n",
       "    </tr>\n",
       "  </tbody>\n",
       "</table>\n",
       "</div>"
      ],
      "text/plain": [
       "                                         Course_Name Difficulty_Level  \\\n",
       "0  Write,A,Feature,Length,Screenplay,For,Film,Or,...         Beginner   \n",
       "1  Business,Strategy,Business,Model,Canvas,Analys...         Beginner   \n",
       "2                      Silicon,Thin,Film,Solar,Cells         Advanced   \n",
       "3                               Finance,for,Managers     Intermediate   \n",
       "4       Retrieve,Data,using,Single-Table,SQL,Queries         Beginner   \n",
       "\n",
       "                                              Skills  Course Rating  \\\n",
       "0  Drama  Comedy  peering  screenwriting  film  D...            4.8   \n",
       "1  Finance  business plan  persona user experienc...            4.8   \n",
       "2  chemistry  physics  Solar Energy  film  lambda...            4.1   \n",
       "3  accounts receivable  dupont analysis  analysis...            4.8   \n",
       "4  Data Analysis  select sql  database management...            4.6   \n",
       "\n",
       "   user_profile  Marks                                               tags  \\\n",
       "0       Student     89  write feature length screenplay film comedy pe...   \n",
       "1       Student     92  business strategy analysis business plan perso...   \n",
       "2       Student     84  film physics energy film electrical engineerin...   \n",
       "3  Professional     86  finance analysis accounting finance operation ...   \n",
       "4  Professional     88  retrieve datum use single table management sys...   \n",
       "\n",
       "    Topic_0   Topic_1   Topic_2   Topic_3 Dominant_Topic  Perc_Dominant_Topic  \n",
       "0  0.018761  0.018452  0.944073  0.018714        Topic 2                 0.94  \n",
       "1  0.014103  0.957848  0.013904  0.014145        Topic 1                 0.96  \n",
       "2  0.015683  0.015629  0.162049  0.806639        Topic 3                 0.81  \n",
       "3  0.019976  0.941383  0.019279  0.019362        Topic 1                 0.94  \n",
       "4  0.555822  0.101168  0.014798  0.328211        Topic 0                 0.56  "
      ]
     },
     "execution_count": 55,
     "metadata": {},
     "output_type": "execute_result"
    }
   ],
   "source": [
    "lda_data.head()"
   ]
  },
  {
   "cell_type": "code",
   "execution_count": 56,
   "id": "d35603cc",
   "metadata": {},
   "outputs": [
    {
     "data": {
      "text/html": [
       "        <script type=\"text/javascript\">\n",
       "        window.PlotlyConfig = {MathJaxConfig: 'local'};\n",
       "        if (window.MathJax) {MathJax.Hub.Config({SVG: {font: \"STIX-Web\"}});}\n",
       "        if (typeof require !== 'undefined') {\n",
       "        require.undef(\"plotly\");\n",
       "        requirejs.config({\n",
       "            paths: {\n",
       "                'plotly': ['https://cdn.plot.ly/plotly-2.9.0.min']\n",
       "            }\n",
       "        });\n",
       "        require(['plotly'], function(Plotly) {\n",
       "            window._Plotly = Plotly;\n",
       "        });\n",
       "        }\n",
       "        </script>\n",
       "        "
      ]
     },
     "metadata": {},
     "output_type": "display_data"
    },
    {
     "data": {
      "application/vnd.plotly.v1+json": {
       "config": {
        "linkText": "Export to plot.ly",
        "plotlyServerURL": "https://plot.ly",
        "showLink": true
       },
       "data": [
        {
         "marker": {
          "color": "rgba(255, 153, 51, 0.6)",
          "line": {
           "color": "rgba(255, 153, 51, 1.0)",
           "width": 1
          }
         },
         "name": "count",
         "orientation": "v",
         "text": "",
         "type": "bar",
         "x": [
          "business",
          "science",
          "management",
          "computer",
          "analysis",
          "development",
          "learn",
          "engineering",
          "datum",
          "leadership",
          "language",
          "machine",
          "programming",
          "design",
          "software",
          "strategy",
          "project",
          "web",
          "marketing",
          "security",
          "system",
          "model",
          "finance",
          "cloud",
          "market",
          "learning",
          "process",
          "health",
          "communication",
          "history",
          "network",
          "compute",
          "social",
          "data",
          "art",
          "economic",
          "music",
          "public",
          "physical",
          "law",
          "psychology",
          "education",
          "human",
          "risk",
          "write",
          "product",
          "introduction",
          "planning",
          "plan",
          "use",
          "personal",
          "writing",
          "application",
          "medium",
          "research",
          "regression",
          "life",
          "essential",
          "global",
          "basic",
          "financial",
          "program",
          "sustainability",
          "energy",
          "mechanical",
          "electrical",
          "think",
          "evaluation",
          "database",
          "analytic",
          "sale",
          "graphic",
          "arts_humanitie",
          "method",
          "platform",
          "algorithm",
          "digital",
          "environmental",
          "euler_totient_function",
          "modeling",
          "create",
          "experience",
          "build",
          "service",
          "theory",
          "teach",
          "strategic",
          "deep",
          "accounting",
          "innovation",
          "interface",
          "investment",
          "brand",
          "mobile",
          "stock",
          "culture",
          "resource",
          "architecture",
          "structure",
          "value"
         ],
         "y": [
          1450,
          1444,
          1393,
          1032,
          1015,
          837,
          790,
          764,
          724,
          715,
          655,
          640,
          634,
          629,
          626,
          552,
          544,
          466,
          451,
          406,
          386,
          378,
          362,
          352,
          334,
          325,
          314,
          308,
          296,
          284,
          280,
          279,
          256,
          251,
          246,
          244,
          241,
          235,
          219,
          212,
          207,
          202,
          198,
          198,
          198,
          192,
          190,
          187,
          184,
          182,
          177,
          167,
          158,
          157,
          155,
          150,
          146,
          146,
          145,
          145,
          145,
          141,
          139,
          139,
          138,
          138,
          132,
          126,
          126,
          124,
          123,
          121,
          117,
          117,
          116,
          114,
          114,
          110,
          110,
          109,
          109,
          109,
          107,
          106,
          106,
          106,
          103,
          102,
          101,
          101,
          99,
          97,
          96,
          96,
          92,
          90,
          90,
          87,
          85,
          85
         ]
        }
       ],
       "layout": {
        "legend": {
         "bgcolor": "#F5F6F9",
         "font": {
          "color": "#4D5663"
         }
        },
        "paper_bgcolor": "#F5F6F9",
        "plot_bgcolor": "#F5F6F9",
        "template": {
         "data": {
          "bar": [
           {
            "error_x": {
             "color": "#2a3f5f"
            },
            "error_y": {
             "color": "#2a3f5f"
            },
            "marker": {
             "line": {
              "color": "#E5ECF6",
              "width": 0.5
             },
             "pattern": {
              "fillmode": "overlay",
              "size": 10,
              "solidity": 0.2
             }
            },
            "type": "bar"
           }
          ],
          "barpolar": [
           {
            "marker": {
             "line": {
              "color": "#E5ECF6",
              "width": 0.5
             },
             "pattern": {
              "fillmode": "overlay",
              "size": 10,
              "solidity": 0.2
             }
            },
            "type": "barpolar"
           }
          ],
          "carpet": [
           {
            "aaxis": {
             "endlinecolor": "#2a3f5f",
             "gridcolor": "white",
             "linecolor": "white",
             "minorgridcolor": "white",
             "startlinecolor": "#2a3f5f"
            },
            "baxis": {
             "endlinecolor": "#2a3f5f",
             "gridcolor": "white",
             "linecolor": "white",
             "minorgridcolor": "white",
             "startlinecolor": "#2a3f5f"
            },
            "type": "carpet"
           }
          ],
          "choropleth": [
           {
            "colorbar": {
             "outlinewidth": 0,
             "ticks": ""
            },
            "type": "choropleth"
           }
          ],
          "contour": [
           {
            "colorbar": {
             "outlinewidth": 0,
             "ticks": ""
            },
            "colorscale": [
             [
              0,
              "#0d0887"
             ],
             [
              0.1111111111111111,
              "#46039f"
             ],
             [
              0.2222222222222222,
              "#7201a8"
             ],
             [
              0.3333333333333333,
              "#9c179e"
             ],
             [
              0.4444444444444444,
              "#bd3786"
             ],
             [
              0.5555555555555556,
              "#d8576b"
             ],
             [
              0.6666666666666666,
              "#ed7953"
             ],
             [
              0.7777777777777778,
              "#fb9f3a"
             ],
             [
              0.8888888888888888,
              "#fdca26"
             ],
             [
              1,
              "#f0f921"
             ]
            ],
            "type": "contour"
           }
          ],
          "contourcarpet": [
           {
            "colorbar": {
             "outlinewidth": 0,
             "ticks": ""
            },
            "type": "contourcarpet"
           }
          ],
          "heatmap": [
           {
            "colorbar": {
             "outlinewidth": 0,
             "ticks": ""
            },
            "colorscale": [
             [
              0,
              "#0d0887"
             ],
             [
              0.1111111111111111,
              "#46039f"
             ],
             [
              0.2222222222222222,
              "#7201a8"
             ],
             [
              0.3333333333333333,
              "#9c179e"
             ],
             [
              0.4444444444444444,
              "#bd3786"
             ],
             [
              0.5555555555555556,
              "#d8576b"
             ],
             [
              0.6666666666666666,
              "#ed7953"
             ],
             [
              0.7777777777777778,
              "#fb9f3a"
             ],
             [
              0.8888888888888888,
              "#fdca26"
             ],
             [
              1,
              "#f0f921"
             ]
            ],
            "type": "heatmap"
           }
          ],
          "heatmapgl": [
           {
            "colorbar": {
             "outlinewidth": 0,
             "ticks": ""
            },
            "colorscale": [
             [
              0,
              "#0d0887"
             ],
             [
              0.1111111111111111,
              "#46039f"
             ],
             [
              0.2222222222222222,
              "#7201a8"
             ],
             [
              0.3333333333333333,
              "#9c179e"
             ],
             [
              0.4444444444444444,
              "#bd3786"
             ],
             [
              0.5555555555555556,
              "#d8576b"
             ],
             [
              0.6666666666666666,
              "#ed7953"
             ],
             [
              0.7777777777777778,
              "#fb9f3a"
             ],
             [
              0.8888888888888888,
              "#fdca26"
             ],
             [
              1,
              "#f0f921"
             ]
            ],
            "type": "heatmapgl"
           }
          ],
          "histogram": [
           {
            "marker": {
             "pattern": {
              "fillmode": "overlay",
              "size": 10,
              "solidity": 0.2
             }
            },
            "type": "histogram"
           }
          ],
          "histogram2d": [
           {
            "colorbar": {
             "outlinewidth": 0,
             "ticks": ""
            },
            "colorscale": [
             [
              0,
              "#0d0887"
             ],
             [
              0.1111111111111111,
              "#46039f"
             ],
             [
              0.2222222222222222,
              "#7201a8"
             ],
             [
              0.3333333333333333,
              "#9c179e"
             ],
             [
              0.4444444444444444,
              "#bd3786"
             ],
             [
              0.5555555555555556,
              "#d8576b"
             ],
             [
              0.6666666666666666,
              "#ed7953"
             ],
             [
              0.7777777777777778,
              "#fb9f3a"
             ],
             [
              0.8888888888888888,
              "#fdca26"
             ],
             [
              1,
              "#f0f921"
             ]
            ],
            "type": "histogram2d"
           }
          ],
          "histogram2dcontour": [
           {
            "colorbar": {
             "outlinewidth": 0,
             "ticks": ""
            },
            "colorscale": [
             [
              0,
              "#0d0887"
             ],
             [
              0.1111111111111111,
              "#46039f"
             ],
             [
              0.2222222222222222,
              "#7201a8"
             ],
             [
              0.3333333333333333,
              "#9c179e"
             ],
             [
              0.4444444444444444,
              "#bd3786"
             ],
             [
              0.5555555555555556,
              "#d8576b"
             ],
             [
              0.6666666666666666,
              "#ed7953"
             ],
             [
              0.7777777777777778,
              "#fb9f3a"
             ],
             [
              0.8888888888888888,
              "#fdca26"
             ],
             [
              1,
              "#f0f921"
             ]
            ],
            "type": "histogram2dcontour"
           }
          ],
          "mesh3d": [
           {
            "colorbar": {
             "outlinewidth": 0,
             "ticks": ""
            },
            "type": "mesh3d"
           }
          ],
          "parcoords": [
           {
            "line": {
             "colorbar": {
              "outlinewidth": 0,
              "ticks": ""
             }
            },
            "type": "parcoords"
           }
          ],
          "pie": [
           {
            "automargin": true,
            "type": "pie"
           }
          ],
          "scatter": [
           {
            "marker": {
             "colorbar": {
              "outlinewidth": 0,
              "ticks": ""
             }
            },
            "type": "scatter"
           }
          ],
          "scatter3d": [
           {
            "line": {
             "colorbar": {
              "outlinewidth": 0,
              "ticks": ""
             }
            },
            "marker": {
             "colorbar": {
              "outlinewidth": 0,
              "ticks": ""
             }
            },
            "type": "scatter3d"
           }
          ],
          "scattercarpet": [
           {
            "marker": {
             "colorbar": {
              "outlinewidth": 0,
              "ticks": ""
             }
            },
            "type": "scattercarpet"
           }
          ],
          "scattergeo": [
           {
            "marker": {
             "colorbar": {
              "outlinewidth": 0,
              "ticks": ""
             }
            },
            "type": "scattergeo"
           }
          ],
          "scattergl": [
           {
            "marker": {
             "colorbar": {
              "outlinewidth": 0,
              "ticks": ""
             }
            },
            "type": "scattergl"
           }
          ],
          "scattermapbox": [
           {
            "marker": {
             "colorbar": {
              "outlinewidth": 0,
              "ticks": ""
             }
            },
            "type": "scattermapbox"
           }
          ],
          "scatterpolar": [
           {
            "marker": {
             "colorbar": {
              "outlinewidth": 0,
              "ticks": ""
             }
            },
            "type": "scatterpolar"
           }
          ],
          "scatterpolargl": [
           {
            "marker": {
             "colorbar": {
              "outlinewidth": 0,
              "ticks": ""
             }
            },
            "type": "scatterpolargl"
           }
          ],
          "scatterternary": [
           {
            "marker": {
             "colorbar": {
              "outlinewidth": 0,
              "ticks": ""
             }
            },
            "type": "scatterternary"
           }
          ],
          "surface": [
           {
            "colorbar": {
             "outlinewidth": 0,
             "ticks": ""
            },
            "colorscale": [
             [
              0,
              "#0d0887"
             ],
             [
              0.1111111111111111,
              "#46039f"
             ],
             [
              0.2222222222222222,
              "#7201a8"
             ],
             [
              0.3333333333333333,
              "#9c179e"
             ],
             [
              0.4444444444444444,
              "#bd3786"
             ],
             [
              0.5555555555555556,
              "#d8576b"
             ],
             [
              0.6666666666666666,
              "#ed7953"
             ],
             [
              0.7777777777777778,
              "#fb9f3a"
             ],
             [
              0.8888888888888888,
              "#fdca26"
             ],
             [
              1,
              "#f0f921"
             ]
            ],
            "type": "surface"
           }
          ],
          "table": [
           {
            "cells": {
             "fill": {
              "color": "#EBF0F8"
             },
             "line": {
              "color": "white"
             }
            },
            "header": {
             "fill": {
              "color": "#C8D4E3"
             },
             "line": {
              "color": "white"
             }
            },
            "type": "table"
           }
          ]
         },
         "layout": {
          "annotationdefaults": {
           "arrowcolor": "#2a3f5f",
           "arrowhead": 0,
           "arrowwidth": 1
          },
          "autotypenumbers": "strict",
          "coloraxis": {
           "colorbar": {
            "outlinewidth": 0,
            "ticks": ""
           }
          },
          "colorscale": {
           "diverging": [
            [
             0,
             "#8e0152"
            ],
            [
             0.1,
             "#c51b7d"
            ],
            [
             0.2,
             "#de77ae"
            ],
            [
             0.3,
             "#f1b6da"
            ],
            [
             0.4,
             "#fde0ef"
            ],
            [
             0.5,
             "#f7f7f7"
            ],
            [
             0.6,
             "#e6f5d0"
            ],
            [
             0.7,
             "#b8e186"
            ],
            [
             0.8,
             "#7fbc41"
            ],
            [
             0.9,
             "#4d9221"
            ],
            [
             1,
             "#276419"
            ]
           ],
           "sequential": [
            [
             0,
             "#0d0887"
            ],
            [
             0.1111111111111111,
             "#46039f"
            ],
            [
             0.2222222222222222,
             "#7201a8"
            ],
            [
             0.3333333333333333,
             "#9c179e"
            ],
            [
             0.4444444444444444,
             "#bd3786"
            ],
            [
             0.5555555555555556,
             "#d8576b"
            ],
            [
             0.6666666666666666,
             "#ed7953"
            ],
            [
             0.7777777777777778,
             "#fb9f3a"
            ],
            [
             0.8888888888888888,
             "#fdca26"
            ],
            [
             1,
             "#f0f921"
            ]
           ],
           "sequentialminus": [
            [
             0,
             "#0d0887"
            ],
            [
             0.1111111111111111,
             "#46039f"
            ],
            [
             0.2222222222222222,
             "#7201a8"
            ],
            [
             0.3333333333333333,
             "#9c179e"
            ],
            [
             0.4444444444444444,
             "#bd3786"
            ],
            [
             0.5555555555555556,
             "#d8576b"
            ],
            [
             0.6666666666666666,
             "#ed7953"
            ],
            [
             0.7777777777777778,
             "#fb9f3a"
            ],
            [
             0.8888888888888888,
             "#fdca26"
            ],
            [
             1,
             "#f0f921"
            ]
           ]
          },
          "colorway": [
           "#636efa",
           "#EF553B",
           "#00cc96",
           "#ab63fa",
           "#FFA15A",
           "#19d3f3",
           "#FF6692",
           "#B6E880",
           "#FF97FF",
           "#FECB52"
          ],
          "font": {
           "color": "#2a3f5f"
          },
          "geo": {
           "bgcolor": "white",
           "lakecolor": "white",
           "landcolor": "#E5ECF6",
           "showlakes": true,
           "showland": true,
           "subunitcolor": "white"
          },
          "hoverlabel": {
           "align": "left"
          },
          "hovermode": "closest",
          "mapbox": {
           "style": "light"
          },
          "paper_bgcolor": "white",
          "plot_bgcolor": "#E5ECF6",
          "polar": {
           "angularaxis": {
            "gridcolor": "white",
            "linecolor": "white",
            "ticks": ""
           },
           "bgcolor": "#E5ECF6",
           "radialaxis": {
            "gridcolor": "white",
            "linecolor": "white",
            "ticks": ""
           }
          },
          "scene": {
           "xaxis": {
            "backgroundcolor": "#E5ECF6",
            "gridcolor": "white",
            "gridwidth": 2,
            "linecolor": "white",
            "showbackground": true,
            "ticks": "",
            "zerolinecolor": "white"
           },
           "yaxis": {
            "backgroundcolor": "#E5ECF6",
            "gridcolor": "white",
            "gridwidth": 2,
            "linecolor": "white",
            "showbackground": true,
            "ticks": "",
            "zerolinecolor": "white"
           },
           "zaxis": {
            "backgroundcolor": "#E5ECF6",
            "gridcolor": "white",
            "gridwidth": 2,
            "linecolor": "white",
            "showbackground": true,
            "ticks": "",
            "zerolinecolor": "white"
           }
          },
          "shapedefaults": {
           "line": {
            "color": "#2a3f5f"
           }
          },
          "ternary": {
           "aaxis": {
            "gridcolor": "white",
            "linecolor": "white",
            "ticks": ""
           },
           "baxis": {
            "gridcolor": "white",
            "linecolor": "white",
            "ticks": ""
           },
           "bgcolor": "#E5ECF6",
           "caxis": {
            "gridcolor": "white",
            "linecolor": "white",
            "ticks": ""
           }
          },
          "title": {
           "x": 0.05
          },
          "xaxis": {
           "automargin": true,
           "gridcolor": "white",
           "linecolor": "white",
           "ticks": "",
           "title": {
            "standoff": 15
           },
           "zerolinecolor": "white",
           "zerolinewidth": 2
          },
          "yaxis": {
           "automargin": true,
           "gridcolor": "white",
           "linecolor": "white",
           "ticks": "",
           "title": {
            "standoff": 15
           },
           "zerolinecolor": "white",
           "zerolinewidth": 2
          }
         }
        },
        "title": {
         "font": {
          "color": "#4D5663"
         },
         "text": "Top 100 words after removing stop words"
        },
        "xaxis": {
         "gridcolor": "#E1E5ED",
         "linecolor": "black",
         "showgrid": true,
         "tickfont": {
          "color": "#4D5663"
         },
         "title": {
          "font": {
           "color": "#4D5663"
          },
          "text": ""
         },
         "zerolinecolor": "#E1E5ED"
        },
        "yaxis": {
         "gridcolor": "#E1E5ED",
         "linecolor": "black",
         "showgrid": true,
         "tickfont": {
          "color": "#4D5663"
         },
         "title": {
          "font": {
           "color": "#4D5663"
          },
          "text": "Count"
         },
         "zerolinecolor": "#E1E5ED"
        }
       }
      },
      "text/html": [
       "<div>                            <div id=\"716302f7-a7f3-45bc-b38a-703aa5dd15ed\" class=\"plotly-graph-div\" style=\"height:525px; width:100%;\"></div>            <script type=\"text/javascript\">                require([\"plotly\"], function(Plotly) {                    window.PLOTLYENV=window.PLOTLYENV || {};\n",
       "                    window.PLOTLYENV.BASE_URL='https://plot.ly';                                    if (document.getElementById(\"716302f7-a7f3-45bc-b38a-703aa5dd15ed\")) {                    Plotly.newPlot(                        \"716302f7-a7f3-45bc-b38a-703aa5dd15ed\",                        [{\"marker\":{\"color\":\"rgba(255, 153, 51, 0.6)\",\"line\":{\"color\":\"rgba(255, 153, 51, 1.0)\",\"width\":1}},\"name\":\"count\",\"orientation\":\"v\",\"text\":\"\",\"x\":[\"business\",\"science\",\"management\",\"computer\",\"analysis\",\"development\",\"learn\",\"engineering\",\"datum\",\"leadership\",\"language\",\"machine\",\"programming\",\"design\",\"software\",\"strategy\",\"project\",\"web\",\"marketing\",\"security\",\"system\",\"model\",\"finance\",\"cloud\",\"market\",\"learning\",\"process\",\"health\",\"communication\",\"history\",\"network\",\"compute\",\"social\",\"data\",\"art\",\"economic\",\"music\",\"public\",\"physical\",\"law\",\"psychology\",\"education\",\"human\",\"risk\",\"write\",\"product\",\"introduction\",\"planning\",\"plan\",\"use\",\"personal\",\"writing\",\"application\",\"medium\",\"research\",\"regression\",\"life\",\"essential\",\"global\",\"basic\",\"financial\",\"program\",\"sustainability\",\"energy\",\"mechanical\",\"electrical\",\"think\",\"evaluation\",\"database\",\"analytic\",\"sale\",\"graphic\",\"arts_humanitie\",\"method\",\"platform\",\"algorithm\",\"digital\",\"environmental\",\"euler_totient_function\",\"modeling\",\"create\",\"experience\",\"build\",\"service\",\"theory\",\"teach\",\"strategic\",\"deep\",\"accounting\",\"innovation\",\"interface\",\"investment\",\"brand\",\"mobile\",\"stock\",\"culture\",\"resource\",\"architecture\",\"structure\",\"value\"],\"y\":[1450,1444,1393,1032,1015,837,790,764,724,715,655,640,634,629,626,552,544,466,451,406,386,378,362,352,334,325,314,308,296,284,280,279,256,251,246,244,241,235,219,212,207,202,198,198,198,192,190,187,184,182,177,167,158,157,155,150,146,146,145,145,145,141,139,139,138,138,132,126,126,124,123,121,117,117,116,114,114,110,110,109,109,109,107,106,106,106,103,102,101,101,99,97,96,96,92,90,90,87,85,85],\"type\":\"bar\"}],                        {\"legend\":{\"bgcolor\":\"#F5F6F9\",\"font\":{\"color\":\"#4D5663\"}},\"paper_bgcolor\":\"#F5F6F9\",\"plot_bgcolor\":\"#F5F6F9\",\"template\":{\"data\":{\"barpolar\":[{\"marker\":{\"line\":{\"color\":\"#E5ECF6\",\"width\":0.5},\"pattern\":{\"fillmode\":\"overlay\",\"size\":10,\"solidity\":0.2}},\"type\":\"barpolar\"}],\"bar\":[{\"error_x\":{\"color\":\"#2a3f5f\"},\"error_y\":{\"color\":\"#2a3f5f\"},\"marker\":{\"line\":{\"color\":\"#E5ECF6\",\"width\":0.5},\"pattern\":{\"fillmode\":\"overlay\",\"size\":10,\"solidity\":0.2}},\"type\":\"bar\"}],\"carpet\":[{\"aaxis\":{\"endlinecolor\":\"#2a3f5f\",\"gridcolor\":\"white\",\"linecolor\":\"white\",\"minorgridcolor\":\"white\",\"startlinecolor\":\"#2a3f5f\"},\"baxis\":{\"endlinecolor\":\"#2a3f5f\",\"gridcolor\":\"white\",\"linecolor\":\"white\",\"minorgridcolor\":\"white\",\"startlinecolor\":\"#2a3f5f\"},\"type\":\"carpet\"}],\"choropleth\":[{\"colorbar\":{\"outlinewidth\":0,\"ticks\":\"\"},\"type\":\"choropleth\"}],\"contourcarpet\":[{\"colorbar\":{\"outlinewidth\":0,\"ticks\":\"\"},\"type\":\"contourcarpet\"}],\"contour\":[{\"colorbar\":{\"outlinewidth\":0,\"ticks\":\"\"},\"colorscale\":[[0.0,\"#0d0887\"],[0.1111111111111111,\"#46039f\"],[0.2222222222222222,\"#7201a8\"],[0.3333333333333333,\"#9c179e\"],[0.4444444444444444,\"#bd3786\"],[0.5555555555555556,\"#d8576b\"],[0.6666666666666666,\"#ed7953\"],[0.7777777777777778,\"#fb9f3a\"],[0.8888888888888888,\"#fdca26\"],[1.0,\"#f0f921\"]],\"type\":\"contour\"}],\"heatmapgl\":[{\"colorbar\":{\"outlinewidth\":0,\"ticks\":\"\"},\"colorscale\":[[0.0,\"#0d0887\"],[0.1111111111111111,\"#46039f\"],[0.2222222222222222,\"#7201a8\"],[0.3333333333333333,\"#9c179e\"],[0.4444444444444444,\"#bd3786\"],[0.5555555555555556,\"#d8576b\"],[0.6666666666666666,\"#ed7953\"],[0.7777777777777778,\"#fb9f3a\"],[0.8888888888888888,\"#fdca26\"],[1.0,\"#f0f921\"]],\"type\":\"heatmapgl\"}],\"heatmap\":[{\"colorbar\":{\"outlinewidth\":0,\"ticks\":\"\"},\"colorscale\":[[0.0,\"#0d0887\"],[0.1111111111111111,\"#46039f\"],[0.2222222222222222,\"#7201a8\"],[0.3333333333333333,\"#9c179e\"],[0.4444444444444444,\"#bd3786\"],[0.5555555555555556,\"#d8576b\"],[0.6666666666666666,\"#ed7953\"],[0.7777777777777778,\"#fb9f3a\"],[0.8888888888888888,\"#fdca26\"],[1.0,\"#f0f921\"]],\"type\":\"heatmap\"}],\"histogram2dcontour\":[{\"colorbar\":{\"outlinewidth\":0,\"ticks\":\"\"},\"colorscale\":[[0.0,\"#0d0887\"],[0.1111111111111111,\"#46039f\"],[0.2222222222222222,\"#7201a8\"],[0.3333333333333333,\"#9c179e\"],[0.4444444444444444,\"#bd3786\"],[0.5555555555555556,\"#d8576b\"],[0.6666666666666666,\"#ed7953\"],[0.7777777777777778,\"#fb9f3a\"],[0.8888888888888888,\"#fdca26\"],[1.0,\"#f0f921\"]],\"type\":\"histogram2dcontour\"}],\"histogram2d\":[{\"colorbar\":{\"outlinewidth\":0,\"ticks\":\"\"},\"colorscale\":[[0.0,\"#0d0887\"],[0.1111111111111111,\"#46039f\"],[0.2222222222222222,\"#7201a8\"],[0.3333333333333333,\"#9c179e\"],[0.4444444444444444,\"#bd3786\"],[0.5555555555555556,\"#d8576b\"],[0.6666666666666666,\"#ed7953\"],[0.7777777777777778,\"#fb9f3a\"],[0.8888888888888888,\"#fdca26\"],[1.0,\"#f0f921\"]],\"type\":\"histogram2d\"}],\"histogram\":[{\"marker\":{\"pattern\":{\"fillmode\":\"overlay\",\"size\":10,\"solidity\":0.2}},\"type\":\"histogram\"}],\"mesh3d\":[{\"colorbar\":{\"outlinewidth\":0,\"ticks\":\"\"},\"type\":\"mesh3d\"}],\"parcoords\":[{\"line\":{\"colorbar\":{\"outlinewidth\":0,\"ticks\":\"\"}},\"type\":\"parcoords\"}],\"pie\":[{\"automargin\":true,\"type\":\"pie\"}],\"scatter3d\":[{\"line\":{\"colorbar\":{\"outlinewidth\":0,\"ticks\":\"\"}},\"marker\":{\"colorbar\":{\"outlinewidth\":0,\"ticks\":\"\"}},\"type\":\"scatter3d\"}],\"scattercarpet\":[{\"marker\":{\"colorbar\":{\"outlinewidth\":0,\"ticks\":\"\"}},\"type\":\"scattercarpet\"}],\"scattergeo\":[{\"marker\":{\"colorbar\":{\"outlinewidth\":0,\"ticks\":\"\"}},\"type\":\"scattergeo\"}],\"scattergl\":[{\"marker\":{\"colorbar\":{\"outlinewidth\":0,\"ticks\":\"\"}},\"type\":\"scattergl\"}],\"scattermapbox\":[{\"marker\":{\"colorbar\":{\"outlinewidth\":0,\"ticks\":\"\"}},\"type\":\"scattermapbox\"}],\"scatterpolargl\":[{\"marker\":{\"colorbar\":{\"outlinewidth\":0,\"ticks\":\"\"}},\"type\":\"scatterpolargl\"}],\"scatterpolar\":[{\"marker\":{\"colorbar\":{\"outlinewidth\":0,\"ticks\":\"\"}},\"type\":\"scatterpolar\"}],\"scatter\":[{\"marker\":{\"colorbar\":{\"outlinewidth\":0,\"ticks\":\"\"}},\"type\":\"scatter\"}],\"scatterternary\":[{\"marker\":{\"colorbar\":{\"outlinewidth\":0,\"ticks\":\"\"}},\"type\":\"scatterternary\"}],\"surface\":[{\"colorbar\":{\"outlinewidth\":0,\"ticks\":\"\"},\"colorscale\":[[0.0,\"#0d0887\"],[0.1111111111111111,\"#46039f\"],[0.2222222222222222,\"#7201a8\"],[0.3333333333333333,\"#9c179e\"],[0.4444444444444444,\"#bd3786\"],[0.5555555555555556,\"#d8576b\"],[0.6666666666666666,\"#ed7953\"],[0.7777777777777778,\"#fb9f3a\"],[0.8888888888888888,\"#fdca26\"],[1.0,\"#f0f921\"]],\"type\":\"surface\"}],\"table\":[{\"cells\":{\"fill\":{\"color\":\"#EBF0F8\"},\"line\":{\"color\":\"white\"}},\"header\":{\"fill\":{\"color\":\"#C8D4E3\"},\"line\":{\"color\":\"white\"}},\"type\":\"table\"}]},\"layout\":{\"annotationdefaults\":{\"arrowcolor\":\"#2a3f5f\",\"arrowhead\":0,\"arrowwidth\":1},\"autotypenumbers\":\"strict\",\"coloraxis\":{\"colorbar\":{\"outlinewidth\":0,\"ticks\":\"\"}},\"colorscale\":{\"diverging\":[[0,\"#8e0152\"],[0.1,\"#c51b7d\"],[0.2,\"#de77ae\"],[0.3,\"#f1b6da\"],[0.4,\"#fde0ef\"],[0.5,\"#f7f7f7\"],[0.6,\"#e6f5d0\"],[0.7,\"#b8e186\"],[0.8,\"#7fbc41\"],[0.9,\"#4d9221\"],[1,\"#276419\"]],\"sequential\":[[0.0,\"#0d0887\"],[0.1111111111111111,\"#46039f\"],[0.2222222222222222,\"#7201a8\"],[0.3333333333333333,\"#9c179e\"],[0.4444444444444444,\"#bd3786\"],[0.5555555555555556,\"#d8576b\"],[0.6666666666666666,\"#ed7953\"],[0.7777777777777778,\"#fb9f3a\"],[0.8888888888888888,\"#fdca26\"],[1.0,\"#f0f921\"]],\"sequentialminus\":[[0.0,\"#0d0887\"],[0.1111111111111111,\"#46039f\"],[0.2222222222222222,\"#7201a8\"],[0.3333333333333333,\"#9c179e\"],[0.4444444444444444,\"#bd3786\"],[0.5555555555555556,\"#d8576b\"],[0.6666666666666666,\"#ed7953\"],[0.7777777777777778,\"#fb9f3a\"],[0.8888888888888888,\"#fdca26\"],[1.0,\"#f0f921\"]]},\"colorway\":[\"#636efa\",\"#EF553B\",\"#00cc96\",\"#ab63fa\",\"#FFA15A\",\"#19d3f3\",\"#FF6692\",\"#B6E880\",\"#FF97FF\",\"#FECB52\"],\"font\":{\"color\":\"#2a3f5f\"},\"geo\":{\"bgcolor\":\"white\",\"lakecolor\":\"white\",\"landcolor\":\"#E5ECF6\",\"showlakes\":true,\"showland\":true,\"subunitcolor\":\"white\"},\"hoverlabel\":{\"align\":\"left\"},\"hovermode\":\"closest\",\"mapbox\":{\"style\":\"light\"},\"paper_bgcolor\":\"white\",\"plot_bgcolor\":\"#E5ECF6\",\"polar\":{\"angularaxis\":{\"gridcolor\":\"white\",\"linecolor\":\"white\",\"ticks\":\"\"},\"bgcolor\":\"#E5ECF6\",\"radialaxis\":{\"gridcolor\":\"white\",\"linecolor\":\"white\",\"ticks\":\"\"}},\"scene\":{\"xaxis\":{\"backgroundcolor\":\"#E5ECF6\",\"gridcolor\":\"white\",\"gridwidth\":2,\"linecolor\":\"white\",\"showbackground\":true,\"ticks\":\"\",\"zerolinecolor\":\"white\"},\"yaxis\":{\"backgroundcolor\":\"#E5ECF6\",\"gridcolor\":\"white\",\"gridwidth\":2,\"linecolor\":\"white\",\"showbackground\":true,\"ticks\":\"\",\"zerolinecolor\":\"white\"},\"zaxis\":{\"backgroundcolor\":\"#E5ECF6\",\"gridcolor\":\"white\",\"gridwidth\":2,\"linecolor\":\"white\",\"showbackground\":true,\"ticks\":\"\",\"zerolinecolor\":\"white\"}},\"shapedefaults\":{\"line\":{\"color\":\"#2a3f5f\"}},\"ternary\":{\"aaxis\":{\"gridcolor\":\"white\",\"linecolor\":\"white\",\"ticks\":\"\"},\"baxis\":{\"gridcolor\":\"white\",\"linecolor\":\"white\",\"ticks\":\"\"},\"bgcolor\":\"#E5ECF6\",\"caxis\":{\"gridcolor\":\"white\",\"linecolor\":\"white\",\"ticks\":\"\"}},\"title\":{\"x\":0.05},\"xaxis\":{\"automargin\":true,\"gridcolor\":\"white\",\"linecolor\":\"white\",\"ticks\":\"\",\"title\":{\"standoff\":15},\"zerolinecolor\":\"white\",\"zerolinewidth\":2},\"yaxis\":{\"automargin\":true,\"gridcolor\":\"white\",\"linecolor\":\"white\",\"ticks\":\"\",\"title\":{\"standoff\":15},\"zerolinecolor\":\"white\",\"zerolinewidth\":2}}},\"title\":{\"font\":{\"color\":\"#4D5663\"},\"text\":\"Top 100 words after removing stop words\"},\"xaxis\":{\"gridcolor\":\"#E1E5ED\",\"linecolor\":\"black\",\"showgrid\":true,\"tickfont\":{\"color\":\"#4D5663\"},\"title\":{\"font\":{\"color\":\"#4D5663\"},\"text\":\"\"},\"zerolinecolor\":\"#E1E5ED\"},\"yaxis\":{\"gridcolor\":\"#E1E5ED\",\"linecolor\":\"black\",\"showgrid\":true,\"tickfont\":{\"color\":\"#4D5663\"},\"title\":{\"font\":{\"color\":\"#4D5663\"},\"text\":\"Count\"},\"zerolinecolor\":\"#E1E5ED\"}},                        {\"showLink\": true, \"linkText\": \"Export to plot.ly\", \"plotlyServerURL\": \"https://plot.ly\", \"responsive\": true}                    ).then(function(){\n",
       "                            \n",
       "var gd = document.getElementById('716302f7-a7f3-45bc-b38a-703aa5dd15ed');\n",
       "var x = new MutationObserver(function (mutations, observer) {{\n",
       "        var display = window.getComputedStyle(gd).display;\n",
       "        if (!display || display === 'none') {{\n",
       "            console.log([gd, 'removed!']);\n",
       "            Plotly.purge(gd);\n",
       "            observer.disconnect();\n",
       "        }}\n",
       "}});\n",
       "\n",
       "// Listen for the removal of the full notebook cells\n",
       "var notebookContainer = gd.closest('#notebook-container');\n",
       "if (notebookContainer) {{\n",
       "    x.observe(notebookContainer, {childList: true});\n",
       "}}\n",
       "\n",
       "// Listen for the clearing of the current output cell\n",
       "var outputEl = gd.closest('.output');\n",
       "if (outputEl) {{\n",
       "    x.observe(outputEl, {childList: true});\n",
       "}}\n",
       "\n",
       "                        })                };                });            </script>        </div>"
      ]
     },
     "metadata": {},
     "output_type": "display_data"
    }
   ],
   "source": [
    "plot_model()"
   ]
  },
  {
   "cell_type": "code",
   "execution_count": 57,
   "id": "2a834061",
   "metadata": {},
   "outputs": [],
   "source": [
    "lda2 = create_model('lda', num_topics = 6, multi_core = True)\n"
   ]
  },
  {
   "cell_type": "code",
   "execution_count": 58,
   "id": "2bf1b5f4",
   "metadata": {},
   "outputs": [
    {
     "name": "stdout",
     "output_type": "stream",
     "text": [
      "LdaModel(num_terms=4134, num_topics=6, decay=0.5, chunksize=100)\n"
     ]
    }
   ],
   "source": [
    "print(lda2)\n"
   ]
  },
  {
   "cell_type": "code",
   "execution_count": 59,
   "id": "6aa9a38e",
   "metadata": {},
   "outputs": [
    {
     "data": {
      "application/vnd.jupyter.widget-view+json": {
       "model_id": "ca61e34cd1194608a8aa912bc301dd04",
       "version_major": 2,
       "version_minor": 0
      },
      "text/plain": [
       "IntProgress(value=0, description='Processing: ', max=3527)"
      ]
     },
     "metadata": {},
     "output_type": "display_data"
    },
    {
     "data": {
      "text/html": [
       "<div>\n",
       "<style scoped>\n",
       "    .dataframe tbody tr th:only-of-type {\n",
       "        vertical-align: middle;\n",
       "    }\n",
       "\n",
       "    .dataframe tbody tr th {\n",
       "        vertical-align: top;\n",
       "    }\n",
       "\n",
       "    .dataframe thead th {\n",
       "        text-align: right;\n",
       "    }\n",
       "</style>\n",
       "<table border=\"1\" class=\"dataframe\">\n",
       "  <thead>\n",
       "    <tr style=\"text-align: right;\">\n",
       "      <th></th>\n",
       "      <th></th>\n",
       "      <th></th>\n",
       "    </tr>\n",
       "    <tr>\n",
       "      <th></th>\n",
       "      <th></th>\n",
       "      <th></th>\n",
       "    </tr>\n",
       "  </thead>\n",
       "  <tbody>\n",
       "    <tr>\n",
       "      <th>Initiated</th>\n",
       "      <td>. . . . . . . . . . . . . . . . . .</td>\n",
       "      <td>21:36:23</td>\n",
       "    </tr>\n",
       "    <tr>\n",
       "      <th>Status</th>\n",
       "      <td>. . . . . . . . . . . . . . . . . .</td>\n",
       "      <td>Extracting Topics from Model</td>\n",
       "    </tr>\n",
       "  </tbody>\n",
       "</table>\n",
       "</div>"
      ],
      "text/plain": [
       "                                                                            \n",
       "                                                                            \n",
       "Initiated  . . . . . . . . . . . . . . . . . .                      21:36:23\n",
       "Status     . . . . . . . . . . . . . . . . . .  Extracting Topics from Model"
      ]
     },
     "metadata": {},
     "output_type": "display_data"
    },
    {
     "name": "stderr",
     "output_type": "stream",
     "text": [
      "IOPub message rate exceeded.\n",
      "The notebook server will temporarily stop sending output\n",
      "to the client in order to avoid crashing it.\n",
      "To change this limit, set the config variable\n",
      "`--NotebookApp.iopub_msg_rate_limit`.\n",
      "\n",
      "Current values:\n",
      "NotebookApp.iopub_msg_rate_limit=1000.0 (msgs/sec)\n",
      "NotebookApp.rate_limit_window=3.0 (secs)\n",
      "\n"
     ]
    }
   ],
   "source": [
    "lda_results = assign_model(lda2)\n",
    "lda_results.head()"
   ]
  },
  {
   "cell_type": "code",
   "execution_count": 60,
   "id": "f38a0188",
   "metadata": {},
   "outputs": [
    {
     "data": {
      "text/html": [
       "        <script type=\"text/javascript\">\n",
       "        window.PlotlyConfig = {MathJaxConfig: 'local'};\n",
       "        if (window.MathJax) {MathJax.Hub.Config({SVG: {font: \"STIX-Web\"}});}\n",
       "        if (typeof require !== 'undefined') {\n",
       "        require.undef(\"plotly\");\n",
       "        requirejs.config({\n",
       "            paths: {\n",
       "                'plotly': ['https://cdn.plot.ly/plotly-2.9.0.min']\n",
       "            }\n",
       "        });\n",
       "        require(['plotly'], function(Plotly) {\n",
       "            window._Plotly = Plotly;\n",
       "        });\n",
       "        }\n",
       "        </script>\n",
       "        "
      ]
     },
     "metadata": {},
     "output_type": "display_data"
    },
    {
     "data": {
      "application/vnd.plotly.v1+json": {
       "config": {
        "linkText": "Export to plot.ly",
        "plotlyServerURL": "https://plot.ly",
        "showLink": true
       },
       "data": [
        {
         "marker": {
          "color": "rgba(255, 153, 51, 0.6)",
          "line": {
           "color": "rgba(255, 153, 51, 1.0)",
           "width": 1
          }
         },
         "name": "count",
         "orientation": "v",
         "text": "",
         "type": "bar",
         "x": [
          "business",
          "science",
          "management",
          "computer",
          "analysis",
          "development",
          "learn",
          "engineering",
          "datum",
          "leadership",
          "language",
          "machine",
          "programming",
          "design",
          "software",
          "strategy",
          "project",
          "web",
          "marketing",
          "security",
          "system",
          "model",
          "finance",
          "cloud",
          "market",
          "learning",
          "process",
          "health",
          "communication",
          "history",
          "network",
          "compute",
          "social",
          "data",
          "art",
          "economic",
          "music",
          "public",
          "physical",
          "law",
          "psychology",
          "education",
          "human",
          "risk",
          "write",
          "product",
          "introduction",
          "planning",
          "plan",
          "use",
          "personal",
          "writing",
          "application",
          "medium",
          "research",
          "regression",
          "life",
          "essential",
          "global",
          "basic",
          "financial",
          "program",
          "sustainability",
          "energy",
          "mechanical",
          "electrical",
          "think",
          "evaluation",
          "database",
          "analytic",
          "sale",
          "graphic",
          "arts_humanitie",
          "method",
          "platform",
          "algorithm",
          "digital",
          "environmental",
          "euler_totient_function",
          "modeling",
          "create",
          "experience",
          "build",
          "service",
          "theory",
          "teach",
          "strategic",
          "deep",
          "accounting",
          "innovation",
          "interface",
          "investment",
          "brand",
          "mobile",
          "stock",
          "culture",
          "resource",
          "architecture",
          "structure",
          "value"
         ],
         "y": [
          1450,
          1444,
          1393,
          1032,
          1015,
          837,
          790,
          764,
          724,
          715,
          655,
          640,
          634,
          629,
          626,
          552,
          544,
          466,
          451,
          406,
          386,
          378,
          362,
          352,
          334,
          325,
          314,
          308,
          296,
          284,
          280,
          279,
          256,
          251,
          246,
          244,
          241,
          235,
          219,
          212,
          207,
          202,
          198,
          198,
          198,
          192,
          190,
          187,
          184,
          182,
          177,
          167,
          158,
          157,
          155,
          150,
          146,
          146,
          145,
          145,
          145,
          141,
          139,
          139,
          138,
          138,
          132,
          126,
          126,
          124,
          123,
          121,
          117,
          117,
          116,
          114,
          114,
          110,
          110,
          109,
          109,
          109,
          107,
          106,
          106,
          106,
          103,
          102,
          101,
          101,
          99,
          97,
          96,
          96,
          92,
          90,
          90,
          87,
          85,
          85
         ]
        }
       ],
       "layout": {
        "legend": {
         "bgcolor": "#F5F6F9",
         "font": {
          "color": "#4D5663"
         }
        },
        "paper_bgcolor": "#F5F6F9",
        "plot_bgcolor": "#F5F6F9",
        "template": {
         "data": {
          "bar": [
           {
            "error_x": {
             "color": "#2a3f5f"
            },
            "error_y": {
             "color": "#2a3f5f"
            },
            "marker": {
             "line": {
              "color": "#E5ECF6",
              "width": 0.5
             },
             "pattern": {
              "fillmode": "overlay",
              "size": 10,
              "solidity": 0.2
             }
            },
            "type": "bar"
           }
          ],
          "barpolar": [
           {
            "marker": {
             "line": {
              "color": "#E5ECF6",
              "width": 0.5
             },
             "pattern": {
              "fillmode": "overlay",
              "size": 10,
              "solidity": 0.2
             }
            },
            "type": "barpolar"
           }
          ],
          "carpet": [
           {
            "aaxis": {
             "endlinecolor": "#2a3f5f",
             "gridcolor": "white",
             "linecolor": "white",
             "minorgridcolor": "white",
             "startlinecolor": "#2a3f5f"
            },
            "baxis": {
             "endlinecolor": "#2a3f5f",
             "gridcolor": "white",
             "linecolor": "white",
             "minorgridcolor": "white",
             "startlinecolor": "#2a3f5f"
            },
            "type": "carpet"
           }
          ],
          "choropleth": [
           {
            "colorbar": {
             "outlinewidth": 0,
             "ticks": ""
            },
            "type": "choropleth"
           }
          ],
          "contour": [
           {
            "colorbar": {
             "outlinewidth": 0,
             "ticks": ""
            },
            "colorscale": [
             [
              0,
              "#0d0887"
             ],
             [
              0.1111111111111111,
              "#46039f"
             ],
             [
              0.2222222222222222,
              "#7201a8"
             ],
             [
              0.3333333333333333,
              "#9c179e"
             ],
             [
              0.4444444444444444,
              "#bd3786"
             ],
             [
              0.5555555555555556,
              "#d8576b"
             ],
             [
              0.6666666666666666,
              "#ed7953"
             ],
             [
              0.7777777777777778,
              "#fb9f3a"
             ],
             [
              0.8888888888888888,
              "#fdca26"
             ],
             [
              1,
              "#f0f921"
             ]
            ],
            "type": "contour"
           }
          ],
          "contourcarpet": [
           {
            "colorbar": {
             "outlinewidth": 0,
             "ticks": ""
            },
            "type": "contourcarpet"
           }
          ],
          "heatmap": [
           {
            "colorbar": {
             "outlinewidth": 0,
             "ticks": ""
            },
            "colorscale": [
             [
              0,
              "#0d0887"
             ],
             [
              0.1111111111111111,
              "#46039f"
             ],
             [
              0.2222222222222222,
              "#7201a8"
             ],
             [
              0.3333333333333333,
              "#9c179e"
             ],
             [
              0.4444444444444444,
              "#bd3786"
             ],
             [
              0.5555555555555556,
              "#d8576b"
             ],
             [
              0.6666666666666666,
              "#ed7953"
             ],
             [
              0.7777777777777778,
              "#fb9f3a"
             ],
             [
              0.8888888888888888,
              "#fdca26"
             ],
             [
              1,
              "#f0f921"
             ]
            ],
            "type": "heatmap"
           }
          ],
          "heatmapgl": [
           {
            "colorbar": {
             "outlinewidth": 0,
             "ticks": ""
            },
            "colorscale": [
             [
              0,
              "#0d0887"
             ],
             [
              0.1111111111111111,
              "#46039f"
             ],
             [
              0.2222222222222222,
              "#7201a8"
             ],
             [
              0.3333333333333333,
              "#9c179e"
             ],
             [
              0.4444444444444444,
              "#bd3786"
             ],
             [
              0.5555555555555556,
              "#d8576b"
             ],
             [
              0.6666666666666666,
              "#ed7953"
             ],
             [
              0.7777777777777778,
              "#fb9f3a"
             ],
             [
              0.8888888888888888,
              "#fdca26"
             ],
             [
              1,
              "#f0f921"
             ]
            ],
            "type": "heatmapgl"
           }
          ],
          "histogram": [
           {
            "marker": {
             "pattern": {
              "fillmode": "overlay",
              "size": 10,
              "solidity": 0.2
             }
            },
            "type": "histogram"
           }
          ],
          "histogram2d": [
           {
            "colorbar": {
             "outlinewidth": 0,
             "ticks": ""
            },
            "colorscale": [
             [
              0,
              "#0d0887"
             ],
             [
              0.1111111111111111,
              "#46039f"
             ],
             [
              0.2222222222222222,
              "#7201a8"
             ],
             [
              0.3333333333333333,
              "#9c179e"
             ],
             [
              0.4444444444444444,
              "#bd3786"
             ],
             [
              0.5555555555555556,
              "#d8576b"
             ],
             [
              0.6666666666666666,
              "#ed7953"
             ],
             [
              0.7777777777777778,
              "#fb9f3a"
             ],
             [
              0.8888888888888888,
              "#fdca26"
             ],
             [
              1,
              "#f0f921"
             ]
            ],
            "type": "histogram2d"
           }
          ],
          "histogram2dcontour": [
           {
            "colorbar": {
             "outlinewidth": 0,
             "ticks": ""
            },
            "colorscale": [
             [
              0,
              "#0d0887"
             ],
             [
              0.1111111111111111,
              "#46039f"
             ],
             [
              0.2222222222222222,
              "#7201a8"
             ],
             [
              0.3333333333333333,
              "#9c179e"
             ],
             [
              0.4444444444444444,
              "#bd3786"
             ],
             [
              0.5555555555555556,
              "#d8576b"
             ],
             [
              0.6666666666666666,
              "#ed7953"
             ],
             [
              0.7777777777777778,
              "#fb9f3a"
             ],
             [
              0.8888888888888888,
              "#fdca26"
             ],
             [
              1,
              "#f0f921"
             ]
            ],
            "type": "histogram2dcontour"
           }
          ],
          "mesh3d": [
           {
            "colorbar": {
             "outlinewidth": 0,
             "ticks": ""
            },
            "type": "mesh3d"
           }
          ],
          "parcoords": [
           {
            "line": {
             "colorbar": {
              "outlinewidth": 0,
              "ticks": ""
             }
            },
            "type": "parcoords"
           }
          ],
          "pie": [
           {
            "automargin": true,
            "type": "pie"
           }
          ],
          "scatter": [
           {
            "marker": {
             "colorbar": {
              "outlinewidth": 0,
              "ticks": ""
             }
            },
            "type": "scatter"
           }
          ],
          "scatter3d": [
           {
            "line": {
             "colorbar": {
              "outlinewidth": 0,
              "ticks": ""
             }
            },
            "marker": {
             "colorbar": {
              "outlinewidth": 0,
              "ticks": ""
             }
            },
            "type": "scatter3d"
           }
          ],
          "scattercarpet": [
           {
            "marker": {
             "colorbar": {
              "outlinewidth": 0,
              "ticks": ""
             }
            },
            "type": "scattercarpet"
           }
          ],
          "scattergeo": [
           {
            "marker": {
             "colorbar": {
              "outlinewidth": 0,
              "ticks": ""
             }
            },
            "type": "scattergeo"
           }
          ],
          "scattergl": [
           {
            "marker": {
             "colorbar": {
              "outlinewidth": 0,
              "ticks": ""
             }
            },
            "type": "scattergl"
           }
          ],
          "scattermapbox": [
           {
            "marker": {
             "colorbar": {
              "outlinewidth": 0,
              "ticks": ""
             }
            },
            "type": "scattermapbox"
           }
          ],
          "scatterpolar": [
           {
            "marker": {
             "colorbar": {
              "outlinewidth": 0,
              "ticks": ""
             }
            },
            "type": "scatterpolar"
           }
          ],
          "scatterpolargl": [
           {
            "marker": {
             "colorbar": {
              "outlinewidth": 0,
              "ticks": ""
             }
            },
            "type": "scatterpolargl"
           }
          ],
          "scatterternary": [
           {
            "marker": {
             "colorbar": {
              "outlinewidth": 0,
              "ticks": ""
             }
            },
            "type": "scatterternary"
           }
          ],
          "surface": [
           {
            "colorbar": {
             "outlinewidth": 0,
             "ticks": ""
            },
            "colorscale": [
             [
              0,
              "#0d0887"
             ],
             [
              0.1111111111111111,
              "#46039f"
             ],
             [
              0.2222222222222222,
              "#7201a8"
             ],
             [
              0.3333333333333333,
              "#9c179e"
             ],
             [
              0.4444444444444444,
              "#bd3786"
             ],
             [
              0.5555555555555556,
              "#d8576b"
             ],
             [
              0.6666666666666666,
              "#ed7953"
             ],
             [
              0.7777777777777778,
              "#fb9f3a"
             ],
             [
              0.8888888888888888,
              "#fdca26"
             ],
             [
              1,
              "#f0f921"
             ]
            ],
            "type": "surface"
           }
          ],
          "table": [
           {
            "cells": {
             "fill": {
              "color": "#EBF0F8"
             },
             "line": {
              "color": "white"
             }
            },
            "header": {
             "fill": {
              "color": "#C8D4E3"
             },
             "line": {
              "color": "white"
             }
            },
            "type": "table"
           }
          ]
         },
         "layout": {
          "annotationdefaults": {
           "arrowcolor": "#2a3f5f",
           "arrowhead": 0,
           "arrowwidth": 1
          },
          "autotypenumbers": "strict",
          "coloraxis": {
           "colorbar": {
            "outlinewidth": 0,
            "ticks": ""
           }
          },
          "colorscale": {
           "diverging": [
            [
             0,
             "#8e0152"
            ],
            [
             0.1,
             "#c51b7d"
            ],
            [
             0.2,
             "#de77ae"
            ],
            [
             0.3,
             "#f1b6da"
            ],
            [
             0.4,
             "#fde0ef"
            ],
            [
             0.5,
             "#f7f7f7"
            ],
            [
             0.6,
             "#e6f5d0"
            ],
            [
             0.7,
             "#b8e186"
            ],
            [
             0.8,
             "#7fbc41"
            ],
            [
             0.9,
             "#4d9221"
            ],
            [
             1,
             "#276419"
            ]
           ],
           "sequential": [
            [
             0,
             "#0d0887"
            ],
            [
             0.1111111111111111,
             "#46039f"
            ],
            [
             0.2222222222222222,
             "#7201a8"
            ],
            [
             0.3333333333333333,
             "#9c179e"
            ],
            [
             0.4444444444444444,
             "#bd3786"
            ],
            [
             0.5555555555555556,
             "#d8576b"
            ],
            [
             0.6666666666666666,
             "#ed7953"
            ],
            [
             0.7777777777777778,
             "#fb9f3a"
            ],
            [
             0.8888888888888888,
             "#fdca26"
            ],
            [
             1,
             "#f0f921"
            ]
           ],
           "sequentialminus": [
            [
             0,
             "#0d0887"
            ],
            [
             0.1111111111111111,
             "#46039f"
            ],
            [
             0.2222222222222222,
             "#7201a8"
            ],
            [
             0.3333333333333333,
             "#9c179e"
            ],
            [
             0.4444444444444444,
             "#bd3786"
            ],
            [
             0.5555555555555556,
             "#d8576b"
            ],
            [
             0.6666666666666666,
             "#ed7953"
            ],
            [
             0.7777777777777778,
             "#fb9f3a"
            ],
            [
             0.8888888888888888,
             "#fdca26"
            ],
            [
             1,
             "#f0f921"
            ]
           ]
          },
          "colorway": [
           "#636efa",
           "#EF553B",
           "#00cc96",
           "#ab63fa",
           "#FFA15A",
           "#19d3f3",
           "#FF6692",
           "#B6E880",
           "#FF97FF",
           "#FECB52"
          ],
          "font": {
           "color": "#2a3f5f"
          },
          "geo": {
           "bgcolor": "white",
           "lakecolor": "white",
           "landcolor": "#E5ECF6",
           "showlakes": true,
           "showland": true,
           "subunitcolor": "white"
          },
          "hoverlabel": {
           "align": "left"
          },
          "hovermode": "closest",
          "mapbox": {
           "style": "light"
          },
          "paper_bgcolor": "white",
          "plot_bgcolor": "#E5ECF6",
          "polar": {
           "angularaxis": {
            "gridcolor": "white",
            "linecolor": "white",
            "ticks": ""
           },
           "bgcolor": "#E5ECF6",
           "radialaxis": {
            "gridcolor": "white",
            "linecolor": "white",
            "ticks": ""
           }
          },
          "scene": {
           "xaxis": {
            "backgroundcolor": "#E5ECF6",
            "gridcolor": "white",
            "gridwidth": 2,
            "linecolor": "white",
            "showbackground": true,
            "ticks": "",
            "zerolinecolor": "white"
           },
           "yaxis": {
            "backgroundcolor": "#E5ECF6",
            "gridcolor": "white",
            "gridwidth": 2,
            "linecolor": "white",
            "showbackground": true,
            "ticks": "",
            "zerolinecolor": "white"
           },
           "zaxis": {
            "backgroundcolor": "#E5ECF6",
            "gridcolor": "white",
            "gridwidth": 2,
            "linecolor": "white",
            "showbackground": true,
            "ticks": "",
            "zerolinecolor": "white"
           }
          },
          "shapedefaults": {
           "line": {
            "color": "#2a3f5f"
           }
          },
          "ternary": {
           "aaxis": {
            "gridcolor": "white",
            "linecolor": "white",
            "ticks": ""
           },
           "baxis": {
            "gridcolor": "white",
            "linecolor": "white",
            "ticks": ""
           },
           "bgcolor": "#E5ECF6",
           "caxis": {
            "gridcolor": "white",
            "linecolor": "white",
            "ticks": ""
           }
          },
          "title": {
           "x": 0.05
          },
          "xaxis": {
           "automargin": true,
           "gridcolor": "white",
           "linecolor": "white",
           "ticks": "",
           "title": {
            "standoff": 15
           },
           "zerolinecolor": "white",
           "zerolinewidth": 2
          },
          "yaxis": {
           "automargin": true,
           "gridcolor": "white",
           "linecolor": "white",
           "ticks": "",
           "title": {
            "standoff": 15
           },
           "zerolinecolor": "white",
           "zerolinewidth": 2
          }
         }
        },
        "title": {
         "font": {
          "color": "#4D5663"
         },
         "text": "Top 100 words after removing stop words"
        },
        "xaxis": {
         "gridcolor": "#E1E5ED",
         "linecolor": "black",
         "showgrid": true,
         "tickfont": {
          "color": "#4D5663"
         },
         "title": {
          "font": {
           "color": "#4D5663"
          },
          "text": ""
         },
         "zerolinecolor": "#E1E5ED"
        },
        "yaxis": {
         "gridcolor": "#E1E5ED",
         "linecolor": "black",
         "showgrid": true,
         "tickfont": {
          "color": "#4D5663"
         },
         "title": {
          "font": {
           "color": "#4D5663"
          },
          "text": "Count"
         },
         "zerolinecolor": "#E1E5ED"
        }
       }
      },
      "text/html": [
       "<div>                            <div id=\"038faff9-a822-4035-a3a2-141538984f71\" class=\"plotly-graph-div\" style=\"height:525px; width:100%;\"></div>            <script type=\"text/javascript\">                require([\"plotly\"], function(Plotly) {                    window.PLOTLYENV=window.PLOTLYENV || {};\n",
       "                    window.PLOTLYENV.BASE_URL='https://plot.ly';                                    if (document.getElementById(\"038faff9-a822-4035-a3a2-141538984f71\")) {                    Plotly.newPlot(                        \"038faff9-a822-4035-a3a2-141538984f71\",                        [{\"marker\":{\"color\":\"rgba(255, 153, 51, 0.6)\",\"line\":{\"color\":\"rgba(255, 153, 51, 1.0)\",\"width\":1}},\"name\":\"count\",\"orientation\":\"v\",\"text\":\"\",\"x\":[\"business\",\"science\",\"management\",\"computer\",\"analysis\",\"development\",\"learn\",\"engineering\",\"datum\",\"leadership\",\"language\",\"machine\",\"programming\",\"design\",\"software\",\"strategy\",\"project\",\"web\",\"marketing\",\"security\",\"system\",\"model\",\"finance\",\"cloud\",\"market\",\"learning\",\"process\",\"health\",\"communication\",\"history\",\"network\",\"compute\",\"social\",\"data\",\"art\",\"economic\",\"music\",\"public\",\"physical\",\"law\",\"psychology\",\"education\",\"human\",\"risk\",\"write\",\"product\",\"introduction\",\"planning\",\"plan\",\"use\",\"personal\",\"writing\",\"application\",\"medium\",\"research\",\"regression\",\"life\",\"essential\",\"global\",\"basic\",\"financial\",\"program\",\"sustainability\",\"energy\",\"mechanical\",\"electrical\",\"think\",\"evaluation\",\"database\",\"analytic\",\"sale\",\"graphic\",\"arts_humanitie\",\"method\",\"platform\",\"algorithm\",\"digital\",\"environmental\",\"euler_totient_function\",\"modeling\",\"create\",\"experience\",\"build\",\"service\",\"theory\",\"teach\",\"strategic\",\"deep\",\"accounting\",\"innovation\",\"interface\",\"investment\",\"brand\",\"mobile\",\"stock\",\"culture\",\"resource\",\"architecture\",\"structure\",\"value\"],\"y\":[1450,1444,1393,1032,1015,837,790,764,724,715,655,640,634,629,626,552,544,466,451,406,386,378,362,352,334,325,314,308,296,284,280,279,256,251,246,244,241,235,219,212,207,202,198,198,198,192,190,187,184,182,177,167,158,157,155,150,146,146,145,145,145,141,139,139,138,138,132,126,126,124,123,121,117,117,116,114,114,110,110,109,109,109,107,106,106,106,103,102,101,101,99,97,96,96,92,90,90,87,85,85],\"type\":\"bar\"}],                        {\"legend\":{\"bgcolor\":\"#F5F6F9\",\"font\":{\"color\":\"#4D5663\"}},\"paper_bgcolor\":\"#F5F6F9\",\"plot_bgcolor\":\"#F5F6F9\",\"template\":{\"data\":{\"barpolar\":[{\"marker\":{\"line\":{\"color\":\"#E5ECF6\",\"width\":0.5},\"pattern\":{\"fillmode\":\"overlay\",\"size\":10,\"solidity\":0.2}},\"type\":\"barpolar\"}],\"bar\":[{\"error_x\":{\"color\":\"#2a3f5f\"},\"error_y\":{\"color\":\"#2a3f5f\"},\"marker\":{\"line\":{\"color\":\"#E5ECF6\",\"width\":0.5},\"pattern\":{\"fillmode\":\"overlay\",\"size\":10,\"solidity\":0.2}},\"type\":\"bar\"}],\"carpet\":[{\"aaxis\":{\"endlinecolor\":\"#2a3f5f\",\"gridcolor\":\"white\",\"linecolor\":\"white\",\"minorgridcolor\":\"white\",\"startlinecolor\":\"#2a3f5f\"},\"baxis\":{\"endlinecolor\":\"#2a3f5f\",\"gridcolor\":\"white\",\"linecolor\":\"white\",\"minorgridcolor\":\"white\",\"startlinecolor\":\"#2a3f5f\"},\"type\":\"carpet\"}],\"choropleth\":[{\"colorbar\":{\"outlinewidth\":0,\"ticks\":\"\"},\"type\":\"choropleth\"}],\"contourcarpet\":[{\"colorbar\":{\"outlinewidth\":0,\"ticks\":\"\"},\"type\":\"contourcarpet\"}],\"contour\":[{\"colorbar\":{\"outlinewidth\":0,\"ticks\":\"\"},\"colorscale\":[[0.0,\"#0d0887\"],[0.1111111111111111,\"#46039f\"],[0.2222222222222222,\"#7201a8\"],[0.3333333333333333,\"#9c179e\"],[0.4444444444444444,\"#bd3786\"],[0.5555555555555556,\"#d8576b\"],[0.6666666666666666,\"#ed7953\"],[0.7777777777777778,\"#fb9f3a\"],[0.8888888888888888,\"#fdca26\"],[1.0,\"#f0f921\"]],\"type\":\"contour\"}],\"heatmapgl\":[{\"colorbar\":{\"outlinewidth\":0,\"ticks\":\"\"},\"colorscale\":[[0.0,\"#0d0887\"],[0.1111111111111111,\"#46039f\"],[0.2222222222222222,\"#7201a8\"],[0.3333333333333333,\"#9c179e\"],[0.4444444444444444,\"#bd3786\"],[0.5555555555555556,\"#d8576b\"],[0.6666666666666666,\"#ed7953\"],[0.7777777777777778,\"#fb9f3a\"],[0.8888888888888888,\"#fdca26\"],[1.0,\"#f0f921\"]],\"type\":\"heatmapgl\"}],\"heatmap\":[{\"colorbar\":{\"outlinewidth\":0,\"ticks\":\"\"},\"colorscale\":[[0.0,\"#0d0887\"],[0.1111111111111111,\"#46039f\"],[0.2222222222222222,\"#7201a8\"],[0.3333333333333333,\"#9c179e\"],[0.4444444444444444,\"#bd3786\"],[0.5555555555555556,\"#d8576b\"],[0.6666666666666666,\"#ed7953\"],[0.7777777777777778,\"#fb9f3a\"],[0.8888888888888888,\"#fdca26\"],[1.0,\"#f0f921\"]],\"type\":\"heatmap\"}],\"histogram2dcontour\":[{\"colorbar\":{\"outlinewidth\":0,\"ticks\":\"\"},\"colorscale\":[[0.0,\"#0d0887\"],[0.1111111111111111,\"#46039f\"],[0.2222222222222222,\"#7201a8\"],[0.3333333333333333,\"#9c179e\"],[0.4444444444444444,\"#bd3786\"],[0.5555555555555556,\"#d8576b\"],[0.6666666666666666,\"#ed7953\"],[0.7777777777777778,\"#fb9f3a\"],[0.8888888888888888,\"#fdca26\"],[1.0,\"#f0f921\"]],\"type\":\"histogram2dcontour\"}],\"histogram2d\":[{\"colorbar\":{\"outlinewidth\":0,\"ticks\":\"\"},\"colorscale\":[[0.0,\"#0d0887\"],[0.1111111111111111,\"#46039f\"],[0.2222222222222222,\"#7201a8\"],[0.3333333333333333,\"#9c179e\"],[0.4444444444444444,\"#bd3786\"],[0.5555555555555556,\"#d8576b\"],[0.6666666666666666,\"#ed7953\"],[0.7777777777777778,\"#fb9f3a\"],[0.8888888888888888,\"#fdca26\"],[1.0,\"#f0f921\"]],\"type\":\"histogram2d\"}],\"histogram\":[{\"marker\":{\"pattern\":{\"fillmode\":\"overlay\",\"size\":10,\"solidity\":0.2}},\"type\":\"histogram\"}],\"mesh3d\":[{\"colorbar\":{\"outlinewidth\":0,\"ticks\":\"\"},\"type\":\"mesh3d\"}],\"parcoords\":[{\"line\":{\"colorbar\":{\"outlinewidth\":0,\"ticks\":\"\"}},\"type\":\"parcoords\"}],\"pie\":[{\"automargin\":true,\"type\":\"pie\"}],\"scatter3d\":[{\"line\":{\"colorbar\":{\"outlinewidth\":0,\"ticks\":\"\"}},\"marker\":{\"colorbar\":{\"outlinewidth\":0,\"ticks\":\"\"}},\"type\":\"scatter3d\"}],\"scattercarpet\":[{\"marker\":{\"colorbar\":{\"outlinewidth\":0,\"ticks\":\"\"}},\"type\":\"scattercarpet\"}],\"scattergeo\":[{\"marker\":{\"colorbar\":{\"outlinewidth\":0,\"ticks\":\"\"}},\"type\":\"scattergeo\"}],\"scattergl\":[{\"marker\":{\"colorbar\":{\"outlinewidth\":0,\"ticks\":\"\"}},\"type\":\"scattergl\"}],\"scattermapbox\":[{\"marker\":{\"colorbar\":{\"outlinewidth\":0,\"ticks\":\"\"}},\"type\":\"scattermapbox\"}],\"scatterpolargl\":[{\"marker\":{\"colorbar\":{\"outlinewidth\":0,\"ticks\":\"\"}},\"type\":\"scatterpolargl\"}],\"scatterpolar\":[{\"marker\":{\"colorbar\":{\"outlinewidth\":0,\"ticks\":\"\"}},\"type\":\"scatterpolar\"}],\"scatter\":[{\"marker\":{\"colorbar\":{\"outlinewidth\":0,\"ticks\":\"\"}},\"type\":\"scatter\"}],\"scatterternary\":[{\"marker\":{\"colorbar\":{\"outlinewidth\":0,\"ticks\":\"\"}},\"type\":\"scatterternary\"}],\"surface\":[{\"colorbar\":{\"outlinewidth\":0,\"ticks\":\"\"},\"colorscale\":[[0.0,\"#0d0887\"],[0.1111111111111111,\"#46039f\"],[0.2222222222222222,\"#7201a8\"],[0.3333333333333333,\"#9c179e\"],[0.4444444444444444,\"#bd3786\"],[0.5555555555555556,\"#d8576b\"],[0.6666666666666666,\"#ed7953\"],[0.7777777777777778,\"#fb9f3a\"],[0.8888888888888888,\"#fdca26\"],[1.0,\"#f0f921\"]],\"type\":\"surface\"}],\"table\":[{\"cells\":{\"fill\":{\"color\":\"#EBF0F8\"},\"line\":{\"color\":\"white\"}},\"header\":{\"fill\":{\"color\":\"#C8D4E3\"},\"line\":{\"color\":\"white\"}},\"type\":\"table\"}]},\"layout\":{\"annotationdefaults\":{\"arrowcolor\":\"#2a3f5f\",\"arrowhead\":0,\"arrowwidth\":1},\"autotypenumbers\":\"strict\",\"coloraxis\":{\"colorbar\":{\"outlinewidth\":0,\"ticks\":\"\"}},\"colorscale\":{\"diverging\":[[0,\"#8e0152\"],[0.1,\"#c51b7d\"],[0.2,\"#de77ae\"],[0.3,\"#f1b6da\"],[0.4,\"#fde0ef\"],[0.5,\"#f7f7f7\"],[0.6,\"#e6f5d0\"],[0.7,\"#b8e186\"],[0.8,\"#7fbc41\"],[0.9,\"#4d9221\"],[1,\"#276419\"]],\"sequential\":[[0.0,\"#0d0887\"],[0.1111111111111111,\"#46039f\"],[0.2222222222222222,\"#7201a8\"],[0.3333333333333333,\"#9c179e\"],[0.4444444444444444,\"#bd3786\"],[0.5555555555555556,\"#d8576b\"],[0.6666666666666666,\"#ed7953\"],[0.7777777777777778,\"#fb9f3a\"],[0.8888888888888888,\"#fdca26\"],[1.0,\"#f0f921\"]],\"sequentialminus\":[[0.0,\"#0d0887\"],[0.1111111111111111,\"#46039f\"],[0.2222222222222222,\"#7201a8\"],[0.3333333333333333,\"#9c179e\"],[0.4444444444444444,\"#bd3786\"],[0.5555555555555556,\"#d8576b\"],[0.6666666666666666,\"#ed7953\"],[0.7777777777777778,\"#fb9f3a\"],[0.8888888888888888,\"#fdca26\"],[1.0,\"#f0f921\"]]},\"colorway\":[\"#636efa\",\"#EF553B\",\"#00cc96\",\"#ab63fa\",\"#FFA15A\",\"#19d3f3\",\"#FF6692\",\"#B6E880\",\"#FF97FF\",\"#FECB52\"],\"font\":{\"color\":\"#2a3f5f\"},\"geo\":{\"bgcolor\":\"white\",\"lakecolor\":\"white\",\"landcolor\":\"#E5ECF6\",\"showlakes\":true,\"showland\":true,\"subunitcolor\":\"white\"},\"hoverlabel\":{\"align\":\"left\"},\"hovermode\":\"closest\",\"mapbox\":{\"style\":\"light\"},\"paper_bgcolor\":\"white\",\"plot_bgcolor\":\"#E5ECF6\",\"polar\":{\"angularaxis\":{\"gridcolor\":\"white\",\"linecolor\":\"white\",\"ticks\":\"\"},\"bgcolor\":\"#E5ECF6\",\"radialaxis\":{\"gridcolor\":\"white\",\"linecolor\":\"white\",\"ticks\":\"\"}},\"scene\":{\"xaxis\":{\"backgroundcolor\":\"#E5ECF6\",\"gridcolor\":\"white\",\"gridwidth\":2,\"linecolor\":\"white\",\"showbackground\":true,\"ticks\":\"\",\"zerolinecolor\":\"white\"},\"yaxis\":{\"backgroundcolor\":\"#E5ECF6\",\"gridcolor\":\"white\",\"gridwidth\":2,\"linecolor\":\"white\",\"showbackground\":true,\"ticks\":\"\",\"zerolinecolor\":\"white\"},\"zaxis\":{\"backgroundcolor\":\"#E5ECF6\",\"gridcolor\":\"white\",\"gridwidth\":2,\"linecolor\":\"white\",\"showbackground\":true,\"ticks\":\"\",\"zerolinecolor\":\"white\"}},\"shapedefaults\":{\"line\":{\"color\":\"#2a3f5f\"}},\"ternary\":{\"aaxis\":{\"gridcolor\":\"white\",\"linecolor\":\"white\",\"ticks\":\"\"},\"baxis\":{\"gridcolor\":\"white\",\"linecolor\":\"white\",\"ticks\":\"\"},\"bgcolor\":\"#E5ECF6\",\"caxis\":{\"gridcolor\":\"white\",\"linecolor\":\"white\",\"ticks\":\"\"}},\"title\":{\"x\":0.05},\"xaxis\":{\"automargin\":true,\"gridcolor\":\"white\",\"linecolor\":\"white\",\"ticks\":\"\",\"title\":{\"standoff\":15},\"zerolinecolor\":\"white\",\"zerolinewidth\":2},\"yaxis\":{\"automargin\":true,\"gridcolor\":\"white\",\"linecolor\":\"white\",\"ticks\":\"\",\"title\":{\"standoff\":15},\"zerolinecolor\":\"white\",\"zerolinewidth\":2}}},\"title\":{\"font\":{\"color\":\"#4D5663\"},\"text\":\"Top 100 words after removing stop words\"},\"xaxis\":{\"gridcolor\":\"#E1E5ED\",\"linecolor\":\"black\",\"showgrid\":true,\"tickfont\":{\"color\":\"#4D5663\"},\"title\":{\"font\":{\"color\":\"#4D5663\"},\"text\":\"\"},\"zerolinecolor\":\"#E1E5ED\"},\"yaxis\":{\"gridcolor\":\"#E1E5ED\",\"linecolor\":\"black\",\"showgrid\":true,\"tickfont\":{\"color\":\"#4D5663\"},\"title\":{\"font\":{\"color\":\"#4D5663\"},\"text\":\"Count\"},\"zerolinecolor\":\"#E1E5ED\"}},                        {\"showLink\": true, \"linkText\": \"Export to plot.ly\", \"plotlyServerURL\": \"https://plot.ly\", \"responsive\": true}                    ).then(function(){\n",
       "                            \n",
       "var gd = document.getElementById('038faff9-a822-4035-a3a2-141538984f71');\n",
       "var x = new MutationObserver(function (mutations, observer) {{\n",
       "        var display = window.getComputedStyle(gd).display;\n",
       "        if (!display || display === 'none') {{\n",
       "            console.log([gd, 'removed!']);\n",
       "            Plotly.purge(gd);\n",
       "            observer.disconnect();\n",
       "        }}\n",
       "}});\n",
       "\n",
       "// Listen for the removal of the full notebook cells\n",
       "var notebookContainer = gd.closest('#notebook-container');\n",
       "if (notebookContainer) {{\n",
       "    x.observe(notebookContainer, {childList: true});\n",
       "}}\n",
       "\n",
       "// Listen for the clearing of the current output cell\n",
       "var outputEl = gd.closest('.output');\n",
       "if (outputEl) {{\n",
       "    x.observe(outputEl, {childList: true});\n",
       "}}\n",
       "\n",
       "                        })                };                });            </script>        </div>"
      ]
     },
     "metadata": {},
     "output_type": "display_data"
    }
   ],
   "source": [
    "plot_model()"
   ]
  },
  {
   "cell_type": "code",
   "execution_count": 61,
   "id": "ea276fee",
   "metadata": {},
   "outputs": [
    {
     "name": "stdout",
     "output_type": "stream",
     "text": [
      "Model Sucessfully Loaded\n",
      "Model Sucessfully Loaded\n",
      "Model Sucessfully Loaded\n"
     ]
    }
   ],
   "source": [
    "\n",
    "# <==== Code starts here ====>\n",
    "\n",
    "courses_list = load_model('course_list1')\n",
    "similarity = load_model('similarity1')\n",
    "courses = load_model('courses1')\n",
    "def recommend(course):\n",
    "    index = courses_list[courses_list['course_name'] == course].index[0]\n",
    "    distances = sorted(list(enumerate(similarity[index])), reverse=True, key=lambda x: x[1])\n",
    "    recommended_course_names = []\n",
    "    for i in distances[1:7]:\n",
    "        course_name = courses_list.iloc[i[0]].course_name\n",
    "        recommended_course_names.append(course_name)\n",
    "\n",
    "    return recommended_course_names\n"
   ]
  },
  {
   "cell_type": "code",
   "execution_count": 62,
   "id": "7f70f6b5",
   "metadata": {},
   "outputs": [],
   "source": [
    "# course_list = courses_list['course_name'].values"
   ]
  },
  {
   "cell_type": "code",
   "execution_count": 63,
   "id": "f19526e6",
   "metadata": {},
   "outputs": [
    {
     "ename": "NameError",
     "evalue": "name 'courses_list1' is not defined",
     "output_type": "error",
     "traceback": [
      "\u001b[1;31m---------------------------------------------------------------------------\u001b[0m",
      "\u001b[1;31mNameError\u001b[0m                                 Traceback (most recent call last)",
      "\u001b[1;32m<ipython-input-63-7c0b6a706304>\u001b[0m in \u001b[0;36m<module>\u001b[1;34m\u001b[0m\n\u001b[1;32m----> 1\u001b[1;33m \u001b[0mcourses_list1\u001b[0m\u001b[1;33m\u001b[0m\u001b[1;33m\u001b[0m\u001b[0m\n\u001b[0m",
      "\u001b[1;31mNameError\u001b[0m: name 'courses_list1' is not defined"
     ]
    }
   ],
   "source": [
    "courses_list1"
   ]
  },
  {
   "cell_type": "code",
   "execution_count": null,
   "id": "5881f831",
   "metadata": {},
   "outputs": [],
   "source": [
    "similarity1"
   ]
  },
  {
   "cell_type": "code",
   "execution_count": null,
   "id": "9b5287ba",
   "metadata": {},
   "outputs": [],
   "source": [
    "saved_lda = load_model('courses')"
   ]
  },
  {
   "cell_type": "code",
   "execution_count": null,
   "id": "de490eee",
   "metadata": {},
   "outputs": [],
   "source": [
    "print(saved_lda)\n"
   ]
  },
  {
   "cell_type": "code",
   "execution_count": null,
   "id": "7edfbfaa",
   "metadata": {},
   "outputs": [],
   "source": [
    "courses"
   ]
  },
  {
   "cell_type": "code",
   "execution_count": null,
   "id": "bab7d1cd",
   "metadata": {},
   "outputs": [],
   "source": []
  }
 ],
 "metadata": {
  "kernelspec": {
   "display_name": "Python 3",
   "language": "python",
   "name": "python3"
  },
  "language_info": {
   "codemirror_mode": {
    "name": "ipython",
    "version": 3
   },
   "file_extension": ".py",
   "mimetype": "text/x-python",
   "name": "python",
   "nbconvert_exporter": "python",
   "pygments_lexer": "ipython3",
   "version": "3.6.13"
  },
  "papermill": {
   "default_parameters": {},
   "duration": 40.65955,
   "end_time": "2022-01-26T14:20:13.730648",
   "environment_variables": {},
   "exception": null,
   "input_path": "__notebook__.ipynb",
   "output_path": "__notebook__.ipynb",
   "parameters": {},
   "start_time": "2022-01-26T14:19:33.071098",
   "version": "2.3.3"
  }
 },
 "nbformat": 4,
 "nbformat_minor": 5
}
