{
 "cells": [
  {
   "cell_type": "code",
   "execution_count": 1,
   "id": "bbf1882d",
   "metadata": {},
   "outputs": [],
   "source": [
    "#!/usr/bin/env python\n",
    "import snowflake.connector as c\n",
    "import pandas as pd\n",
    "import matplotlib.pyplot as plt\n",
    "# Gets the version\n",
    "ctx = c.connect(user='DEEPIKA',password='Life@123',account='go75189.us-east-2.aws')"
   ]
  },
  {
   "cell_type": "code",
   "execution_count": 2,
   "id": "43f74237",
   "metadata": {},
   "outputs": [],
   "source": [
    "sql = \"SELECT * FROM BENCHPREP_DATASET.PUBLIC.TABLE3\""
   ]
  },
  {
   "cell_type": "code",
   "execution_count": 3,
   "id": "544fe086",
   "metadata": {},
   "outputs": [],
   "source": [
    "df = pd.read_sql(sql, ctx)"
   ]
  },
  {
   "cell_type": "code",
   "execution_count": 4,
   "id": "76c0fde6",
   "metadata": {},
   "outputs": [
    {
     "data": {
      "text/html": [
       "<div>\n",
       "<style scoped>\n",
       "    .dataframe tbody tr th:only-of-type {\n",
       "        vertical-align: middle;\n",
       "    }\n",
       "\n",
       "    .dataframe tbody tr th {\n",
       "        vertical-align: top;\n",
       "    }\n",
       "\n",
       "    .dataframe thead th {\n",
       "        text-align: right;\n",
       "    }\n",
       "</style>\n",
       "<table border=\"1\" class=\"dataframe\">\n",
       "  <thead>\n",
       "    <tr style=\"text-align: right;\">\n",
       "      <th></th>\n",
       "      <th>COURSE</th>\n",
       "      <th>USER_REGISTRATION_YEAR</th>\n",
       "      <th>ID_USER</th>\n",
       "      <th>USER_PROFILE</th>\n",
       "      <th>REGION</th>\n",
       "      <th>COURSE_LEVEL</th>\n",
       "      <th>AGE_BAND</th>\n",
       "      <th>NUM_OF_PREV_ATTEMPTS</th>\n",
       "      <th>STUDIED_CREDITS</th>\n",
       "      <th>QUALIFICATION</th>\n",
       "      <th>...</th>\n",
       "      <th>CONSULTATIONS</th>\n",
       "      <th>ATTEDANCE</th>\n",
       "      <th>TENANTS</th>\n",
       "      <th>RECOMMEND_COURSE_PRIORITY</th>\n",
       "      <th>ARE_YOU_HAPPY_WITH_COURSE</th>\n",
       "      <th>PROJECTS_IN_THE_COURSE</th>\n",
       "      <th>PROJECTS_COMPLETED</th>\n",
       "      <th>MARKS</th>\n",
       "      <th>PENDING_PROJECTS</th>\n",
       "      <th>CATEGORY</th>\n",
       "    </tr>\n",
       "  </thead>\n",
       "  <tbody>\n",
       "    <tr>\n",
       "      <th>0</th>\n",
       "      <td>Artificial Intelligence</td>\n",
       "      <td>2013</td>\n",
       "      <td>117699</td>\n",
       "      <td>Professional</td>\n",
       "      <td>Norfolk</td>\n",
       "      <td>Beginner</td>\n",
       "      <td>0-35</td>\n",
       "      <td>0.0</td>\n",
       "      <td>120.0</td>\n",
       "      <td>Graduate</td>\n",
       "      <td>...</td>\n",
       "      <td>10.0</td>\n",
       "      <td>Highasbence</td>\n",
       "      <td>Unacademy</td>\n",
       "      <td>Very Low</td>\n",
       "      <td>0.0</td>\n",
       "      <td>238.0</td>\n",
       "      <td>92.0</td>\n",
       "      <td>87.0</td>\n",
       "      <td>146.0</td>\n",
       "      <td>Innovations in Investment Technology: Artifici...</td>\n",
       "    </tr>\n",
       "    <tr>\n",
       "      <th>1</th>\n",
       "      <td>Artificial Intelligence</td>\n",
       "      <td>2013</td>\n",
       "      <td>72400</td>\n",
       "      <td>Professional</td>\n",
       "      <td>Wales</td>\n",
       "      <td>Intermediate</td>\n",
       "      <td>0-35</td>\n",
       "      <td>0.0</td>\n",
       "      <td>120.0</td>\n",
       "      <td>Post Graduate</td>\n",
       "      <td>...</td>\n",
       "      <td>2.0</td>\n",
       "      <td>Highasbence</td>\n",
       "      <td>Vedantu</td>\n",
       "      <td>Very High</td>\n",
       "      <td>1.0</td>\n",
       "      <td>229.0</td>\n",
       "      <td>92.0</td>\n",
       "      <td>85.0</td>\n",
       "      <td>137.0</td>\n",
       "      <td>Artificial Intelligence Ethics in Action</td>\n",
       "    </tr>\n",
       "    <tr>\n",
       "      <th>2</th>\n",
       "      <td>Artificial Intelligence</td>\n",
       "      <td>2012</td>\n",
       "      <td>566979</td>\n",
       "      <td>Student</td>\n",
       "      <td>Cheshire</td>\n",
       "      <td>Intermediate</td>\n",
       "      <td>0-35</td>\n",
       "      <td>0.0</td>\n",
       "      <td>90.0</td>\n",
       "      <td>Graduate</td>\n",
       "      <td>...</td>\n",
       "      <td>10.0</td>\n",
       "      <td>Highasbence</td>\n",
       "      <td>Embibe</td>\n",
       "      <td>Medium</td>\n",
       "      <td>0.0</td>\n",
       "      <td>281.0</td>\n",
       "      <td>100.0</td>\n",
       "      <td>89.0</td>\n",
       "      <td>181.0</td>\n",
       "      <td>Artificial Intelligence Privacy and Convenience</td>\n",
       "    </tr>\n",
       "    <tr>\n",
       "      <th>3</th>\n",
       "      <td>Artificial Intelligence</td>\n",
       "      <td>2013</td>\n",
       "      <td>429099</td>\n",
       "      <td>Professional</td>\n",
       "      <td>Surrey</td>\n",
       "      <td>Intermediate</td>\n",
       "      <td>0-35</td>\n",
       "      <td>2.0</td>\n",
       "      <td>90.0</td>\n",
       "      <td>Graduate</td>\n",
       "      <td>...</td>\n",
       "      <td>21.0</td>\n",
       "      <td>Highasbence</td>\n",
       "      <td>Toppr</td>\n",
       "      <td>High</td>\n",
       "      <td>0.0</td>\n",
       "      <td>285.0</td>\n",
       "      <td>92.0</td>\n",
       "      <td>90.0</td>\n",
       "      <td>193.0</td>\n",
       "      <td>what is artificial intelligence?</td>\n",
       "    </tr>\n",
       "    <tr>\n",
       "      <th>4</th>\n",
       "      <td>Artificial Intelligence</td>\n",
       "      <td>2012</td>\n",
       "      <td>571921</td>\n",
       "      <td>Professional</td>\n",
       "      <td>Surrey</td>\n",
       "      <td>Intermediate</td>\n",
       "      <td>35-55</td>\n",
       "      <td>0.0</td>\n",
       "      <td>60.0</td>\n",
       "      <td>Graduate</td>\n",
       "      <td>...</td>\n",
       "      <td>28.0</td>\n",
       "      <td>Highasbence</td>\n",
       "      <td>Brainly</td>\n",
       "      <td>Low</td>\n",
       "      <td>1.0</td>\n",
       "      <td>213.0</td>\n",
       "      <td>100.0</td>\n",
       "      <td>92.0</td>\n",
       "      <td>113.0</td>\n",
       "      <td>Introduction to Artificial Intelligence (AI)</td>\n",
       "    </tr>\n",
       "  </tbody>\n",
       "</table>\n",
       "<p>5 rows × 30 columns</p>\n",
       "</div>"
      ],
      "text/plain": [
       "                    COURSE USER_REGISTRATION_YEAR ID_USER  USER_PROFILE  \\\n",
       "0  Artificial Intelligence                   2013  117699  Professional   \n",
       "1  Artificial Intelligence                   2013   72400  Professional   \n",
       "2  Artificial Intelligence                   2012  566979       Student   \n",
       "3  Artificial Intelligence                   2013  429099  Professional   \n",
       "4  Artificial Intelligence                   2012  571921  Professional   \n",
       "\n",
       "     REGION  COURSE_LEVEL AGE_BAND  NUM_OF_PREV_ATTEMPTS  STUDIED_CREDITS  \\\n",
       "0   Norfolk      Beginner     0-35                   0.0            120.0   \n",
       "1     Wales  Intermediate     0-35                   0.0            120.0   \n",
       "2  Cheshire  Intermediate     0-35                   0.0             90.0   \n",
       "3    Surrey  Intermediate     0-35                   2.0             90.0   \n",
       "4    Surrey  Intermediate    35-55                   0.0             60.0   \n",
       "\n",
       "   QUALIFICATION  ... CONSULTATIONS    ATTEDANCE    TENANTS  \\\n",
       "0       Graduate  ...          10.0  Highasbence  Unacademy   \n",
       "1  Post Graduate  ...           2.0  Highasbence    Vedantu   \n",
       "2       Graduate  ...          10.0  Highasbence     Embibe   \n",
       "3       Graduate  ...          21.0  Highasbence      Toppr   \n",
       "4       Graduate  ...          28.0  Highasbence    Brainly   \n",
       "\n",
       "  RECOMMEND_COURSE_PRIORITY ARE_YOU_HAPPY_WITH_COURSE  PROJECTS_IN_THE_COURSE  \\\n",
       "0                  Very Low                       0.0                   238.0   \n",
       "1                Very High                        1.0                   229.0   \n",
       "2                    Medium                       0.0                   281.0   \n",
       "3                      High                       0.0                   285.0   \n",
       "4                       Low                       1.0                   213.0   \n",
       "\n",
       "   PROJECTS_COMPLETED  MARKS PENDING_PROJECTS  \\\n",
       "0                92.0   87.0            146.0   \n",
       "1                92.0   85.0            137.0   \n",
       "2               100.0   89.0            181.0   \n",
       "3                92.0   90.0            193.0   \n",
       "4               100.0   92.0            113.0   \n",
       "\n",
       "                                            CATEGORY  \n",
       "0  Innovations in Investment Technology: Artifici...  \n",
       "1           Artificial Intelligence Ethics in Action  \n",
       "2    Artificial Intelligence Privacy and Convenience  \n",
       "3                   what is artificial intelligence?  \n",
       "4       Introduction to Artificial Intelligence (AI)  \n",
       "\n",
       "[5 rows x 30 columns]"
      ]
     },
     "execution_count": 4,
     "metadata": {},
     "output_type": "execute_result"
    }
   ],
   "source": [
    "df.head()"
   ]
  },
  {
   "cell_type": "code",
   "execution_count": 5,
   "id": "f017dadd",
   "metadata": {},
   "outputs": [],
   "source": [
    "df.dropna(inplace = True)"
   ]
  },
  {
   "cell_type": "code",
   "execution_count": 6,
   "id": "5899cf09",
   "metadata": {},
   "outputs": [
    {
     "data": {
      "text/plain": [
       "(26267, 30)"
      ]
     },
     "execution_count": 6,
     "metadata": {},
     "output_type": "execute_result"
    }
   ],
   "source": [
    "df.shape"
   ]
  },
  {
   "cell_type": "code",
   "execution_count": 7,
   "id": "e665816d",
   "metadata": {},
   "outputs": [],
   "source": [
    "import neattext.functions as nfx"
   ]
  },
  {
   "cell_type": "code",
   "execution_count": 8,
   "id": "1c0d70ee",
   "metadata": {},
   "outputs": [
    {
     "data": {
      "text/plain": [
       "0        Innovations in Investment Technology: Artifici...\n",
       "1                 Artificial Intelligence Ethics in Action\n",
       "2          Artificial Intelligence Privacy and Convenience\n",
       "3                         what is artificial intelligence?\n",
       "4             Introduction to Artificial Intelligence (AI)\n",
       "                               ...                        \n",
       "26262                    Neural Networks and Deep Learning\n",
       "26263     Sentiment Analysis with Deep Learning using BERT\n",
       "26264       Deep Learning NLP: Training GPT-2 from scratch\n",
       "26265    Intermediate Intelï¿½ Distribution of OpenVINO...\n",
       "26266           An Introduction to Practical Deep Learning\n",
       "Name: CATEGORY, Length: 26267, dtype: object"
      ]
     },
     "execution_count": 8,
     "metadata": {},
     "output_type": "execute_result"
    }
   ],
   "source": [
    "df['CATEGORY']"
   ]
  },
  {
   "cell_type": "code",
   "execution_count": 9,
   "id": "1a57c0f2",
   "metadata": {},
   "outputs": [
    {
     "data": {
      "text/plain": [
       "['BTC_ADDRESS_REGEX',\n",
       " 'CURRENCY_REGEX',\n",
       " 'CURRENCY_SYMB_REGEX',\n",
       " 'Counter',\n",
       " 'DATE_REGEX',\n",
       " 'EMAIL_REGEX',\n",
       " 'EMOJI_REGEX',\n",
       " 'HASTAG_REGEX',\n",
       " 'MASTERCard_REGEX',\n",
       " 'MD5_SHA_REGEX',\n",
       " 'MOST_COMMON_PUNCT_REGEX',\n",
       " 'NUMBERS_REGEX',\n",
       " 'PHONE_REGEX',\n",
       " 'PoBOX_REGEX',\n",
       " 'SPECIAL_CHARACTERS_REGEX',\n",
       " 'STOPWORDS',\n",
       " 'STOPWORDS_de',\n",
       " 'STOPWORDS_en',\n",
       " 'STOPWORDS_es',\n",
       " 'STOPWORDS_fr',\n",
       " 'STOPWORDS_ru',\n",
       " 'STOPWORDS_yo',\n",
       " 'STREET_ADDRESS_REGEX',\n",
       " 'TextFrame',\n",
       " 'URL_PATTERN',\n",
       " 'USER_HANDLES_REGEX',\n",
       " 'VISACard_REGEX',\n",
       " '__builtins__',\n",
       " '__cached__',\n",
       " '__doc__',\n",
       " '__file__',\n",
       " '__generate_text',\n",
       " '__loader__',\n",
       " '__name__',\n",
       " '__numbers_dict',\n",
       " '__package__',\n",
       " '__spec__',\n",
       " '_lex_richness_herdan',\n",
       " '_lex_richness_maas_ttr',\n",
       " 'clean_text',\n",
       " 'defaultdict',\n",
       " 'digit2words',\n",
       " 'extract_btc_address',\n",
       " 'extract_currencies',\n",
       " 'extract_currency_symbols',\n",
       " 'extract_dates',\n",
       " 'extract_emails',\n",
       " 'extract_emojis',\n",
       " 'extract_hashtags',\n",
       " 'extract_html_tags',\n",
       " 'extract_mastercard_addr',\n",
       " 'extract_md5sha',\n",
       " 'extract_numbers',\n",
       " 'extract_pattern',\n",
       " 'extract_phone_numbers',\n",
       " 'extract_postoffice_box',\n",
       " 'extract_shortwords',\n",
       " 'extract_special_characters',\n",
       " 'extract_stopwords',\n",
       " 'extract_street_address',\n",
       " 'extract_terms_in_bracket',\n",
       " 'extract_urls',\n",
       " 'extract_userhandles',\n",
       " 'extract_visacard_addr',\n",
       " 'fix_contractions',\n",
       " 'generate_sentence',\n",
       " 'hamming_distance',\n",
       " 'inverse_df',\n",
       " 'lexical_richness',\n",
       " 'markov_chain',\n",
       " 'math',\n",
       " 'nlargest',\n",
       " 'normalize',\n",
       " 'num2words',\n",
       " 'random',\n",
       " 're',\n",
       " 'read_txt',\n",
       " 'remove_bad_quotes',\n",
       " 'remove_btc_address',\n",
       " 'remove_currencies',\n",
       " 'remove_currency_symbols',\n",
       " 'remove_custom_pattern',\n",
       " 'remove_custom_words',\n",
       " 'remove_dates',\n",
       " 'remove_emails',\n",
       " 'remove_emojis',\n",
       " 'remove_hashtags',\n",
       " 'remove_html_tags',\n",
       " 'remove_mastercard_addr',\n",
       " 'remove_md5sha',\n",
       " 'remove_multiple_spaces',\n",
       " 'remove_non_ascii',\n",
       " 'remove_numbers',\n",
       " 'remove_phone_numbers',\n",
       " 'remove_postoffice_box',\n",
       " 'remove_puncts',\n",
       " 'remove_punctuations',\n",
       " 'remove_shortwords',\n",
       " 'remove_special_characters',\n",
       " 'remove_stopwords',\n",
       " 'remove_street_address',\n",
       " 'remove_terms_in_bracket',\n",
       " 'remove_urls',\n",
       " 'remove_userhandles',\n",
       " 'remove_visacard_addr',\n",
       " 'replace_bad_quotes',\n",
       " 'replace_currencies',\n",
       " 'replace_currency_symbols',\n",
       " 'replace_dates',\n",
       " 'replace_emails',\n",
       " 'replace_emojis',\n",
       " 'replace_numbers',\n",
       " 'replace_phone_numbers',\n",
       " 'replace_special_characters',\n",
       " 'replace_term',\n",
       " 'replace_urls',\n",
       " 'string',\n",
       " 'term_freq',\n",
       " 'to_txt',\n",
       " 'word_freq',\n",
       " 'word_length_freq']"
      ]
     },
     "execution_count": 9,
     "metadata": {},
     "output_type": "execute_result"
    }
   ],
   "source": [
    "dir(nfx)"
   ]
  },
  {
   "cell_type": "code",
   "execution_count": 10,
   "id": "cda243c9",
   "metadata": {},
   "outputs": [],
   "source": [
    "# Clean Text:stopwords,special charac\n",
    "df['clean_course_title'] = df['CATEGORY'].apply(nfx.remove_stopwords)"
   ]
  },
  {
   "cell_type": "code",
   "execution_count": 11,
   "id": "15daa56f",
   "metadata": {},
   "outputs": [],
   "source": [
    "# Clean Text:stopwords,special charac\n",
    "df['clean_course_title'] = df['clean_course_title'].apply(nfx.remove_special_characters)"
   ]
  },
  {
   "cell_type": "code",
   "execution_count": 12,
   "id": "bd878e13",
   "metadata": {},
   "outputs": [],
   "source": [
    "df1 = df[['CATEGORY','COURSE', 'ID_USER', \"TENANTS\", 'REGION', 'clean_course_title']]\n"
   ]
  },
  {
   "cell_type": "code",
   "execution_count": 13,
   "id": "84006ceb",
   "metadata": {},
   "outputs": [],
   "source": [
    "from sklearn.feature_extraction.text import CountVectorizer\n",
    "# Vectorize our Text\n",
    "count_vect = CountVectorizer()\n",
    "cv_mat = count_vect.fit_transform(df1['clean_course_title'])"
   ]
  },
  {
   "cell_type": "code",
   "execution_count": 14,
   "id": "efb5c915",
   "metadata": {},
   "outputs": [
    {
     "data": {
      "text/plain": [
       "<26267x512 sparse matrix of type '<class 'numpy.int64'>'\n",
       "\twith 114592 stored elements in Compressed Sparse Row format>"
      ]
     },
     "execution_count": 14,
     "metadata": {},
     "output_type": "execute_result"
    }
   ],
   "source": [
    "# Sparse\n",
    "cv_mat"
   ]
  },
  {
   "cell_type": "code",
   "execution_count": 15,
   "id": "56667c97",
   "metadata": {},
   "outputs": [
    {
     "data": {
      "text/plain": [
       "matrix([[0, 0, 0, ..., 0, 0, 0],\n",
       "        [0, 0, 0, ..., 0, 0, 0],\n",
       "        [0, 0, 0, ..., 0, 0, 0],\n",
       "        ...,\n",
       "        [0, 0, 0, ..., 0, 0, 0],\n",
       "        [0, 0, 0, ..., 0, 0, 0],\n",
       "        [0, 0, 0, ..., 0, 0, 0]], dtype=int64)"
      ]
     },
     "execution_count": 15,
     "metadata": {},
     "output_type": "execute_result"
    }
   ],
   "source": [
    "# Dense\n",
    "cv_mat.todense()"
   ]
  },
  {
   "cell_type": "code",
   "execution_count": 16,
   "id": "e72e4fcd",
   "metadata": {},
   "outputs": [],
   "source": [
    "df_cv_words = pd.DataFrame(cv_mat.todense(),columns=count_vect.get_feature_names())\n"
   ]
  },
  {
   "cell_type": "code",
   "execution_count": 17,
   "id": "3fc32aa3",
   "metadata": {},
   "outputs": [
    {
     "data": {
      "text/html": [
       "<div>\n",
       "<style scoped>\n",
       "    .dataframe tbody tr th:only-of-type {\n",
       "        vertical-align: middle;\n",
       "    }\n",
       "\n",
       "    .dataframe tbody tr th {\n",
       "        vertical-align: top;\n",
       "    }\n",
       "\n",
       "    .dataframe thead th {\n",
       "        text-align: right;\n",
       "    }\n",
       "</style>\n",
       "<table border=\"1\" class=\"dataframe\">\n",
       "  <thead>\n",
       "    <tr style=\"text-align: right;\">\n",
       "      <th></th>\n",
       "      <th>3d</th>\n",
       "      <th>academy</th>\n",
       "      <th>accountancy</th>\n",
       "      <th>accounting</th>\n",
       "      <th>acquisition</th>\n",
       "      <th>action</th>\n",
       "      <th>administration</th>\n",
       "      <th>advanced</th>\n",
       "      <th>aggregate</th>\n",
       "      <th>aggregation</th>\n",
       "      <th>...</th>\n",
       "      <th>web</th>\n",
       "      <th>websites</th>\n",
       "      <th>wickams</th>\n",
       "      <th>win</th>\n",
       "      <th>workbench</th>\n",
       "      <th>workflow</th>\n",
       "      <th>xfactor</th>\n",
       "      <th>yellowbrick</th>\n",
       "      <th>your</th>\n",
       "      <th>zap</th>\n",
       "    </tr>\n",
       "  </thead>\n",
       "  <tbody>\n",
       "    <tr>\n",
       "      <th>0</th>\n",
       "      <td>0</td>\n",
       "      <td>0</td>\n",
       "      <td>0</td>\n",
       "      <td>0</td>\n",
       "      <td>0</td>\n",
       "      <td>0</td>\n",
       "      <td>0</td>\n",
       "      <td>0</td>\n",
       "      <td>0</td>\n",
       "      <td>0</td>\n",
       "      <td>...</td>\n",
       "      <td>0</td>\n",
       "      <td>0</td>\n",
       "      <td>0</td>\n",
       "      <td>0</td>\n",
       "      <td>0</td>\n",
       "      <td>0</td>\n",
       "      <td>0</td>\n",
       "      <td>0</td>\n",
       "      <td>0</td>\n",
       "      <td>0</td>\n",
       "    </tr>\n",
       "    <tr>\n",
       "      <th>1</th>\n",
       "      <td>0</td>\n",
       "      <td>0</td>\n",
       "      <td>0</td>\n",
       "      <td>0</td>\n",
       "      <td>0</td>\n",
       "      <td>1</td>\n",
       "      <td>0</td>\n",
       "      <td>0</td>\n",
       "      <td>0</td>\n",
       "      <td>0</td>\n",
       "      <td>...</td>\n",
       "      <td>0</td>\n",
       "      <td>0</td>\n",
       "      <td>0</td>\n",
       "      <td>0</td>\n",
       "      <td>0</td>\n",
       "      <td>0</td>\n",
       "      <td>0</td>\n",
       "      <td>0</td>\n",
       "      <td>0</td>\n",
       "      <td>0</td>\n",
       "    </tr>\n",
       "    <tr>\n",
       "      <th>2</th>\n",
       "      <td>0</td>\n",
       "      <td>0</td>\n",
       "      <td>0</td>\n",
       "      <td>0</td>\n",
       "      <td>0</td>\n",
       "      <td>0</td>\n",
       "      <td>0</td>\n",
       "      <td>0</td>\n",
       "      <td>0</td>\n",
       "      <td>0</td>\n",
       "      <td>...</td>\n",
       "      <td>0</td>\n",
       "      <td>0</td>\n",
       "      <td>0</td>\n",
       "      <td>0</td>\n",
       "      <td>0</td>\n",
       "      <td>0</td>\n",
       "      <td>0</td>\n",
       "      <td>0</td>\n",
       "      <td>0</td>\n",
       "      <td>0</td>\n",
       "    </tr>\n",
       "    <tr>\n",
       "      <th>3</th>\n",
       "      <td>0</td>\n",
       "      <td>0</td>\n",
       "      <td>0</td>\n",
       "      <td>0</td>\n",
       "      <td>0</td>\n",
       "      <td>0</td>\n",
       "      <td>0</td>\n",
       "      <td>0</td>\n",
       "      <td>0</td>\n",
       "      <td>0</td>\n",
       "      <td>...</td>\n",
       "      <td>0</td>\n",
       "      <td>0</td>\n",
       "      <td>0</td>\n",
       "      <td>0</td>\n",
       "      <td>0</td>\n",
       "      <td>0</td>\n",
       "      <td>0</td>\n",
       "      <td>0</td>\n",
       "      <td>0</td>\n",
       "      <td>0</td>\n",
       "    </tr>\n",
       "    <tr>\n",
       "      <th>4</th>\n",
       "      <td>0</td>\n",
       "      <td>0</td>\n",
       "      <td>0</td>\n",
       "      <td>0</td>\n",
       "      <td>0</td>\n",
       "      <td>0</td>\n",
       "      <td>0</td>\n",
       "      <td>0</td>\n",
       "      <td>0</td>\n",
       "      <td>0</td>\n",
       "      <td>...</td>\n",
       "      <td>0</td>\n",
       "      <td>0</td>\n",
       "      <td>0</td>\n",
       "      <td>0</td>\n",
       "      <td>0</td>\n",
       "      <td>0</td>\n",
       "      <td>0</td>\n",
       "      <td>0</td>\n",
       "      <td>0</td>\n",
       "      <td>0</td>\n",
       "    </tr>\n",
       "  </tbody>\n",
       "</table>\n",
       "<p>5 rows × 512 columns</p>\n",
       "</div>"
      ],
      "text/plain": [
       "   3d  academy  accountancy  accounting  acquisition  action  administration  \\\n",
       "0   0        0            0           0            0       0               0   \n",
       "1   0        0            0           0            0       1               0   \n",
       "2   0        0            0           0            0       0               0   \n",
       "3   0        0            0           0            0       0               0   \n",
       "4   0        0            0           0            0       0               0   \n",
       "\n",
       "   advanced  aggregate  aggregation  ...  web  websites  wickams  win  \\\n",
       "0         0          0            0  ...    0         0        0    0   \n",
       "1         0          0            0  ...    0         0        0    0   \n",
       "2         0          0            0  ...    0         0        0    0   \n",
       "3         0          0            0  ...    0         0        0    0   \n",
       "4         0          0            0  ...    0         0        0    0   \n",
       "\n",
       "   workbench  workflow  xfactor  yellowbrick  your  zap  \n",
       "0          0         0        0            0     0    0  \n",
       "1          0         0        0            0     0    0  \n",
       "2          0         0        0            0     0    0  \n",
       "3          0         0        0            0     0    0  \n",
       "4          0         0        0            0     0    0  \n",
       "\n",
       "[5 rows x 512 columns]"
      ]
     },
     "execution_count": 17,
     "metadata": {},
     "output_type": "execute_result"
    }
   ],
   "source": [
    "df_cv_words.head()\n"
   ]
  },
  {
   "cell_type": "code",
   "execution_count": 18,
   "id": "194739e2",
   "metadata": {},
   "outputs": [],
   "source": [
    "# Load ML/Rc Pkgs\n",
    "from sklearn.feature_extraction.text import CountVectorizer,TfidfVectorizer\n",
    "from sklearn.metrics.pairwise import cosine_similarity,linear_kernel\n",
    "# Cosine Similarity Matrix\n",
    "cosine_sim_mat = cosine_similarity(cv_mat)"
   ]
  },
  {
   "cell_type": "code",
   "execution_count": 19,
   "id": "73f5b603",
   "metadata": {},
   "outputs": [
    {
     "data": {
      "text/plain": [
       "array([[1.        , 0.4472136 , 0.4472136 , ..., 0.        , 0.        ,\n",
       "        0.        ],\n",
       "       [0.4472136 , 1.        , 0.5       , ..., 0.        , 0.        ,\n",
       "        0.        ],\n",
       "       [0.4472136 , 0.5       , 1.        , ..., 0.        , 0.        ,\n",
       "        0.        ],\n",
       "       ...,\n",
       "       [0.        , 0.        , 0.        , ..., 1.        , 0.28867513,\n",
       "        0.40824829],\n",
       "       [0.        , 0.        , 0.        , ..., 0.28867513, 1.        ,\n",
       "        0.35355339],\n",
       "       [0.        , 0.        , 0.        , ..., 0.40824829, 0.35355339,\n",
       "        1.        ]])"
      ]
     },
     "execution_count": 19,
     "metadata": {},
     "output_type": "execute_result"
    }
   ],
   "source": [
    "cosine_sim_mat"
   ]
  },
  {
   "cell_type": "code",
   "execution_count": 20,
   "id": "1825c830",
   "metadata": {},
   "outputs": [],
   "source": [
    "# Get Course ID/Index\n",
    "course_indices = pd.Series(df.index,index=df1['CATEGORY']).drop_duplicates()"
   ]
  },
  {
   "cell_type": "code",
   "execution_count": 21,
   "id": "4c1de06f",
   "metadata": {},
   "outputs": [
    {
     "data": {
      "text/plain": [
       "CATEGORY\n",
       "Innovations in Investment Technology: Artificial Intelligence                                   0\n",
       "Artificial Intelligence Ethics in Action                                                        1\n",
       "Artificial Intelligence Privacy and Convenience                                                 2\n",
       "what is artificial intelligence?                                                                3\n",
       "Introduction to Artificial Intelligence (AI)                                                    4\n",
       "                                                                                            ...  \n",
       "Neural Networks and Deep Learning                                                           26262\n",
       "Sentiment Analysis with Deep Learning using BERT                                            26263\n",
       "Deep Learning NLP: Training GPT-2 from scratch                                              26264\n",
       "Intermediate Intelï¿½ Distribution of OpenVINOï¿½ toolkit for Deep Learning Applications    26265\n",
       "An Introduction to Practical Deep Learning                                                  26266\n",
       "Length: 26267, dtype: int64"
      ]
     },
     "execution_count": 21,
     "metadata": {},
     "output_type": "execute_result"
    }
   ],
   "source": [
    "course_indices\n"
   ]
  },
  {
   "cell_type": "code",
   "execution_count": 22,
   "id": "aadc95ee",
   "metadata": {},
   "outputs": [],
   "source": [
    "idx = course_indices"
   ]
  },
  {
   "cell_type": "code",
   "execution_count": 23,
   "id": "13bd17cb",
   "metadata": {},
   "outputs": [
    {
     "data": {
      "text/plain": [
       "CATEGORY\n",
       "Innovations in Investment Technology: Artificial Intelligence                                   0\n",
       "Artificial Intelligence Ethics in Action                                                        1\n",
       "Artificial Intelligence Privacy and Convenience                                                 2\n",
       "what is artificial intelligence?                                                                3\n",
       "Introduction to Artificial Intelligence (AI)                                                    4\n",
       "                                                                                            ...  \n",
       "Neural Networks and Deep Learning                                                           26262\n",
       "Sentiment Analysis with Deep Learning using BERT                                            26263\n",
       "Deep Learning NLP: Training GPT-2 from scratch                                              26264\n",
       "Intermediate Intelï¿½ Distribution of OpenVINOï¿½ toolkit for Deep Learning Applications    26265\n",
       "An Introduction to Practical Deep Learning                                                  26266\n",
       "Length: 26267, dtype: int64"
      ]
     },
     "execution_count": 23,
     "metadata": {},
     "output_type": "execute_result"
    }
   ],
   "source": [
    "idx"
   ]
  },
  {
   "cell_type": "code",
   "execution_count": 25,
   "id": "050e5155",
   "metadata": {},
   "outputs": [
    {
     "ename": "MemoryError",
     "evalue": "Unable to allocate 5.14 GiB for an array with shape (26267, 26267) and data type float64",
     "output_type": "error",
     "traceback": [
      "\u001b[1;31m---------------------------------------------------------------------------\u001b[0m",
      "\u001b[1;31mMemoryError\u001b[0m                               Traceback (most recent call last)",
      "\u001b[1;32m<ipython-input-25-88c5017c75b6>\u001b[0m in \u001b[0;36m<module>\u001b[1;34m\u001b[0m\n\u001b[0;32m      1\u001b[0m \u001b[1;32mimport\u001b[0m \u001b[0mnumpy\u001b[0m \u001b[1;32mas\u001b[0m \u001b[0mnp\u001b[0m\u001b[1;33m\u001b[0m\u001b[1;33m\u001b[0m\u001b[0m\n\u001b[1;32m----> 2\u001b[1;33m \u001b[0mscores\u001b[0m \u001b[1;33m=\u001b[0m \u001b[0mnp\u001b[0m\u001b[1;33m.\u001b[0m\u001b[0marray\u001b[0m\u001b[1;33m(\u001b[0m\u001b[0mlist\u001b[0m\u001b[1;33m(\u001b[0m\u001b[0menumerate\u001b[0m\u001b[1;33m(\u001b[0m\u001b[0mcosine_sim_mat\u001b[0m\u001b[1;33m[\u001b[0m\u001b[0midx\u001b[0m\u001b[1;33m]\u001b[0m\u001b[1;33m.\u001b[0m\u001b[0mastype\u001b[0m\u001b[1;33m(\u001b[0m\u001b[1;34m'int'\u001b[0m\u001b[1;33m)\u001b[0m\u001b[1;33m)\u001b[0m\u001b[1;33m)\u001b[0m\u001b[1;33m)\u001b[0m\u001b[1;33m\u001b[0m\u001b[1;33m\u001b[0m\u001b[0m\n\u001b[0m",
      "\u001b[1;31mMemoryError\u001b[0m: Unable to allocate 5.14 GiB for an array with shape (26267, 26267) and data type float64"
     ]
    }
   ],
   "source": [
    "import numpy as np\n",
    "scores = np.array(list(enumerate(cosine_sim_mat[idx])))\n"
   ]
  },
  {
   "cell_type": "code",
   "execution_count": null,
   "id": "151dba54",
   "metadata": {},
   "outputs": [],
   "source": [
    "# Selected Courses Indices\n",
    "selected_course_indices = [i[0] for i in scores]"
   ]
  },
  {
   "cell_type": "code",
   "execution_count": null,
   "id": "4afe2913",
   "metadata": {},
   "outputs": [],
   "source": [
    "# Selected Courses Scores\n",
    "selected_course_scores = [i[1] for i in scores]"
   ]
  },
  {
   "cell_type": "code",
   "execution_count": null,
   "id": "8e054e1c",
   "metadata": {},
   "outputs": [],
   "source": [
    "recommended_result = df1['CATEGORY'].iloc[selected_course_indices]\n"
   ]
  },
  {
   "cell_type": "code",
   "execution_count": null,
   "id": "9a7eff06",
   "metadata": {},
   "outputs": [],
   "source": [
    "rec_df = pd.DataFrame(recommended_result)\n"
   ]
  },
  {
   "cell_type": "code",
   "execution_count": null,
   "id": "93462ff8",
   "metadata": {},
   "outputs": [],
   "source": [
    "df1.shape"
   ]
  },
  {
   "cell_type": "code",
   "execution_count": null,
   "id": "01567e19",
   "metadata": {},
   "outputs": [],
   "source": [
    "rec_df.shape"
   ]
  },
  {
   "cell_type": "code",
   "execution_count": null,
   "id": "d9baab91",
   "metadata": {},
   "outputs": [],
   "source": [
    "rec_df['similarity_scores'] = selected_course_scores\n"
   ]
  },
  {
   "cell_type": "code",
   "execution_count": null,
   "id": "141c4915",
   "metadata": {},
   "outputs": [],
   "source": [
    "rec_df\n"
   ]
  },
  {
   "cell_type": "code",
   "execution_count": null,
   "id": "9a8b1c7c",
   "metadata": {},
   "outputs": [],
   "source": [
    "def recommend_course(title,num_of_rec=10):\n",
    "    # ID for title\n",
    "    idx = course_indices[title]\n",
    "    # Course Indice\n",
    "    # Search inside cosine_sim_mat\n",
    "    scores = list(enumerate(cosine_sim_mat[idx]))\n",
    "    # Scores\n",
    "    # Sort Scores\n",
    "#     sorted_scores = sorted(scores,key=lambda x:x[1],reverse=True)\n",
    "    # Recomm\n",
    "    selected_course_indices = [i[0] for i in scores]\n",
    "    selected_course_scores = [i[1] for i in scores]\n",
    "    result = df['CATEGORY'].iloc[selected_course_indices]\n",
    "    rec_df = pd.DataFrame(result)\n",
    "    rec_df['similarity_scores'] = selected_course_scores\n",
    "    return rec_df.head(num_of_rec)"
   ]
  },
  {
   "cell_type": "code",
   "execution_count": null,
   "id": "8d9c56a9",
   "metadata": {},
   "outputs": [],
   "source": [
    "recommend_course('An Introduction to Practical Deep Learning',20)\n"
   ]
  },
  {
   "cell_type": "code",
   "execution_count": null,
   "id": "5dc2fe00",
   "metadata": {},
   "outputs": [],
   "source": []
  },
  {
   "cell_type": "code",
   "execution_count": null,
   "id": "9626fce9",
   "metadata": {},
   "outputs": [],
   "source": []
  },
  {
   "cell_type": "code",
   "execution_count": null,
   "id": "d15e5421",
   "metadata": {},
   "outputs": [],
   "source": []
  }
 ],
 "metadata": {
  "kernelspec": {
   "display_name": "Python 3",
   "language": "python",
   "name": "python3"
  },
  "language_info": {
   "codemirror_mode": {
    "name": "ipython",
    "version": 3
   },
   "file_extension": ".py",
   "mimetype": "text/x-python",
   "name": "python",
   "nbconvert_exporter": "python",
   "pygments_lexer": "ipython3",
   "version": "3.6.13"
  }
 },
 "nbformat": 4,
 "nbformat_minor": 5
}
