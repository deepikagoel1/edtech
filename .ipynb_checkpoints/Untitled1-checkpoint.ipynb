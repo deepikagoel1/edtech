{
 "cells": [
  {
   "cell_type": "code",
   "execution_count": 1,
   "id": "852df44e",
   "metadata": {},
   "outputs": [
    {
     "name": "stdout",
     "output_type": "stream",
     "text": [
      "Requirement already satisfied: snowflake-connector-python in c:\\users\\deepika\\anaconda3\\envs\\cows\\lib\\site-packages (2.3.8)\n",
      "Requirement already satisfied: boto3<2.0.0,>=1.4.4 in c:\\users\\deepika\\anaconda3\\envs\\cows\\lib\\site-packages (from snowflake-connector-python) (1.20.51)\n",
      "Requirement already satisfied: cffi<2.0.0,>=1.9 in c:\\users\\deepika\\anaconda3\\envs\\cows\\lib\\site-packages (from snowflake-connector-python) (1.14.3)\n",
      "Requirement already satisfied: azure-common<2.0.0 in c:\\users\\deepika\\anaconda3\\envs\\cows\\lib\\site-packages (from snowflake-connector-python) (1.1.28)\n",
      "Requirement already satisfied: certifi<2021.0.0 in c:\\users\\deepika\\anaconda3\\envs\\cows\\lib\\site-packages (from snowflake-connector-python) (2020.12.5)\n",
      "Requirement already satisfied: idna<3,>=2.5 in c:\\users\\deepika\\anaconda3\\envs\\cows\\lib\\site-packages (from snowflake-connector-python) (2.10)\n",
      "Requirement already satisfied: requests<3.0.0 in c:\\users\\deepika\\anaconda3\\envs\\cows\\lib\\site-packages (from snowflake-connector-python) (2.24.0)\n",
      "Requirement already satisfied: pyOpenSSL<20.0.0,>=16.2.0 in c:\\users\\deepika\\anaconda3\\envs\\cows\\lib\\site-packages (from snowflake-connector-python) (19.1.0)\n",
      "Requirement already satisfied: cryptography<4.0.0,>=2.5.0 in c:\\users\\deepika\\anaconda3\\envs\\cows\\lib\\site-packages (from snowflake-connector-python) (3.1.1)\n",
      "Requirement already satisfied: chardet<4,>=3.0.2 in c:\\users\\deepika\\anaconda3\\envs\\cows\\lib\\site-packages (from snowflake-connector-python) (3.0.4)\n",
      "Requirement already satisfied: asn1crypto<2.0.0,>0.24.0 in c:\\users\\deepika\\anaconda3\\envs\\cows\\lib\\site-packages (from snowflake-connector-python) (1.4.0)\n",
      "Requirement already satisfied: setuptools>34.0.0 in c:\\users\\deepika\\anaconda3\\envs\\cows\\lib\\site-packages (from snowflake-connector-python) (58.0.4)\n",
      "Requirement already satisfied: oscrypto<2.0.0 in c:\\users\\deepika\\anaconda3\\envs\\cows\\lib\\site-packages (from snowflake-connector-python) (1.2.1)\n",
      "Requirement already satisfied: azure-storage-blob<13.0.0,>=12.0.0 in c:\\users\\deepika\\anaconda3\\envs\\cows\\lib\\site-packages (from snowflake-connector-python) (12.9.0)\n",
      "Requirement already satisfied: pyjwt<2.0.0 in c:\\users\\deepika\\anaconda3\\envs\\cows\\lib\\site-packages (from snowflake-connector-python) (1.7.1)\n",
      "Requirement already satisfied: pytz<2021.0 in c:\\users\\deepika\\anaconda3\\envs\\cows\\lib\\site-packages (from snowflake-connector-python) (2020.1)\n",
      "Requirement already satisfied: pycryptodomex!=3.5.0,<4.0.0,>=3.2 in c:\\users\\deepika\\anaconda3\\envs\\cows\\lib\\site-packages (from snowflake-connector-python) (3.14.1)\n",
      "Requirement already satisfied: msrest>=0.6.21 in c:\\users\\deepika\\anaconda3\\envs\\cows\\lib\\site-packages (from azure-storage-blob<13.0.0,>=12.0.0->snowflake-connector-python) (0.6.21)\n",
      "Requirement already satisfied: azure-core<2.0.0,>=1.10.0 in c:\\users\\deepika\\anaconda3\\envs\\cows\\lib\\site-packages (from azure-storage-blob<13.0.0,>=12.0.0->snowflake-connector-python) (1.22.0)\n",
      "Requirement already satisfied: six>=1.11.0 in c:\\users\\deepika\\anaconda3\\envs\\cows\\lib\\site-packages (from azure-core<2.0.0,>=1.10.0->azure-storage-blob<13.0.0,>=12.0.0->snowflake-connector-python) (1.15.0)\n",
      "Requirement already satisfied: s3transfer<0.6.0,>=0.5.0 in c:\\users\\deepika\\anaconda3\\envs\\cows\\lib\\site-packages (from boto3<2.0.0,>=1.4.4->snowflake-connector-python) (0.5.1)\n",
      "Requirement already satisfied: botocore<1.24.0,>=1.23.51 in c:\\users\\deepika\\anaconda3\\envs\\cows\\lib\\site-packages (from boto3<2.0.0,>=1.4.4->snowflake-connector-python) (1.23.51)\n",
      "Requirement already satisfied: jmespath<1.0.0,>=0.7.1 in c:\\users\\deepika\\anaconda3\\envs\\cows\\lib\\site-packages (from boto3<2.0.0,>=1.4.4->snowflake-connector-python) (0.10.0)\n",
      "Requirement already satisfied: urllib3<1.27,>=1.25.4 in c:\\users\\deepika\\anaconda3\\envs\\cows\\lib\\site-packages (from botocore<1.24.0,>=1.23.51->boto3<2.0.0,>=1.4.4->snowflake-connector-python) (1.25.11)\n",
      "Requirement already satisfied: python-dateutil<3.0.0,>=2.1 in c:\\users\\deepika\\anaconda3\\envs\\cows\\lib\\site-packages (from botocore<1.24.0,>=1.23.51->boto3<2.0.0,>=1.4.4->snowflake-connector-python) (2.8.1)\n",
      "Requirement already satisfied: pycparser in c:\\users\\deepika\\anaconda3\\envs\\cows\\lib\\site-packages (from cffi<2.0.0,>=1.9->snowflake-connector-python) (2.20)\n",
      "Requirement already satisfied: requests-oauthlib>=0.5.0 in c:\\users\\deepika\\anaconda3\\envs\\cows\\lib\\site-packages (from msrest>=0.6.21->azure-storage-blob<13.0.0,>=12.0.0->snowflake-connector-python) (1.3.0)\n",
      "Requirement already satisfied: isodate>=0.6.0 in c:\\users\\deepika\\anaconda3\\envs\\cows\\lib\\site-packages (from msrest>=0.6.21->azure-storage-blob<13.0.0,>=12.0.0->snowflake-connector-python) (0.6.1)\n",
      "Requirement already satisfied: oauthlib>=3.0.0 in c:\\users\\deepika\\anaconda3\\envs\\cows\\lib\\site-packages (from requests-oauthlib>=0.5.0->msrest>=0.6.21->azure-storage-blob<13.0.0,>=12.0.0->snowflake-connector-python) (3.1.0)\n"
     ]
    }
   ],
   "source": [
    "!pip3 install snowflake-connector-python"
   ]
  },
  {
   "cell_type": "code",
   "execution_count": null,
   "id": "8a5f1243",
   "metadata": {},
   "outputs": [
    {
     "name": "stdout",
     "output_type": "stream",
     "text": [
      "Initiating login request with your identity provider. A browser window should have opened for you to complete the login. If you can't see it, check existing browser windows, or your OS settings. Press CTRL+C to abort and try again...\n"
     ]
    }
   ],
   "source": [
    "import snowflake.connector\n",
    "import sys\n",
    "con = snowflake.connector.connect(\n",
    "    user=\"Deepika\", #You can get it by executing in UI: desc user <username>;\n",
    "    account=\"https://go75189.us-east-2.aws.snowflakecomputing.com/\", #Add all of the account-name between https:// and snowflakecomputing.com\n",
    "    authenticator=\"externalbrowser\",\n",
    ")\n",
    "cur = con.cursor()\n",
    "print(sys.executable)\n",
    "print(sys.version)\n",
    "print(sys.version_info)\n",
    "try:\n",
    "    cur.execute(\"select current_date\")\n",
    "    one_row=cur.fetchone()\n",
    "    print(\"Current_Date:\",one_row[0])\n",
    "    cur.execute(\"SELECT current_version()\")\n",
    "    one_row = cur.fetchone()\n",
    "    print(\"Snowfalke_Version:\",one_row[0])\n",
    "finally:\n",
    "    cur.close()\n",
    "cur.close()"
   ]
  },
  {
   "cell_type": "code",
   "execution_count": null,
   "id": "22114765",
   "metadata": {},
   "outputs": [],
   "source": [
    "#!/usr/bin/env python\n",
    "import snowflake.connector\n",
    "\n",
    "# Gets the version\n",
    "ctx = snowflake.connector.connect(\n",
    "    user='Deepika',\n",
    "    password='Life@123',\n",
    "    account='https://go75189.us-east-2.aws.snowflakecomputing.com/'\n",
    "    )\n",
    "cs = ctx.cursor()\n",
    "try:\n",
    "    cs.execute(\"SELECT current_version()\")\n",
    "    one_row = cs.fetchone()\n",
    "    print(one_row[0])\n",
    "finally:\n",
    "    cs.close()\n",
    "ctx.close()"
   ]
  },
  {
   "cell_type": "code",
   "execution_count": null,
   "id": "b57c1a16",
   "metadata": {},
   "outputs": [],
   "source": []
  }
 ],
 "metadata": {
  "kernelspec": {
   "display_name": "Python 3",
   "language": "python",
   "name": "python3"
  },
  "language_info": {
   "codemirror_mode": {
    "name": "ipython",
    "version": 3
   },
   "file_extension": ".py",
   "mimetype": "text/x-python",
   "name": "python",
   "nbconvert_exporter": "python",
   "pygments_lexer": "ipython3",
   "version": "3.6.13"
  }
 },
 "nbformat": 4,
 "nbformat_minor": 5
}
